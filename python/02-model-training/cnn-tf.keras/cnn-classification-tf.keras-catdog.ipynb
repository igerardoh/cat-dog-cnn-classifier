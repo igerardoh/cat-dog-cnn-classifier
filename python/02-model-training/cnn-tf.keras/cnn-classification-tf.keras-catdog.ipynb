{
 "cells": [
  {
   "cell_type": "markdown",
   "metadata": {},
   "source": [
    "# CAT-DOG IMAGE CLASSIFIER"
   ]
  },
  {
   "cell_type": "markdown",
   "metadata": {},
   "source": [
    "<p><b>Status: <span style=color:orange;>In Progress</span></b></p>"
   ]
  },
  {
   "cell_type": "markdown",
   "metadata": {},
   "source": [
    "##### LOCATE IMAGE FILE NAMES\n",
    "Cat : 0 | Dog : 1"
   ]
  },
  {
   "cell_type": "code",
   "execution_count": 1,
   "metadata": {},
   "outputs": [
    {
     "name": "stdout",
     "output_type": "stream",
     "text": [
      "Total number of files :  300\n"
     ]
    },
    {
     "data": {
      "text/plain": [
       "['Dog/794.jpg',\n",
       " 'Cat/11371.jpg',\n",
       " 'Dog/3937.jpg',\n",
       " 'Cat/4133.jpg',\n",
       " 'Dog/4969.jpg',\n",
       " 'Cat/9435.jpg',\n",
       " 'Cat/11272.jpg',\n",
       " 'Dog/2098.jpg',\n",
       " 'Dog/11725.jpg',\n",
       " 'Dog/12295.jpg']"
      ]
     },
     "execution_count": 1,
     "metadata": {},
     "output_type": "execute_result"
    }
   ],
   "source": [
    "import os\n",
    "import random\n",
    "import pandas as pd\n",
    "import numpy as np\n",
    "\n",
    "data_dir = '../../../data/'\n",
    "class_list = os.listdir(data_dir)  # get classes based on folder names\n",
    "\n",
    "filename_list = []\n",
    "\n",
    "# make a list of the images' file names, cats and dogs\n",
    "for _class in class_list:\n",
    "    filename_list_class = os.listdir(data_dir + _class)\n",
    "    filename_list_class = [(_class + '/' + fname) for fname in filename_list_class if fname.endswith('.jpg')]\n",
    "    filename_list += filename_list_class\n",
    "\n",
    "# shuffle the dataset\n",
    "np.random.seed(45)\n",
    "np.random.shuffle(filename_list)\n",
    "\n",
    "# adjust the dataset size\n",
    "filename_list = filename_list[:300]\n",
    "\n",
    "print('Total number of files : ', len(filename_list))\n",
    "filename_list[:10]"
   ]
  },
  {
   "cell_type": "markdown",
   "metadata": {},
   "source": [
    "##### PREPARE TO STORE DATASET CHARACTERISTICS"
   ]
  },
  {
   "cell_type": "code",
   "execution_count": 2,
   "metadata": {},
   "outputs": [],
   "source": [
    "# this will store the information from every image\n",
    "X = []  # feature\n",
    "y = []  # labels\n",
    "\n",
    "channels = 3        # three colors: RGB\n",
    "image_size = 64     # image will be converted to 64x64 images\n",
    "\n",
    "n_images = len(filename_list)\n",
    "\n",
    "X = np.ndarray(shape=(n_images, image_size, image_size, channels), dtype=np.float32)"
   ]
  },
  {
   "cell_type": "markdown",
   "metadata": {},
   "source": [
    "##### EXTRACT IMAGE INFORMATION\n",
    "This block will read every image to resize them and store their labels"
   ]
  },
  {
   "cell_type": "code",
   "execution_count": 3,
   "metadata": {},
   "outputs": [
    {
     "data": {
      "application/vnd.jupyter.widget-view+json": {
       "model_id": "daff146d820745838a40e3d0c14a5b36",
       "version_major": 2,
       "version_minor": 0
      },
      "text/plain": [
       "HBox(children=(FloatProgress(value=0.0, max=300.0), HTML(value='')))"
      ]
     },
     "metadata": {},
     "output_type": "display_data"
    },
    {
     "name": "stdout",
     "output_type": "stream",
     "text": [
      "\n",
      "0 invalid file(s) were found\n",
      "\n",
      "Printing the resulting dataset :\n",
      "\n",
      "LABEL : Dog\n"
     ]
    },
    {
     "data": {
      "image/png": "[encoded data removed]",
      "text/plain": [
       "<Figure size 432x288 with 1 Axes>"
      ]
     },
     "metadata": {
      "needs_background": "light"
     },
     "output_type": "display_data"
    },
    {
     "name": "stdout",
     "output_type": "stream",
     "text": [
      "\n",
      "Raw data (first image):\n"
     ]
    },
    {
     "data": {
      "text/plain": [
       "array([[[191., 144.,  82.],\n",
       "        [138.,  88.,  35.],\n",
       "        [183., 140.,  87.],\n",
       "        ...,\n",
       "        [ 35.,  59.,  51.],\n",
       "        [ 37.,  58.,  50.],\n",
       "        [ 28.,  47.,  39.]],\n",
       "\n",
       "       [[198., 152.,  87.],\n",
       "        [133.,  84.,  28.],\n",
       "        [182., 135.,  83.],\n",
       "        ...,\n",
       "        [ 36.,  60.,  52.],\n",
       "        [ 38.,  59.,  51.],\n",
       "        [ 35.,  50.,  43.]],\n",
       "\n",
       "       [[207., 162.,  95.],\n",
       "        [166., 119.,  59.],\n",
       "        [160., 111.,  60.],\n",
       "        ...,\n",
       "        [ 33.,  57.,  49.],\n",
       "        [ 41.,  63.,  55.],\n",
       "        [ 47.,  67.,  59.]],\n",
       "\n",
       "       ...,\n",
       "\n",
       "       [[ 16.,  14.,  11.],\n",
       "        [  9.,   8.,   5.],\n",
       "        [  4.,   4.,   1.],\n",
       "        ...,\n",
       "        [ 38.,  48.,  38.],\n",
       "        [ 33.,  44.,  34.],\n",
       "        [ 36.,  49.,  38.]],\n",
       "\n",
       "       [[ 14.,  13.,   9.],\n",
       "        [ 10.,   9.,   5.],\n",
       "        [ 17.,  18.,  14.],\n",
       "        ...,\n",
       "        [ 36.,  47.,  39.],\n",
       "        [ 30.,  41.,  31.],\n",
       "        [ 29.,  43.,  31.]],\n",
       "\n",
       "       [[ 24.,  24.,  18.],\n",
       "        [ 20.,  20.,  14.],\n",
       "        [ 28.,  30.,  23.],\n",
       "        ...,\n",
       "        [ 35.,  44.,  34.],\n",
       "        [ 32.,  40.,  30.],\n",
       "        [ 31.,  39.,  32.]]], dtype=float32)"
      ]
     },
     "execution_count": 3,
     "metadata": {},
     "output_type": "execute_result"
    }
   ],
   "source": [
    "%matplotlib inline\n",
    "from skimage.transform import rescale, resize\n",
    "import matplotlib.pyplot as plt\n",
    "import cv2\n",
    "\n",
    "# deploy a progress bar\n",
    "try:\n",
    "    from tqdm.notebook import tqdm\n",
    "except ImportError:\n",
    "    def tqdm(x, *args, **kwargs):\n",
    "        return x\n",
    "\n",
    "\n",
    "# make a list for the name of failed files\n",
    "fail_dir_list = []\n",
    "\n",
    "# count the number of valid images that were read\n",
    "img_counter = 0\n",
    "\n",
    "for f in tqdm(range(len(filename_list))):\n",
    "    try:\n",
    "        # read every image\n",
    "        img_path = data_dir + filename_list[f]\n",
    "        img = cv2.imread(img_path, 1)  # 1 : Color\n",
    "\n",
    "        # resize every image to the desired size\n",
    "        img = cv2.resize(img,(image_size,image_size))\n",
    "\n",
    "        # build the list with feature data [RGB values]\n",
    "        X[img_counter, :, :, :] = img\n",
    "\n",
    "        # split image directory name\n",
    "        fname_split = filename_list[f].split('/')  # =[Cat, 10.jpg] example\n",
    "        \n",
    "        # build the list with labels [cats | dogs]\n",
    "        class_name = fname_split[0]\n",
    "        y.append(class_name)\n",
    "\n",
    "        img_counter += 1\n",
    "\n",
    "    except Exception as e:\n",
    "        # log names of files with errors\n",
    "        fail_dir_list.append(fname)\n",
    "        pass\n",
    "\n",
    "# remove empty arrays\n",
    "X = X[:img_counter]\n",
    "\n",
    "print('{} invalid file(s) were found\\n'.format(len(fail_dir_list)))\n",
    "print('Printing the resulting dataset :\\n')\n",
    "\n",
    "# plot a sample from the list of images [features]\n",
    "print('LABEL : ' + y[0])\n",
    "plt.imshow(cv2.cvtColor(X[0], cv2.COLOR_BGR2RGB).astype(np.uint8))\n",
    "plt.show()\n",
    "\n",
    "print('\\nRaw data (first image):')\n",
    "X[0]"
   ]
  },
  {
   "cell_type": "markdown",
   "metadata": {},
   "source": [
    "##### TRANSFORM THE TARGET VALUES TO ONE-HOT ENCODING"
   ]
  },
  {
   "cell_type": "code",
   "execution_count": 4,
   "metadata": {},
   "outputs": [
    {
     "data": {
      "text/html": [
       "<div>\n",
       "<style scoped>\n",
       "    .dataframe tbody tr th:only-of-type {\n",
       "        vertical-align: middle;\n",
       "    }\n",
       "\n",
       "    .dataframe tbody tr th {\n",
       "        vertical-align: top;\n",
       "    }\n",
       "\n",
       "    .dataframe thead th {\n",
       "        text-align: right;\n",
       "    }\n",
       "</style>\n",
       "<table border=\"1\" class=\"dataframe\">\n",
       "  <thead>\n",
       "    <tr style=\"text-align: right;\">\n",
       "      <th></th>\n",
       "      <th>Cat</th>\n",
       "      <th>Dog</th>\n",
       "    </tr>\n",
       "  </thead>\n",
       "  <tbody>\n",
       "    <tr>\n",
       "      <th>0</th>\n",
       "      <td>0</td>\n",
       "      <td>1</td>\n",
       "    </tr>\n",
       "    <tr>\n",
       "      <th>1</th>\n",
       "      <td>1</td>\n",
       "      <td>0</td>\n",
       "    </tr>\n",
       "    <tr>\n",
       "      <th>2</th>\n",
       "      <td>0</td>\n",
       "      <td>1</td>\n",
       "    </tr>\n",
       "    <tr>\n",
       "      <th>3</th>\n",
       "      <td>1</td>\n",
       "      <td>0</td>\n",
       "    </tr>\n",
       "    <tr>\n",
       "      <th>4</th>\n",
       "      <td>0</td>\n",
       "      <td>1</td>\n",
       "    </tr>\n",
       "  </tbody>\n",
       "</table>\n",
       "</div>"
      ],
      "text/plain": [
       "   Cat  Dog\n",
       "0    0    1\n",
       "1    1    0\n",
       "2    0    1\n",
       "3    1    0\n",
       "4    0    1"
      ]
     },
     "execution_count": 4,
     "metadata": {},
     "output_type": "execute_result"
    }
   ],
   "source": [
    "y = pd.get_dummies(y)\n",
    "y.head()"
   ]
  },
  {
   "cell_type": "markdown",
   "metadata": {},
   "source": [
    "##### SPLIT THE FILE NAMES INTO TRAINING AND TESTING SETS"
   ]
  },
  {
   "cell_type": "code",
   "execution_count": 5,
   "metadata": {},
   "outputs": [
    {
     "name": "stdout",
     "output_type": "stream",
     "text": [
      "Data shapes:\n",
      "\n",
      "X_train : (240, 64, 64, 3)\n",
      "y_train : (240, 2)\n",
      "\n",
      "X_test : (60, 64, 64, 3)\n",
      "y_test : (60, 2)\n"
     ]
    }
   ],
   "source": [
    "from sklearn.model_selection import train_test_split\n",
    "\n",
    "# split the dataset into 2 training and 2 testing sets\n",
    "X_train, X_test, y_train, y_test = train_test_split(X, y.values, test_size=0.2, random_state=13)\n",
    "\n",
    "# Normalize pixel values to be between 0 and 1\n",
    "X_train, X_test = X_train / 255.0, X_test / 255.0\n",
    "\n",
    "print('Data shapes:\\n')\n",
    "print('X_train : {}\\ny_train : {}\\n\\nX_test : {}\\ny_test : {}'.format(np.shape(X_train),\n",
    "                                                                      np.shape(y_train),\n",
    "                                                                      np.shape(X_test),\n",
    "                                                                      np.shape(y_test)))"
   ]
  },
  {
   "cell_type": "markdown",
   "metadata": {},
   "source": [
    "##### DEFINE NETWORK PARAMETERS"
   ]
  },
  {
   "cell_type": "code",
   "execution_count": 6,
   "metadata": {},
   "outputs": [],
   "source": [
    "#extract images properties\n",
    "image_width  = np.shape(X_test)[1]\n",
    "image_height = np.shape(X_test)[2]\n",
    "n_channel  = np.shape(X_test)[3]\n",
    "n_classes = np.shape(y_train)[1]\n",
    "\n",
    "# count number of samples in each set of data\n",
    "n_train = np.shape(X_train)[0]\n",
    "n_test = np.shape(X_test)[0]\n",
    "\n",
    "# define amount of neurons\n",
    "n_layer_in = None          # this will depends on the conv layer configurations\n",
    "n_layer_h1 = 1024          # first   hidden layer\n",
    "n_layer_h2 = 1024          # second  hidden layer\n",
    "n_layer_out = n_classes    # 2 neurons in output layer\n",
    "\n",
    "sigma_init = 0.01   # For randomized initialization"
   ]
  },
  {
   "cell_type": "markdown",
   "metadata": {},
   "source": [
    "##### MODEL ARCHITECTURE"
   ]
  },
  {
   "cell_type": "code",
   "execution_count": 7,
   "metadata": {},
   "outputs": [
    {
     "name": "stdout",
     "output_type": "stream",
     "text": [
      "_________________________________________________________________\n",
      "Layer (type)                 Output Shape              Param #   \n",
      "=================================================================\n",
      "conv2d (Conv2D)              (None, 64, 64, 32)        896       \n",
      "_________________________________________________________________\n",
      "max_pooling2d (MaxPooling2D) (None, 32, 32, 32)        0         \n",
      "_________________________________________________________________\n",
      "conv2d_1 (Conv2D)            (None, 32, 32, 64)        18496     \n",
      "_________________________________________________________________\n",
      "max_pooling2d_1 (MaxPooling2 (None, 16, 16, 64)        0         \n",
      "_________________________________________________________________\n",
      "conv2d_2 (Conv2D)            (None, 16, 16, 64)        36928     \n",
      "_________________________________________________________________\n",
      "max_pooling2d_2 (MaxPooling2 (None, 8, 8, 64)          0         \n",
      "_________________________________________________________________\n",
      "flatten (Flatten)            (None, 4096)              0         \n",
      "_________________________________________________________________\n",
      "dense (Dense)                (None, 1024)              4195328   \n",
      "_________________________________________________________________\n",
      "dense_1 (Dense)              (None, 2)                 2050      \n",
      "_________________________________________________________________\n",
      "activation (Activation)      (None, 2)                 0         \n",
      "=================================================================\n",
      "Total params: 4,253,698\n",
      "Trainable params: 4,253,698\n",
      "Non-trainable params: 0\n",
      "_________________________________________________________________\n"
     ]
    }
   ],
   "source": [
    "import tensorflow\n",
    "from tensorflow.keras.models import Sequential\n",
    "from tensorflow.keras.layers import Conv2D\n",
    "from tensorflow.keras.layers import MaxPooling2D\n",
    "from tensorflow.keras.layers import Dense\n",
    "from tensorflow.keras.layers import Flatten\n",
    "from tensorflow.keras.optimizers import SGD\n",
    "from tensorflow.keras.layers import Activation\n",
    "\n",
    "model = Sequential()\n",
    "model.add(Conv2D(32, (3, 3), padding='same', activation='relu', input_shape=X_train.shape[1:]))\n",
    "model.add(MaxPooling2D(pool_size=(2, 2)))\n",
    "\n",
    "model.add(Conv2D(64, (3, 3), padding='same', activation='relu'))\n",
    "model.add(MaxPooling2D(pool_size=(2, 2)))\n",
    "\n",
    "model.add(Conv2D(64, (3, 3), padding='same', activation='relu'))\n",
    "model.add(MaxPooling2D(pool_size=(2, 2)))\n",
    "\n",
    "model.add(Flatten())\n",
    "model.add(Dense(n_layer_h1))\n",
    "model.add(Dense(n_classes))\n",
    "model.add(Activation('sigmoid'))\n",
    "\n",
    "model.summary()"
   ]
  },
  {
   "cell_type": "code",
   "execution_count": 8,
   "metadata": {},
   "outputs": [
    {
     "name": "stdout",
     "output_type": "stream",
     "text": [
      "Train on 240 samples, validate on 60 samples\n",
      "Epoch 1/10\n",
      "240/240 [==============================] - 15s 61ms/step - loss: 0.9852 - acc: 0.4938 - val_loss: 0.6924 - val_acc: 0.5167\n",
      "Epoch 2/10\n",
      "240/240 [==============================] - 10s 43ms/step - loss: 0.7184 - acc: 0.5271 - val_loss: 0.6909 - val_acc: 0.5083\n",
      "Epoch 3/10\n",
      "240/240 [==============================] - 11s 44ms/step - loss: 0.6977 - acc: 0.4792 - val_loss: 0.6885 - val_acc: 0.6083\n",
      "Epoch 4/10\n",
      "240/240 [==============================] - 11s 44ms/step - loss: 0.7046 - acc: 0.5625 - val_loss: 0.6788 - val_acc: 0.4750\n",
      "Epoch 5/10\n",
      "240/240 [==============================] - 11s 45ms/step - loss: 0.6627 - acc: 0.6167 - val_loss: 0.6725 - val_acc: 0.5333\n",
      "Epoch 6/10\n",
      "240/240 [==============================] - 11s 44ms/step - loss: 0.6456 - acc: 0.6292 - val_loss: 0.6304 - val_acc: 0.6167\n",
      "Epoch 7/10\n",
      "240/240 [==============================] - 11s 44ms/step - loss: 0.6121 - acc: 0.6688 - val_loss: 0.6242 - val_acc: 0.6250\n",
      "Epoch 8/10\n",
      "240/240 [==============================] - 11s 45ms/step - loss: 0.5588 - acc: 0.7292 - val_loss: 0.6394 - val_acc: 0.6417\n",
      "Epoch 9/10\n",
      "240/240 [==============================] - 11s 46ms/step - loss: 0.5165 - acc: 0.7479 - val_loss: 0.5765 - val_acc: 0.6333\n",
      "Epoch 10/10\n",
      "240/240 [==============================] - 11s 44ms/step - loss: 0.4000 - acc: 0.7979 - val_loss: 0.6706 - val_acc: 0.6250\n"
     ]
    }
   ],
   "source": [
    "# initiate RMSprop optimizer\n",
    "optimizer = tensorflow.keras.optimizers.RMSprop(lr=0.001, decay=1e-6)\n",
    "\n",
    "# Let's train the model using RMSprop\n",
    "model.compile(loss='binary_crossentropy', optimizer=optimizer, metrics=['accuracy'])\n",
    "\n",
    "history = model.fit(X_train, y_train, epochs=10, batch_size=10, validation_data=(X_test, y_test))"
   ]
  },
  {
   "cell_type": "code",
   "execution_count": 9,
   "metadata": {},
   "outputs": [
    {
     "data": {
      "image/png": "[encoded data removed]",
      "text/plain": [
       "<Figure size 432x288 with 1 Axes>"
      ]
     },
     "metadata": {
      "needs_background": "light"
     },
     "output_type": "display_data"
    }
   ],
   "source": [
    "%matplotlib inline\n",
    "import matplotlib.pyplot as plt\n",
    "import matplotlib.patches as mpatches\n",
    "\n",
    "# set up legend\n",
    "blue_patch = mpatches.Patch(color='blue', label='Train Accuracy [Maximize]')\n",
    "red_patch = mpatches.Patch(color='red', label='Test Accuracy [Maximize]')\n",
    "plt.legend(handles=[blue_patch,red_patch])\n",
    "\n",
    "#plot the data\n",
    "plt.plot(history.history['acc'], color='blue')\n",
    "plt.plot(history.history['val_acc'], color='red')\n",
    "\n",
    "plt.xlabel('epochs (x{})'.format('display_epoch'))\n",
    "plt.ylabel('score');"
   ]
  },
  {
   "cell_type": "code",
   "execution_count": null,
   "metadata": {},
   "outputs": [],
   "source": []
  }
 ],
 "metadata": {
  "kernelspec": {
   "display_name": "Python 3",
   "language": "python",
   "name": "python3"
  },
  "language_info": {
   "codemirror_mode": {
    "name": "ipython",
    "version": 3
   },
   "file_extension": ".py",
   "mimetype": "text/x-python",
   "name": "python",
   "nbconvert_exporter": "python",
   "pygments_lexer": "ipython3",
   "version": "3.5.5"
  }
 },
 "nbformat": 4,
 "nbformat_minor": 4
}

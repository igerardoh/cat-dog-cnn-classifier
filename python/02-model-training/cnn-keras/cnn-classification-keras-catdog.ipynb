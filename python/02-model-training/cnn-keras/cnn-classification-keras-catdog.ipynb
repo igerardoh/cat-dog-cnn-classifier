{
 "cells": [
  {
   "cell_type": "markdown",
   "metadata": {},
   "source": [
    "# CAT-DOG IMAGE CLASSIFIER"
   ]
  },
  {
   "cell_type": "markdown",
   "metadata": {},
   "source": [
    "<p><b>Status: <span style=color:orange;>In Progress</span></b></p>"
   ]
  },
  {
   "cell_type": "markdown",
   "metadata": {},
   "source": [
    "##### LOCATE IMAGE FILE NAMES\n",
    "Cat : 0 | Dog : 1"
   ]
  },
  {
   "cell_type": "code",
   "execution_count": 1,
   "metadata": {},
   "outputs": [
    {
     "name": "stdout",
     "output_type": "stream",
     "text": [
      "Total number of files :  300\n"
     ]
    },
    {
     "data": {
      "text/plain": [
       "['Dog/794.jpg',\n",
       " 'Cat/11371.jpg',\n",
       " 'Dog/3937.jpg',\n",
       " 'Cat/4133.jpg',\n",
       " 'Dog/4969.jpg',\n",
       " 'Cat/9435.jpg',\n",
       " 'Cat/11272.jpg',\n",
       " 'Dog/2098.jpg',\n",
       " 'Dog/11725.jpg',\n",
       " 'Dog/12295.jpg']"
      ]
     },
     "execution_count": 1,
     "metadata": {},
     "output_type": "execute_result"
    }
   ],
   "source": [
    "import os\n",
    "import pandas as pd\n",
    "import numpy as np\n",
    "\n",
    "data_dir = '../../../data/'\n",
    "class_list = os.listdir(data_dir)  # get classes based on folder names\n",
    "\n",
    "filename_list = []\n",
    "\n",
    "# make a list of the images' file names, cats and dogs\n",
    "for _class in class_list:\n",
    "    filename_list_class = os.listdir(data_dir + _class)\n",
    "    filename_list_class = [(_class + '/' + fname) for fname in filename_list_class if fname.endswith('.jpg')]\n",
    "    filename_list += filename_list_class\n",
    "\n",
    "# shuffle the dataset\n",
    "np.random.seed(45)\n",
    "np.random.shuffle(filename_list)\n",
    "\n",
    "# adjust the dataset size\n",
    "filename_list = filename_list[:300]\n",
    "\n",
    "print('Total number of files : ', len(filename_list))\n",
    "filename_list[:10]"
   ]
  },
  {
   "cell_type": "markdown",
   "metadata": {},
   "source": [
    "## ------- DATA PREPROCESSING -------"
   ]
  },
  {
   "cell_type": "markdown",
   "metadata": {},
   "source": [
    "##### PREPARE TO STORE DATASET CHARACTERISTICS"
   ]
  },
  {
   "cell_type": "code",
   "execution_count": 2,
   "metadata": {},
   "outputs": [],
   "source": [
    "# this will store the information from every image\n",
    "X = []  # feature\n",
    "y = []  # labels\n",
    "\n",
    "N_CHANNELS = 3        # three colors: RGB\n",
    "IMG_SIZE = 64     # image will be converted to 64x64 images\n",
    "\n",
    "n_images = len(filename_list)\n",
    "\n",
    "X = np.ndarray(shape=(n_images, IMG_SIZE, IMG_SIZE, N_CHANNELS),\n",
    "               dtype=np.float32)"
   ]
  },
  {
   "cell_type": "markdown",
   "metadata": {},
   "source": [
    "##### EXTRACT IMAGE INFORMATION\n",
    "This block will read every image to resize them and store their labels"
   ]
  },
  {
   "cell_type": "code",
   "execution_count": 3,
   "metadata": {},
   "outputs": [
    {
     "data": {
      "application/vnd.jupyter.widget-view+json": {
       "model_id": "8f7d6a118c8844d1b4c9cf9b751915af",
       "version_major": 2,
       "version_minor": 0
      },
      "text/plain": [
       "HBox(children=(FloatProgress(value=0.0, max=300.0), HTML(value='')))"
      ]
     },
     "metadata": {},
     "output_type": "display_data"
    },
    {
     "name": "stdout",
     "output_type": "stream",
     "text": [
      "\n",
      "0 invalid file(s) were found\n",
      "\n",
      "Printing the resulting dataset :\n",
      "\n",
      "LABEL : Dog\n"
     ]
    },
    {
     "data": {
      "image/png": "[encoded data removed]",
      "text/plain": [
       "<Figure size 432x288 with 1 Axes>"
      ]
     },
     "metadata": {
      "needs_background": "light"
     },
     "output_type": "display_data"
    },
    {
     "name": "stdout",
     "output_type": "stream",
     "text": [
      "\n",
      "Raw data (first image):\n"
     ]
    },
    {
     "data": {
      "text/plain": [
       "array([[[191., 144.,  82.],\n",
       "        [138.,  88.,  35.],\n",
       "        [183., 140.,  87.],\n",
       "        ...,\n",
       "        [ 35.,  59.,  51.],\n",
       "        [ 37.,  58.,  50.],\n",
       "        [ 28.,  47.,  39.]],\n",
       "\n",
       "       [[198., 152.,  87.],\n",
       "        [133.,  84.,  28.],\n",
       "        [182., 135.,  83.],\n",
       "        ...,\n",
       "        [ 36.,  60.,  52.],\n",
       "        [ 38.,  59.,  51.],\n",
       "        [ 35.,  50.,  43.]],\n",
       "\n",
       "       [[207., 162.,  95.],\n",
       "        [166., 119.,  59.],\n",
       "        [160., 111.,  60.],\n",
       "        ...,\n",
       "        [ 33.,  57.,  49.],\n",
       "        [ 41.,  63.,  55.],\n",
       "        [ 47.,  67.,  59.]],\n",
       "\n",
       "       ...,\n",
       "\n",
       "       [[ 16.,  14.,  11.],\n",
       "        [  9.,   8.,   5.],\n",
       "        [  4.,   4.,   1.],\n",
       "        ...,\n",
       "        [ 38.,  48.,  38.],\n",
       "        [ 33.,  44.,  34.],\n",
       "        [ 36.,  49.,  38.]],\n",
       "\n",
       "       [[ 14.,  13.,   9.],\n",
       "        [ 10.,   9.,   5.],\n",
       "        [ 17.,  18.,  14.],\n",
       "        ...,\n",
       "        [ 36.,  47.,  39.],\n",
       "        [ 30.,  41.,  31.],\n",
       "        [ 29.,  43.,  31.]],\n",
       "\n",
       "       [[ 24.,  24.,  18.],\n",
       "        [ 20.,  20.,  14.],\n",
       "        [ 28.,  30.,  23.],\n",
       "        ...,\n",
       "        [ 35.,  44.,  34.],\n",
       "        [ 32.,  40.,  30.],\n",
       "        [ 31.,  39.,  32.]]], dtype=float32)"
      ]
     },
     "execution_count": 3,
     "metadata": {},
     "output_type": "execute_result"
    }
   ],
   "source": [
    "%matplotlib inline\n",
    "from skimage.transform import rescale, resize\n",
    "import matplotlib.pyplot as plt\n",
    "import cv2\n",
    "\n",
    "# deploy a progress bar\n",
    "try:\n",
    "    from tqdm.notebook import tqdm\n",
    "except ImportError:\n",
    "    def tqdm(x, *args, **kwargs):\n",
    "        return x\n",
    "\n",
    "\n",
    "# make a list for the name of failed files\n",
    "fail_dir_list = []\n",
    "\n",
    "# count the number of valid images that were read\n",
    "img_counter = 0\n",
    "\n",
    "for f in tqdm(range(len(filename_list))):\n",
    "    try:\n",
    "        # read every image\n",
    "        img_path = data_dir + filename_list[f]\n",
    "        img = cv2.imread(img_path, 1)  # 1 : Color\n",
    "\n",
    "        # resize every image to the desired size\n",
    "        img = cv2.resize(img,(IMG_SIZE,IMG_SIZE))\n",
    "\n",
    "        # build the list with feature data [RGB values]\n",
    "        X[img_counter, :, :, :] = img\n",
    "\n",
    "        # split image directory name\n",
    "        fname_split = filename_list[f].split('/')  # =[Cat, 10.jpg] example\n",
    "        \n",
    "        # build the list with labels [cats | dogs]\n",
    "        class_name = fname_split[0]\n",
    "        y.append(class_name)\n",
    "\n",
    "        img_counter += 1\n",
    "\n",
    "    except Exception as e:\n",
    "        # log names of files with errors\n",
    "        fail_dir_list.append(fname)\n",
    "        pass\n",
    "\n",
    "# remove empty arrays\n",
    "X = X[:img_counter]\n",
    "\n",
    "print('{} invalid file(s) were found\\n'.format(len(fail_dir_list)))\n",
    "print('Printing the resulting dataset :\\n')\n",
    "\n",
    "# plot a sample from the list of images [features]\n",
    "print('LABEL : ' + y[0])\n",
    "plt.imshow(cv2.cvtColor(X[0], cv2.COLOR_BGR2RGB).astype(np.uint8))\n",
    "plt.show()\n",
    "\n",
    "print('\\nRaw data (first image):')\n",
    "X[0]"
   ]
  },
  {
   "cell_type": "markdown",
   "metadata": {},
   "source": [
    "##### DATA AUGMENTATION"
   ]
  },
  {
   "cell_type": "code",
   "execution_count": null,
   "metadata": {},
   "outputs": [],
   "source": []
  },
  {
   "cell_type": "markdown",
   "metadata": {},
   "source": [
    "##### TRANSFORM THE TARGET VALUES TO ONE-HOT ENCODING"
   ]
  },
  {
   "cell_type": "code",
   "execution_count": 4,
   "metadata": {},
   "outputs": [
    {
     "data": {
      "text/html": [
       "<div>\n",
       "<style scoped>\n",
       "    .dataframe tbody tr th:only-of-type {\n",
       "        vertical-align: middle;\n",
       "    }\n",
       "\n",
       "    .dataframe tbody tr th {\n",
       "        vertical-align: top;\n",
       "    }\n",
       "\n",
       "    .dataframe thead th {\n",
       "        text-align: right;\n",
       "    }\n",
       "</style>\n",
       "<table border=\"1\" class=\"dataframe\">\n",
       "  <thead>\n",
       "    <tr style=\"text-align: right;\">\n",
       "      <th></th>\n",
       "      <th>Cat</th>\n",
       "      <th>Dog</th>\n",
       "    </tr>\n",
       "  </thead>\n",
       "  <tbody>\n",
       "    <tr>\n",
       "      <th>0</th>\n",
       "      <td>0</td>\n",
       "      <td>1</td>\n",
       "    </tr>\n",
       "    <tr>\n",
       "      <th>1</th>\n",
       "      <td>1</td>\n",
       "      <td>0</td>\n",
       "    </tr>\n",
       "    <tr>\n",
       "      <th>2</th>\n",
       "      <td>0</td>\n",
       "      <td>1</td>\n",
       "    </tr>\n",
       "    <tr>\n",
       "      <th>3</th>\n",
       "      <td>1</td>\n",
       "      <td>0</td>\n",
       "    </tr>\n",
       "    <tr>\n",
       "      <th>4</th>\n",
       "      <td>0</td>\n",
       "      <td>1</td>\n",
       "    </tr>\n",
       "  </tbody>\n",
       "</table>\n",
       "</div>"
      ],
      "text/plain": [
       "   Cat  Dog\n",
       "0    0    1\n",
       "1    1    0\n",
       "2    0    1\n",
       "3    1    0\n",
       "4    0    1"
      ]
     },
     "execution_count": 4,
     "metadata": {},
     "output_type": "execute_result"
    }
   ],
   "source": [
    "y = pd.get_dummies(y)\n",
    "y.head()"
   ]
  },
  {
   "cell_type": "markdown",
   "metadata": {},
   "source": [
    "##### SPLIT THE FILE NAMES INTO TRAINING AND TESTING SETS"
   ]
  },
  {
   "cell_type": "code",
   "execution_count": 5,
   "metadata": {},
   "outputs": [
    {
     "name": "stdout",
     "output_type": "stream",
     "text": [
      "Data shapes:\n",
      "\n",
      "X_train : (240, 64, 64, 3)\n",
      "y_train : (240, 2)\n",
      "\n",
      "X_test : (60, 64, 64, 3)\n",
      "y_test : (60, 2)\n"
     ]
    }
   ],
   "source": [
    "from sklearn.model_selection import train_test_split\n",
    "\n",
    "# split the dataset into 2 training and 2 testing sets\n",
    "X_train, X_test, y_train, y_test = train_test_split(X, y.values, test_size=0.2, random_state=13)\n",
    "\n",
    "# Normalize pixel values to be between 0 and 1\n",
    "X_train, X_test = X_train / 255.0, X_test / 255.0\n",
    "\n",
    "print('Data shapes:\\n')\n",
    "print('X_train : {}\\ny_train : {}\\n\\nX_test : {}\\ny_test : {}'.format(np.shape(X_train),\n",
    "                                                                      np.shape(y_train),\n",
    "                                                                      np.shape(X_test),\n",
    "                                                                      np.shape(y_test)))"
   ]
  },
  {
   "cell_type": "markdown",
   "metadata": {},
   "source": [
    "## ------- MODEL TRAINING -------"
   ]
  },
  {
   "cell_type": "markdown",
   "metadata": {},
   "source": [
    "##### DEFINE NETWORK PARAMETERS"
   ]
  },
  {
   "cell_type": "code",
   "execution_count": 6,
   "metadata": {},
   "outputs": [],
   "source": [
    "# extract images properties\n",
    "n_classes = np.shape(y_train)[1]\n",
    "\n",
    "# count number of samples in each set of data\n",
    "n_train = np.shape(X_train)[0]\n",
    "n_test = np.shape(X_test)[0]\n",
    "\n",
    "# define amount of neurons\n",
    "n_layer_in = None          # this will depends on the conv layer configurations\n",
    "n_layer_h1 = 1024          # first   hidden layer\n",
    "n_layer_h2 = 1024          # second  hidden layer\n",
    "n_layer_out = n_classes    # 2 neurons in output layer\n",
    "\n",
    "sigma_init = 0.01   # For randomized initialization"
   ]
  },
  {
   "cell_type": "markdown",
   "metadata": {},
   "source": [
    "##### MODEL ARCHITECTURE"
   ]
  },
  {
   "cell_type": "code",
   "execution_count": 7,
   "metadata": {},
   "outputs": [
    {
     "name": "stdout",
     "output_type": "stream",
     "text": [
      "_________________________________________________________________\n",
      "Layer (type)                 Output Shape              Param #   \n",
      "=================================================================\n",
      "conv2d_1 (Conv2D)            (None, 64, 64, 32)        896       \n",
      "_________________________________________________________________\n",
      "max_pooling2d_1 (MaxPooling2 (None, 32, 32, 32)        0         \n",
      "_________________________________________________________________\n",
      "conv2d_2 (Conv2D)            (None, 32, 32, 64)        18496     \n",
      "_________________________________________________________________\n",
      "max_pooling2d_2 (MaxPooling2 (None, 16, 16, 64)        0         \n",
      "_________________________________________________________________\n",
      "conv2d_3 (Conv2D)            (None, 16, 16, 64)        36928     \n",
      "_________________________________________________________________\n",
      "max_pooling2d_3 (MaxPooling2 (None, 8, 8, 64)          0         \n",
      "_________________________________________________________________\n",
      "flatten_1 (Flatten)          (None, 4096)              0         \n",
      "_________________________________________________________________\n",
      "dense_1 (Dense)              (None, 1024)              4195328   \n",
      "_________________________________________________________________\n",
      "dense_2 (Dense)              (None, 2)                 2050      \n",
      "_________________________________________________________________\n",
      "activation_1 (Activation)    (None, 2)                 0         \n",
      "=================================================================\n",
      "Total params: 4,253,698\n",
      "Trainable params: 4,253,698\n",
      "Non-trainable params: 0\n",
      "_________________________________________________________________\n"
     ]
    },
    {
     "name": "stderr",
     "output_type": "stream",
     "text": [
      "Using TensorFlow backend.\n"
     ]
    }
   ],
   "source": [
    "import tensorflow\n",
    "import keras\n",
    "from keras.models import Sequential\n",
    "from keras.layers import Conv2D\n",
    "from keras.layers import MaxPooling2D\n",
    "from keras.layers import Dense\n",
    "from keras.layers import Flatten\n",
    "from keras.optimizers import SGD\n",
    "from keras.layers import Activation\n",
    "\n",
    "model = Sequential()\n",
    "model.add(Conv2D(32, (3, 3), padding='same', activation='relu', input_shape=X_train.shape[1:]))\n",
    "model.add(MaxPooling2D(pool_size=(2, 2)))\n",
    "\n",
    "model.add(Conv2D(64, (3, 3), padding='same', activation='relu'))\n",
    "model.add(MaxPooling2D(pool_size=(2, 2)))\n",
    "\n",
    "model.add(Conv2D(64, (3, 3), padding='same', activation='relu'))\n",
    "model.add(MaxPooling2D(pool_size=(2, 2)))\n",
    "\n",
    "model.add(Flatten())\n",
    "model.add(Dense(n_layer_h1))\n",
    "model.add(Dense(n_classes))\n",
    "model.add(Activation('sigmoid'))\n",
    "\n",
    "model.summary()"
   ]
  },
  {
   "cell_type": "markdown",
   "metadata": {},
   "source": [
    "##### DEFINE DIRECTORIES FOR RESULTS"
   ]
  },
  {
   "cell_type": "code",
   "execution_count": 8,
   "metadata": {},
   "outputs": [
    {
     "name": "stdout",
     "output_type": "stream",
     "text": [
      "Error: output/tf_checkpoints - 系統找不到指定的路徑。.\n"
     ]
    }
   ],
   "source": [
    "import sys\n",
    "import shutil\n",
    "from datetime import datetime\n",
    "\n",
    "# set up the directory to store the results for tensorboard\n",
    "now = datetime.utcnow().strftime('%Y%m%d%H%M%S')\n",
    "root_ckpoint = 'output/tf_checkpoints'\n",
    "root_logdir = 'output/tf_logs'\n",
    "logdir = '{}/run-{}/'.format(root_logdir, now) \n",
    "\n",
    "## Try to remove tree; if failed show an error using try...except on screen\n",
    "try:\n",
    "    shutil.rmtree(root_ckpoint)\n",
    "except OSError as e:\n",
    "    print ('Error: %s - %s.' % (e.filename, e.strerror))"
   ]
  },
  {
   "cell_type": "markdown",
   "metadata": {},
   "source": [
    "##### MODEL EXECUTION"
   ]
  },
  {
   "cell_type": "code",
   "execution_count": 9,
   "metadata": {},
   "outputs": [
    {
     "name": "stdout",
     "output_type": "stream",
     "text": [
      "Train on 240 samples, validate on 60 samples\n",
      "Epoch 1/50\n",
      "240/240 [==============================] - 13s 53ms/step - loss: 2.6628 - acc: 0.4583 - val_loss: 0.7341 - val_acc: 0.5167\n",
      "Epoch 2/50\n",
      "240/240 [==============================] - 10s 42ms/step - loss: 0.6973 - acc: 0.5021 - val_loss: 0.6923 - val_acc: 0.5417\n",
      "Epoch 3/50\n",
      "240/240 [==============================] - 10s 44ms/step - loss: 0.7471 - acc: 0.5750 - val_loss: 2.0626 - val_acc: 0.4833\n",
      "Epoch 4/50\n",
      "240/240 [==============================] - 10s 43ms/step - loss: 0.7292 - acc: 0.5271 - val_loss: 0.7292 - val_acc: 0.5000\n",
      "Epoch 5/50\n",
      "240/240 [==============================] - 10s 43ms/step - loss: 0.7080 - acc: 0.5333 - val_loss: 0.9993 - val_acc: 0.5000\n",
      "Epoch 6/50\n",
      "240/240 [==============================] - 10s 42ms/step - loss: 0.7668 - acc: 0.5521 - val_loss: 0.7026 - val_acc: 0.4750\n",
      "Epoch 7/50\n",
      "240/240 [==============================] - 10s 41ms/step - loss: 0.7885 - acc: 0.5500 - val_loss: 0.7271 - val_acc: 0.5000\n",
      "Epoch 8/50\n",
      "240/240 [==============================] - 10s 42ms/step - loss: 0.6962 - acc: 0.5771 - val_loss: 0.8023 - val_acc: 0.4583\n",
      "Epoch 9/50\n",
      "240/240 [==============================] - 10s 43ms/step - loss: 0.6632 - acc: 0.6063 - val_loss: 0.7371 - val_acc: 0.5000\n",
      "Epoch 10/50\n",
      "240/240 [==============================] - 10s 42ms/step - loss: 0.6595 - acc: 0.6354 - val_loss: 0.7555 - val_acc: 0.4583\n",
      "Epoch 11/50\n",
      "240/240 [==============================] - 11s 44ms/step - loss: 0.7005 - acc: 0.6417 - val_loss: 0.8493 - val_acc: 0.4667\n",
      "Epoch 12/50\n",
      "240/240 [==============================] - 11s 45ms/step - loss: 0.6189 - acc: 0.6521 - val_loss: 1.0522 - val_acc: 0.5000\n",
      "Epoch 13/50\n",
      "240/240 [==============================] - 10s 43ms/step - loss: 0.6404 - acc: 0.6854 - val_loss: 1.0057 - val_acc: 0.5000\n",
      "Epoch 14/50\n",
      "240/240 [==============================] - 11s 44ms/step - loss: 1.1483 - acc: 0.6771 - val_loss: 1.4473 - val_acc: 0.4500\n",
      "Epoch 15/50\n",
      "240/240 [==============================] - 10s 42ms/step - loss: 0.8307 - acc: 0.7104 - val_loss: 2.9532 - val_acc: 0.5167\n",
      "Epoch 16/50\n",
      "240/240 [==============================] - 10s 42ms/step - loss: 0.5185 - acc: 0.7417 - val_loss: 2.0029 - val_acc: 0.4667\n",
      "Epoch 17/50\n",
      "240/240 [==============================] - 10s 44ms/step - loss: 0.4528 - acc: 0.7688 - val_loss: 1.6502 - val_acc: 0.4667\n",
      "Epoch 18/50\n",
      "240/240 [==============================] - 10s 43ms/step - loss: 0.8052 - acc: 0.7479 - val_loss: 3.3673 - val_acc: 0.4667\n",
      "Epoch 19/50\n",
      "240/240 [==============================] - 10s 43ms/step - loss: 0.5605 - acc: 0.7375 - val_loss: 2.2142 - val_acc: 0.5083\n",
      "Epoch 20/50\n",
      "240/240 [==============================] - 10s 42ms/step - loss: 0.5405 - acc: 0.7792 - val_loss: 2.0381 - val_acc: 0.4833\n",
      "Epoch 21/50\n",
      "240/240 [==============================] - 10s 41ms/step - loss: 0.5150 - acc: 0.7729 - val_loss: 2.0129 - val_acc: 0.5083\n",
      "Epoch 22/50\n",
      "240/240 [==============================] - 10s 41ms/step - loss: 0.4532 - acc: 0.8021 - val_loss: 1.9740 - val_acc: 0.4917\n",
      "Epoch 23/50\n",
      "240/240 [==============================] - 10s 43ms/step - loss: 0.5167 - acc: 0.7479 - val_loss: 2.2259 - val_acc: 0.4167\n",
      "Epoch 24/50\n",
      "240/240 [==============================] - 11s 44ms/step - loss: 0.6207 - acc: 0.7646 - val_loss: 2.3581 - val_acc: 0.4333\n",
      "Epoch 25/50\n",
      "240/240 [==============================] - 10s 42ms/step - loss: 0.4063 - acc: 0.8000 - val_loss: 1.7384 - val_acc: 0.4667\n",
      "Epoch 26/50\n",
      "240/240 [==============================] - 10s 43ms/step - loss: 0.5113 - acc: 0.7875 - val_loss: 2.8472 - val_acc: 0.4583\n",
      "Epoch 27/50\n",
      "240/240 [==============================] - 10s 42ms/step - loss: 0.5921 - acc: 0.7854 - val_loss: 1.3186 - val_acc: 0.4667\n",
      "Epoch 28/50\n",
      "240/240 [==============================] - 10s 42ms/step - loss: 0.7182 - acc: 0.7521 - val_loss: 3.1324 - val_acc: 0.5083\n",
      "Epoch 29/50\n",
      "240/240 [==============================] - 11s 46ms/step - loss: 0.7179 - acc: 0.7875 - val_loss: 1.9976 - val_acc: 0.5083\n",
      "Epoch 30/50\n",
      "240/240 [==============================] - 10s 42ms/step - loss: 0.3032 - acc: 0.8458 - val_loss: 2.5412 - val_acc: 0.4917\n",
      "Epoch 31/50\n",
      "240/240 [==============================] - 10s 42ms/step - loss: 0.4981 - acc: 0.7979 - val_loss: 2.3744 - val_acc: 0.5000\n",
      "Epoch 32/50\n",
      "240/240 [==============================] - 10s 44ms/step - loss: 0.4278 - acc: 0.8354 - val_loss: 1.9496 - val_acc: 0.5250\n",
      "Epoch 33/50\n",
      "240/240 [==============================] - 10s 42ms/step - loss: 0.4339 - acc: 0.8312 - val_loss: 2.3973 - val_acc: 0.4583\n",
      "Epoch 34/50\n",
      "240/240 [==============================] - 10s 42ms/step - loss: 0.4062 - acc: 0.8354 - val_loss: 2.0334 - val_acc: 0.4750\n",
      "Epoch 35/50\n",
      "240/240 [==============================] - 10s 42ms/step - loss: 0.4363 - acc: 0.8542 - val_loss: 2.7410 - val_acc: 0.4833\n",
      "Epoch 36/50\n",
      "240/240 [==============================] - 11s 44ms/step - loss: 0.2961 - acc: 0.8437 - val_loss: 1.8971 - val_acc: 0.5083\n",
      "Epoch 37/50\n",
      "240/240 [==============================] - 10s 42ms/step - loss: 1.5510 - acc: 0.7562 - val_loss: 3.5675 - val_acc: 0.4500\n",
      "Epoch 38/50\n",
      "240/240 [==============================] - 10s 43ms/step - loss: 0.3398 - acc: 0.8417 - val_loss: 3.1629 - val_acc: 0.4250\n",
      "Epoch 39/50\n",
      "240/240 [==============================] - 10s 42ms/step - loss: 0.3825 - acc: 0.8646 - val_loss: 3.2681 - val_acc: 0.4917\n",
      "Epoch 40/50\n",
      "240/240 [==============================] - 10s 43ms/step - loss: 0.4800 - acc: 0.8500 - val_loss: 4.7961 - val_acc: 0.4917\n",
      "Epoch 41/50\n",
      "240/240 [==============================] - 10s 43ms/step - loss: 0.4706 - acc: 0.8417 - val_loss: 2.4148 - val_acc: 0.5000\n",
      "Epoch 42/50\n",
      "240/240 [==============================] - 10s 41ms/step - loss: 0.3821 - acc: 0.8625 - val_loss: 1.6586 - val_acc: 0.4917\n",
      "Epoch 43/50\n",
      "240/240 [==============================] - 11s 44ms/step - loss: 0.4420 - acc: 0.8417 - val_loss: 2.6391 - val_acc: 0.3833\n",
      "Epoch 44/50\n",
      "240/240 [==============================] - 10s 43ms/step - loss: 0.3335 - acc: 0.8667 - val_loss: 2.8350 - val_acc: 0.5083\n",
      "Epoch 45/50\n",
      "240/240 [==============================] - 10s 42ms/step - loss: 0.5210 - acc: 0.8313 - val_loss: 3.6426 - val_acc: 0.4583\n",
      "Epoch 46/50\n",
      "240/240 [==============================] - 10s 43ms/step - loss: 0.3803 - acc: 0.8729 - val_loss: 2.5853 - val_acc: 0.4500\n",
      "Epoch 47/50\n",
      "240/240 [==============================] - 11s 44ms/step - loss: 0.5730 - acc: 0.8625 - val_loss: 3.2630 - val_acc: 0.4417\n",
      "Epoch 48/50\n",
      "240/240 [==============================] - 10s 42ms/step - loss: 0.4317 - acc: 0.8354 - val_loss: 4.0492 - val_acc: 0.4917\n",
      "Epoch 49/50\n",
      "240/240 [==============================] - 11s 44ms/step - loss: 0.3086 - acc: 0.8917 - val_loss: 2.8435 - val_acc: 0.4333\n",
      "Epoch 50/50\n",
      "240/240 [==============================] - 10s 42ms/step - loss: 0.4721 - acc: 0.8687 - val_loss: 3.4088 - val_acc: 0.3917\n"
     ]
    }
   ],
   "source": [
    "# initiate RMSprop optimizer\n",
    "optimizer = keras.optimizers.RMSprop(lr=0.001, decay=1e-6)\n",
    "\n",
    "# Let's train the model using RMSprop\n",
    "model.compile(loss='binary_crossentropy', optimizer=optimizer, metrics=['accuracy'])\n",
    "\n",
    "history = model.fit(X_train, y_train, epochs=50, batch_size=10, validation_data=(X_test, y_test))"
   ]
  },
  {
   "cell_type": "markdown",
   "metadata": {},
   "source": [
    "##### VISUALIZE THE ACCURACY RESULTS"
   ]
  },
  {
   "cell_type": "code",
   "execution_count": 10,
   "metadata": {},
   "outputs": [
    {
     "data": {
      "image/png": "[encoded data removed]",
      "text/plain": [
       "<Figure size 432x288 with 1 Axes>"
      ]
     },
     "metadata": {
      "needs_background": "light"
     },
     "output_type": "display_data"
    }
   ],
   "source": [
    "%matplotlib inline\n",
    "import matplotlib.pyplot as plt\n",
    "import matplotlib.patches as mpatches\n",
    "\n",
    "# set up legend\n",
    "blue_patch = mpatches.Patch(color='blue', label='Train Accuracy [Maximize]')\n",
    "red_patch = mpatches.Patch(color='red', label='Test Accuracy [Maximize]')\n",
    "plt.legend(handles=[blue_patch,red_patch])\n",
    "\n",
    "#plot the data\n",
    "plt.plot(history.history['acc'], color='blue')\n",
    "plt.plot(history.history['val_acc'], color='red')\n",
    "\n",
    "plt.xlabel('epochs (x{})'.format('display_epoch'))\n",
    "plt.ylabel('score');"
   ]
  },
  {
   "cell_type": "code",
   "execution_count": null,
   "metadata": {},
   "outputs": [],
   "source": []
  }
 ],
 "metadata": {
  "kernelspec": {
   "display_name": "Python 3",
   "language": "python",
   "name": "python3"
  },
  "language_info": {
   "codemirror_mode": {
    "name": "ipython",
    "version": 3
   },
   "file_extension": ".py",
   "mimetype": "text/x-python",
   "name": "python",
   "nbconvert_exporter": "python",
   "pygments_lexer": "ipython3",
   "version": "3.5.5"
  }
 },
 "nbformat": 4,
 "nbformat_minor": 4
}

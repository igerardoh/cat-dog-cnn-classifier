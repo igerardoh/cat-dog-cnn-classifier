{
 "cells": [
  {
   "cell_type": "markdown",
   "metadata": {},
   "source": [
    "# Cat-Dog Image Data Preprocessing"
   ]
  },
  {
   "cell_type": "code",
   "execution_count": 1,
   "metadata": {},
   "outputs": [
    {
     "data": {
      "text/plain": [
       "array(['../../data/Cat/0.jpg', '../../data/Cat/1.jpg',\n",
       "       '../../data/Cat/10.jpg', '../../data/Cat/100.jpg',\n",
       "       '../../data/Cat/1000.jpg', '../../data/Cat/10000.jpg',\n",
       "       '../../data/Cat/10001.jpg', '../../data/Cat/10002.jpg',\n",
       "       '../../data/Cat/10003.jpg', '../../data/Cat/10004.jpg'],\n",
       "      dtype=object)"
      ]
     },
     "execution_count": 1,
     "metadata": {},
     "output_type": "execute_result"
    }
   ],
   "source": [
    "import pandas as pd\n",
    "import numpy as np\n",
    "import os\n",
    "\n",
    "data_dir = '../../data/'\n",
    "classes = os.listdir(data_dir)\n",
    "\n",
    "# read images files that were read on opencv without error\n",
    "file_dirs = pd.read_csv('../01-data-exploration/file_dirs.csv', header=None).values\n",
    "file_dirs = np.ravel(file_dirs)\n",
    "\n",
    "file_dirs = file_dirs[:300]   # reduce dataset for testing\n",
    "\n",
    "file_dirs[:10]"
   ]
  },
  {
   "cell_type": "code",
   "execution_count": 2,
   "metadata": {},
   "outputs": [
    {
     "data": {
      "application/vnd.jupyter.widget-view+json": {
       "model_id": "34e82512f9bb4c2d9f471701fb375851",
       "version_major": 2,
       "version_minor": 0
      },
      "text/plain": [
       "HBox(children=(FloatProgress(value=0.0, max=300.0), HTML(value='')))"
      ]
     },
     "metadata": {},
     "output_type": "display_data"
    },
    {
     "name": "stdout",
     "output_type": "stream",
     "text": [
      "\n",
      "LABEL : Cat\n"
     ]
    },
    {
     "data": {
      "image/png": "[encoded data removed]",
      "text/plain": [
       "<Figure size 432x288 with 1 Axes>"
      ]
     },
     "metadata": {
      "needs_background": "light"
     },
     "output_type": "display_data"
    },
    {
     "name": "stdout",
     "output_type": "stream",
     "text": [
      "\n",
      "Raw data (first image):\n"
     ]
    },
    {
     "data": {
      "text/plain": [
       "array([[[ 90., 167., 206.],\n",
       "        [ 96., 173., 212.],\n",
       "        [101., 180., 221.],\n",
       "        ...,\n",
       "        [137., 214., 247.],\n",
       "        [128., 208., 246.],\n",
       "        [123., 203., 242.]],\n",
       "\n",
       "       [[ 91., 168., 207.],\n",
       "        [ 97., 174., 213.],\n",
       "        [101., 180., 221.],\n",
       "        ...,\n",
       "        [141., 216., 248.],\n",
       "        [133., 211., 247.],\n",
       "        [127., 206., 244.]],\n",
       "\n",
       "       [[ 91., 168., 207.],\n",
       "        [ 97., 174., 213.],\n",
       "        [101., 180., 221.],\n",
       "        ...,\n",
       "        [142., 216., 246.],\n",
       "        [139., 215., 247.],\n",
       "        [131., 209., 247.]],\n",
       "\n",
       "       ...,\n",
       "\n",
       "       [[ 59., 127., 162.],\n",
       "        [ 63., 131., 166.],\n",
       "        [ 63., 134., 171.],\n",
       "        ...,\n",
       "        [  0.,   4.,   3.],\n",
       "        [  0.,   4.,   3.],\n",
       "        [  0.,   3.,   2.]],\n",
       "\n",
       "       [[ 57., 125., 160.],\n",
       "        [ 59., 127., 162.],\n",
       "        [ 59., 130., 167.],\n",
       "        ...,\n",
       "        [  0.,   4.,   3.],\n",
       "        [  0.,   4.,   3.],\n",
       "        [  0.,   3.,   2.]],\n",
       "\n",
       "       [[ 56., 123., 154.],\n",
       "        [ 60., 127., 158.],\n",
       "        [ 58., 130., 164.],\n",
       "        ...,\n",
       "        [  0.,   2.,   2.],\n",
       "        [  0.,   2.,   2.],\n",
       "        [  0.,   2.,   2.]]], dtype=float32)"
      ]
     },
     "execution_count": 2,
     "metadata": {},
     "output_type": "execute_result"
    }
   ],
   "source": [
    "%matplotlib inline\n",
    "from skimage.transform import rescale, resize\n",
    "import matplotlib.pyplot as plt\n",
    "import cv2\n",
    "\n",
    "# deploy a progress bar\n",
    "try:\n",
    "    from tqdm.notebook import tqdm\n",
    "except ImportError:\n",
    "    def tqdm(x, *args, **kwargs):\n",
    "        return x\n",
    "\n",
    "# this will store the information from every image\n",
    "X = []  # feature\n",
    "y = []  # labels\n",
    "\n",
    "channels = 3         # three colors: RGB\n",
    "image_size = 64      # image will be converted to 64x64 images\n",
    "n_images = len(file_dirs)\n",
    "\n",
    "X = np.ndarray(shape=(n_images, image_size, image_size, channels), dtype=np.float32)\n",
    "img_counter = 0\n",
    "\n",
    "for fname in tqdm(file_dirs):\n",
    "    # read every single image as an array\n",
    "    image = cv2.imread(fname, 1)\n",
    "    \n",
    "    # resize every image to the desired size\n",
    "    image = cv2.resize(image,(image_size,image_size))\n",
    "\n",
    "    # build the list with feature data [RGB values]\n",
    "    X[img_counter, :, :, :] = image\n",
    "\n",
    "    # build the list with labels [cats | dogs]\n",
    "    class_name = fname.split('/')[-2]\n",
    "    y.append(class_name)\n",
    "\n",
    "    img_counter += 1\n",
    "\n",
    "\n",
    "# remove empty arrays\n",
    "X = X[:n_images]\n",
    "\n",
    "# plot a sample from the list of images [features]\n",
    "print('LABEL : ' + y[0])\n",
    "plt.imshow(cv2.cvtColor(X[0], cv2.COLOR_BGR2RGB).astype(np.uint8))\n",
    "plt.show()\n",
    "\n",
    "print('\\nRaw data (first image):')\n",
    "X[0]"
   ]
  },
  {
   "cell_type": "code",
   "execution_count": 3,
   "metadata": {},
   "outputs": [
    {
     "name": "stdout",
     "output_type": "stream",
     "text": [
      "samples, width, height. channels\n"
     ]
    },
    {
     "data": {
      "text/plain": [
       "(300, 64, 64, 3)"
      ]
     },
     "execution_count": 3,
     "metadata": {},
     "output_type": "execute_result"
    }
   ],
   "source": [
    "print('samples, width, height. channels')\n",
    "X.shape"
   ]
  },
  {
   "cell_type": "code",
   "execution_count": null,
   "metadata": {},
   "outputs": [],
   "source": []
  },
  {
   "cell_type": "code",
   "execution_count": null,
   "metadata": {},
   "outputs": [],
   "source": []
  }
 ],
 "metadata": {
  "kernelspec": {
   "display_name": "Python 3",
   "language": "python",
   "name": "python3"
  },
  "language_info": {
   "codemirror_mode": {
    "name": "ipython",
    "version": 3
   },
   "file_extension": ".py",
   "mimetype": "text/x-python",
   "name": "python",
   "nbconvert_exporter": "python",
   "pygments_lexer": "ipython3",
   "version": "3.5.6"
  }
 },
 "nbformat": 4,
 "nbformat_minor": 4
}

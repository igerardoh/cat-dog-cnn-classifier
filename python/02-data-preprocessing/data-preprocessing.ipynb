{
 "cells": [
  {
   "cell_type": "markdown",
   "metadata": {},
   "source": [
    "# Cat-Dog Image Data Preprocessing"
   ]
  },
  {
   "cell_type": "markdown",
   "metadata": {},
   "source": [
    "<p><b>Status: <span style=color:green;>Completed</span></b></p>"
   ]
  },
  {
   "cell_type": "markdown",
   "metadata": {},
   "source": [
    "##### LOAD THE FILE DIRECTORIES"
   ]
  },
  {
   "cell_type": "code",
   "execution_count": 1,
   "metadata": {},
   "outputs": [
    {
     "data": {
      "text/plain": [
       "array(['../../data/Cat/9172.jpg', '../../data/Dog/9824.jpg',\n",
       "       '../../data/Dog/2078.jpg', '../../data/Dog/7727.jpg',\n",
       "       '../../data/Cat/2665.jpg', '../../data/Cat/1933.jpg',\n",
       "       '../../data/Cat/1512.jpg', '../../data/Cat/8893.jpg',\n",
       "       '../../data/Cat/11283.jpg', '../../data/Dog/4324.jpg'],\n",
       "      dtype=object)"
      ]
     },
     "execution_count": 1,
     "metadata": {},
     "output_type": "execute_result"
    }
   ],
   "source": [
    "import pandas as pd\n",
    "import numpy as np\n",
    "import os\n",
    "\n",
    "data_dir = '../../data/'\n",
    "classes = os.listdir(data_dir)  # get classes from folder names\n",
    "\n",
    "# read images files that were read on opencv without error\n",
    "file_dirs = pd.read_csv('../01-data-exploration/file_dirs.csv', header=None).values\n",
    "file_dirs = np.ravel(file_dirs)\n",
    "\n",
    "# modify data for faster testing (optional)\n",
    "np.random.seed(45)\n",
    "np.random.shuffle(file_dirs)\n",
    "file_dirs = file_dirs[:300]   # reduce dataset for testing\n",
    "\n",
    "file_dirs[:10]"
   ]
  },
  {
   "cell_type": "markdown",
   "metadata": {},
   "source": [
    "##### EXTRACT IMAGE FEATURES AND LABELS\n",
    "`HINT`: Increasing the size of the input image (image_size) will keep more information resulting on a better trained model. However, this will also significantly increase the computational time for the training process."
   ]
  },
  {
   "cell_type": "code",
   "execution_count": 2,
   "metadata": {},
   "outputs": [
    {
     "data": {
      "application/vnd.jupyter.widget-view+json": {
       "model_id": "b0a427798c3a423795642e709dfff921",
       "version_major": 2,
       "version_minor": 0
      },
      "text/plain": [
       "HBox(children=(FloatProgress(value=0.0, max=300.0), HTML(value='')))"
      ]
     },
     "metadata": {},
     "output_type": "display_data"
    },
    {
     "name": "stdout",
     "output_type": "stream",
     "text": [
      "\n",
      "LABEL : Cat\n"
     ]
    },
    {
     "data": {
      "image/png": "[encoded data removed]",
      "text/plain": [
       "<Figure size 432x288 with 1 Axes>"
      ]
     },
     "metadata": {
      "needs_background": "light"
     },
     "output_type": "display_data"
    },
    {
     "name": "stdout",
     "output_type": "stream",
     "text": [
      "\n",
      "Raw data (first image):\n"
     ]
    },
    {
     "data": {
      "text/plain": [
       "array([[[178., 192., 190.],\n",
       "        [182., 196., 194.],\n",
       "        [185., 199., 197.],\n",
       "        ...,\n",
       "        [185., 199., 198.],\n",
       "        [183., 197., 196.],\n",
       "        [180., 194., 193.]],\n",
       "\n",
       "       [[187., 201., 200.],\n",
       "        [191., 205., 203.],\n",
       "        [194., 208., 207.],\n",
       "        ...,\n",
       "        [185., 199., 198.],\n",
       "        [183., 197., 196.],\n",
       "        [180., 194., 193.]],\n",
       "\n",
       "       [[196., 209., 211.],\n",
       "        [199., 212., 214.],\n",
       "        [203., 216., 218.],\n",
       "        ...,\n",
       "        [185., 199., 198.],\n",
       "        [183., 197., 196.],\n",
       "        [180., 194., 193.]],\n",
       "\n",
       "       ...,\n",
       "\n",
       "       [[241., 249., 253.],\n",
       "        [242., 250., 253.],\n",
       "        [240., 251., 253.],\n",
       "        ...,\n",
       "        [123.,  86.,  64.],\n",
       "        [ 98.,  62.,  45.],\n",
       "        [119.,  81.,  62.]],\n",
       "\n",
       "       [[245., 250., 253.],\n",
       "        [245., 250., 253.],\n",
       "        [244., 251., 254.],\n",
       "        ...,\n",
       "        [108.,  71.,  52.],\n",
       "        [113.,  73.,  55.],\n",
       "        [118.,  80.,  62.]],\n",
       "\n",
       "       [[246., 251., 254.],\n",
       "        [246., 251., 254.],\n",
       "        [244., 251., 254.],\n",
       "        ...,\n",
       "        [119.,  78.,  59.],\n",
       "        [117.,  77.,  59.],\n",
       "        [120.,  81.,  63.]]], dtype=float32)"
      ]
     },
     "execution_count": 2,
     "metadata": {},
     "output_type": "execute_result"
    }
   ],
   "source": [
    "%matplotlib inline\n",
    "from skimage.transform import rescale, resize\n",
    "import matplotlib.pyplot as plt\n",
    "import cv2\n",
    "\n",
    "# deploy a progress bar\n",
    "try:\n",
    "    from tqdm.notebook import tqdm\n",
    "except ImportError:\n",
    "    def tqdm(x, *args, **kwargs):\n",
    "        return x\n",
    "\n",
    "# this will store the information from every image\n",
    "X = []  # feature\n",
    "y = []  # labels\n",
    "\n",
    "channels = 3         # three colors: RGB\n",
    "image_size = 64      # image will be converted to 64x64 images\n",
    "n_images = len(file_dirs)\n",
    "\n",
    "X = np.ndarray(shape=(n_images, image_size, image_size, channels), dtype=np.float32)\n",
    "img_counter = 0\n",
    "\n",
    "for fname in tqdm(file_dirs):\n",
    "    # read every single image as an array\n",
    "    image = cv2.imread(fname, 1)\n",
    "    \n",
    "    # resize every image to the desired size\n",
    "    image = cv2.resize(image,(image_size,image_size))\n",
    "\n",
    "    # build the list with feature data [RGB values]\n",
    "    X[img_counter, :, :, :] = image\n",
    "\n",
    "    # build the list with labels [cats | dogs]\n",
    "    class_name = fname.split('/')[-2]\n",
    "    y.append(class_name)\n",
    "\n",
    "    img_counter += 1\n",
    "\n",
    "\n",
    "# remove empty arrays\n",
    "X = X[:n_images]\n",
    "\n",
    "# plot a sample from the list of images [features]\n",
    "print('LABEL : ' + y[0])\n",
    "plt.imshow(cv2.cvtColor(X[0], cv2.COLOR_BGR2RGB).astype(np.uint8))\n",
    "plt.show()\n",
    "\n",
    "print('\\nRaw data (first image):')\n",
    "X[0]"
   ]
  },
  {
   "cell_type": "markdown",
   "metadata": {},
   "source": [
    "##### OUTPUT FEATURES DIMENSIONS"
   ]
  },
  {
   "cell_type": "code",
   "execution_count": 3,
   "metadata": {},
   "outputs": [
    {
     "name": "stdout",
     "output_type": "stream",
     "text": [
      "samples, width, height, channels\n"
     ]
    },
    {
     "data": {
      "text/plain": [
       "(300, 64, 64, 3)"
      ]
     },
     "execution_count": 3,
     "metadata": {},
     "output_type": "execute_result"
    }
   ],
   "source": [
    "print('samples, width, height, channels')\n",
    "X.shape"
   ]
  },
  {
   "cell_type": "markdown",
   "metadata": {},
   "source": [
    "##### TRANSFORM THE TARGET VALUES TO ONE-HOT ENCODING"
   ]
  },
  {
   "cell_type": "code",
   "execution_count": 4,
   "metadata": {},
   "outputs": [
    {
     "data": {
      "text/html": [
       "<div>\n",
       "<style scoped>\n",
       "    .dataframe tbody tr th:only-of-type {\n",
       "        vertical-align: middle;\n",
       "    }\n",
       "\n",
       "    .dataframe tbody tr th {\n",
       "        vertical-align: top;\n",
       "    }\n",
       "\n",
       "    .dataframe thead th {\n",
       "        text-align: right;\n",
       "    }\n",
       "</style>\n",
       "<table border=\"1\" class=\"dataframe\">\n",
       "  <thead>\n",
       "    <tr style=\"text-align: right;\">\n",
       "      <th></th>\n",
       "      <th>Cat</th>\n",
       "      <th>Dog</th>\n",
       "    </tr>\n",
       "  </thead>\n",
       "  <tbody>\n",
       "    <tr>\n",
       "      <th>0</th>\n",
       "      <td>1</td>\n",
       "      <td>0</td>\n",
       "    </tr>\n",
       "    <tr>\n",
       "      <th>1</th>\n",
       "      <td>0</td>\n",
       "      <td>1</td>\n",
       "    </tr>\n",
       "    <tr>\n",
       "      <th>2</th>\n",
       "      <td>0</td>\n",
       "      <td>1</td>\n",
       "    </tr>\n",
       "    <tr>\n",
       "      <th>3</th>\n",
       "      <td>0</td>\n",
       "      <td>1</td>\n",
       "    </tr>\n",
       "    <tr>\n",
       "      <th>4</th>\n",
       "      <td>1</td>\n",
       "      <td>0</td>\n",
       "    </tr>\n",
       "  </tbody>\n",
       "</table>\n",
       "</div>"
      ],
      "text/plain": [
       "   Cat  Dog\n",
       "0    1    0\n",
       "1    0    1\n",
       "2    0    1\n",
       "3    0    1\n",
       "4    1    0"
      ]
     },
     "execution_count": 4,
     "metadata": {},
     "output_type": "execute_result"
    }
   ],
   "source": [
    "y = pd.get_dummies(y)\n",
    "y.head()"
   ]
  },
  {
   "cell_type": "code",
   "execution_count": 5,
   "metadata": {},
   "outputs": [
    {
     "name": "stdout",
     "output_type": "stream",
     "text": [
      "preprocess data has been saved succesfully! please check \"output/preprocessed_data\" folder\n"
     ]
    }
   ],
   "source": [
    "import pickle\n",
    "\n",
    "preprocess_data = [X, y]\n",
    "preprocess_names = ['X', 'y']\n",
    "\n",
    "for f in range(len(preprocess_data)):\n",
    "    file_name = 'output/preprocessed_data/{}.pckl'.format(preprocess_names[f])\n",
    "    saver = open(file_name, 'wb')\n",
    "    pickle.dump(preprocess_data[f], saver)\n",
    "    saver.close()\n",
    "\n",
    "print('preprocess data has been saved succesfully! please check \"output/preprocessed_data\" folder')"
   ]
  },
  {
   "cell_type": "code",
   "execution_count": null,
   "metadata": {},
   "outputs": [],
   "source": []
  }
 ],
 "metadata": {
  "kernelspec": {
   "display_name": "Python 3",
   "language": "python",
   "name": "python3"
  },
  "language_info": {
   "codemirror_mode": {
    "name": "ipython",
    "version": 3
   },
   "file_extension": ".py",
   "mimetype": "text/x-python",
   "name": "python",
   "nbconvert_exporter": "python",
   "pygments_lexer": "ipython3",
   "version": "3.5.6"
  }
 },
 "nbformat": 4,
 "nbformat_minor": 4
}

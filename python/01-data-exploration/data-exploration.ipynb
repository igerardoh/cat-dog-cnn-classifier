{
 "cells": [
  {
   "cell_type": "markdown",
   "metadata": {},
   "source": [
    "# Cat-Dog Image Dataset Exploration"
   ]
  },
  {
   "cell_type": "markdown",
   "metadata": {},
   "source": [
    "<p><b>Status: <span style=color:green;>Completed</span></b></p>"
   ]
  },
  {
   "cell_type": "markdown",
   "metadata": {},
   "source": [
    "##### LOCATE  FILE NAMES\n",
    "Read the name of the files in the data folder and store them on a list"
   ]
  },
  {
   "cell_type": "code",
   "execution_count": 1,
   "metadata": {},
   "outputs": [
    {
     "name": "stdout",
     "output_type": "stream",
     "text": [
      "Total number of files :  25000\n"
     ]
    },
    {
     "data": {
      "text/plain": [
       "['Cat/0.jpg',\n",
       " 'Cat/1.jpg',\n",
       " 'Cat/10.jpg',\n",
       " 'Cat/100.jpg',\n",
       " 'Cat/1000.jpg',\n",
       " 'Cat/10000.jpg',\n",
       " 'Cat/10001.jpg',\n",
       " 'Cat/10002.jpg',\n",
       " 'Cat/10003.jpg',\n",
       " 'Cat/10004.jpg']"
      ]
     },
     "execution_count": 1,
     "metadata": {},
     "output_type": "execute_result"
    }
   ],
   "source": [
    "import os\n",
    "\n",
    "data_dir = '../../data/'\n",
    "class_list = os.listdir(data_dir) # get classes based on folder names\n",
    "\n",
    "filename_list = []\n",
    "\n",
    "# make a list of the images' file names, cats and dogs\n",
    "for _class in class_list:\n",
    "    filename_list_class = os.listdir(data_dir + _class)\n",
    "    filename_list_class = [(_class + '/' + fname) for fname in filename_list_class if fname.endswith('.jpg')]\n",
    "    filename_list += filename_list_class\n",
    "    \n",
    "print('Total number of files : ', len(filename_list))\n",
    "filename_list[:10]"
   ]
  },
  {
   "cell_type": "markdown",
   "metadata": {},
   "source": [
    "##### EXTRACT IMAGE INFORMATION\n"
   ]
  },
  {
   "cell_type": "code",
   "execution_count": 2,
   "metadata": {},
   "outputs": [
    {
     "data": {
      "application/vnd.jupyter.widget-view+json": {
       "model_id": "512814d19af34cb994552e83d7e43d8d",
       "version_major": 2,
       "version_minor": 0
      },
      "text/plain": [
       "HBox(children=(FloatProgress(value=0.0, max=25000.0), HTML(value='')))"
      ]
     },
     "metadata": {},
     "output_type": "display_data"
    },
    {
     "name": "stdout",
     "output_type": "stream",
     "text": [
      "\n",
      "54 invalid file(s) were found\n",
      "\n",
      "Printing the resulting dataset :\n",
      "\n"
     ]
    },
    {
     "data": {
      "text/html": [
       "<div>\n",
       "<style scoped>\n",
       "    .dataframe tbody tr th:only-of-type {\n",
       "        vertical-align: middle;\n",
       "    }\n",
       "\n",
       "    .dataframe tbody tr th {\n",
       "        vertical-align: top;\n",
       "    }\n",
       "\n",
       "    .dataframe thead th {\n",
       "        text-align: right;\n",
       "    }\n",
       "</style>\n",
       "<table border=\"1\" class=\"dataframe\">\n",
       "  <thead>\n",
       "    <tr style=\"text-align: right;\">\n",
       "      <th></th>\n",
       "      <th>classes</th>\n",
       "      <th>number</th>\n",
       "      <th>format</th>\n",
       "      <th>size</th>\n",
       "      <th>height</th>\n",
       "      <th>width</th>\n",
       "      <th>channel</th>\n",
       "      <th>dtype</th>\n",
       "      <th>dir</th>\n",
       "    </tr>\n",
       "  </thead>\n",
       "  <tbody>\n",
       "    <tr>\n",
       "      <th>0</th>\n",
       "      <td>Cat</td>\n",
       "      <td>0</td>\n",
       "      <td>jpg</td>\n",
       "      <td>562500.0</td>\n",
       "      <td>375.0</td>\n",
       "      <td>500.0</td>\n",
       "      <td>3.0</td>\n",
       "      <td>uint8</td>\n",
       "      <td>../../data/Cat/0.jpg</td>\n",
       "    </tr>\n",
       "    <tr>\n",
       "      <th>1</th>\n",
       "      <td>Cat</td>\n",
       "      <td>1</td>\n",
       "      <td>jpg</td>\n",
       "      <td>252900.0</td>\n",
       "      <td>281.0</td>\n",
       "      <td>300.0</td>\n",
       "      <td>3.0</td>\n",
       "      <td>uint8</td>\n",
       "      <td>../../data/Cat/1.jpg</td>\n",
       "    </tr>\n",
       "    <tr>\n",
       "      <th>2</th>\n",
       "      <td>Cat</td>\n",
       "      <td>10</td>\n",
       "      <td>jpg</td>\n",
       "      <td>733500.0</td>\n",
       "      <td>500.0</td>\n",
       "      <td>489.0</td>\n",
       "      <td>3.0</td>\n",
       "      <td>uint8</td>\n",
       "      <td>../../data/Cat/10.jpg</td>\n",
       "    </tr>\n",
       "    <tr>\n",
       "      <th>3</th>\n",
       "      <td>Cat</td>\n",
       "      <td>100</td>\n",
       "      <td>jpg</td>\n",
       "      <td>604500.0</td>\n",
       "      <td>500.0</td>\n",
       "      <td>403.0</td>\n",
       "      <td>3.0</td>\n",
       "      <td>uint8</td>\n",
       "      <td>../../data/Cat/100.jpg</td>\n",
       "    </tr>\n",
       "    <tr>\n",
       "      <th>4</th>\n",
       "      <td>Cat</td>\n",
       "      <td>1000</td>\n",
       "      <td>jpg</td>\n",
       "      <td>67500.0</td>\n",
       "      <td>150.0</td>\n",
       "      <td>150.0</td>\n",
       "      <td>3.0</td>\n",
       "      <td>uint8</td>\n",
       "      <td>../../data/Cat/1000.jpg</td>\n",
       "    </tr>\n",
       "  </tbody>\n",
       "</table>\n",
       "</div>"
      ],
      "text/plain": [
       "  classes number format      size  height  width  channel  dtype  \\\n",
       "0     Cat      0    jpg  562500.0   375.0  500.0      3.0  uint8   \n",
       "1     Cat      1    jpg  252900.0   281.0  300.0      3.0  uint8   \n",
       "2     Cat     10    jpg  733500.0   500.0  489.0      3.0  uint8   \n",
       "3     Cat    100    jpg  604500.0   500.0  403.0      3.0  uint8   \n",
       "4     Cat   1000    jpg   67500.0   150.0  150.0      3.0  uint8   \n",
       "\n",
       "                       dir  \n",
       "0     ../../data/Cat/0.jpg  \n",
       "1     ../../data/Cat/1.jpg  \n",
       "2    ../../data/Cat/10.jpg  \n",
       "3   ../../data/Cat/100.jpg  \n",
       "4  ../../data/Cat/1000.jpg  "
      ]
     },
     "execution_count": 2,
     "metadata": {},
     "output_type": "execute_result"
    }
   ],
   "source": [
    "import pandas as pd\n",
    "import numpy as np\n",
    "import cv2\n",
    "\n",
    "# this will try to deploy a progress bar\n",
    "try:\n",
    "    from tqdm.notebook import tqdm\n",
    "except ImportError:\n",
    "    def tqdm(x, *args, **kwargs):\n",
    "        return x\n",
    "\n",
    "# iniciate dataset variable\n",
    "data = pd.DataFrame()\n",
    "\n",
    "# make a list with the name of invalid files\n",
    "fail_dir_list = []\n",
    "fail_idx_list = []\n",
    "\n",
    "for f in tqdm(range(len(filename_list))):\n",
    "    try:\n",
    "        # read every image\n",
    "        img_path = data_dir + filename_list[f]\n",
    "        img = np.array(cv2.imread(img_path))\n",
    "        \n",
    "        # split image directory name\n",
    "        fname_split = filename_list[f].split(\"/\")  # =[Cat, 10.jpg] example\n",
    "        \n",
    "        # extract image information\n",
    "        data.loc[f, 'classes'] = fname_split[0]\n",
    "        data.loc[f, 'number'] = fname_split[1].split(\".\")[0]\n",
    "        data.loc[f, 'format'] = fname_split[1].split(\".\")[1]\n",
    "        data.loc[f, 'size' ] = img.size\n",
    "        data.loc[f, 'height'] = img.shape[0]\n",
    "        data.loc[f, 'width'] = img.shape[1]\n",
    "        data.loc[f, 'channel'] = img.shape[2]\n",
    "        data.loc[f, 'dtype'] = img.dtype\n",
    "        data.loc[f, 'dir'] = img_path\n",
    "    \n",
    "    except Exception as e:\n",
    "        # log names and indices of files with errors\n",
    "        fail_dir_list.append(filename_list[f])\n",
    "        fail_idx_list.append(f)\n",
    "        pass\n",
    "\n",
    "print('{} invalid file(s) were found\\n'.format(len(fail_dir_list)))\n",
    "print('Printing the resulting dataset :\\n')\n",
    "\n",
    "data.head()"
   ]
  },
  {
   "cell_type": "markdown",
   "metadata": {},
   "source": [
    "##### DROP THE INVALID FILES\n",
    "The following block will delete those rows with invalid or incomplete data. Some images were were not read probably because they were corrupted or maybe opencv just didn't know how to read them."
   ]
  },
  {
   "cell_type": "code",
   "execution_count": 3,
   "metadata": {},
   "outputs": [
    {
     "name": "stdout",
     "output_type": "stream",
     "text": [
      "Total files removed : 54\n",
      "Dataset new size is : 24946\n"
     ]
    }
   ],
   "source": [
    "# delete invalid rows and reset index\n",
    "data = data.drop(fail_idx_list)  # based on the index\n",
    "data.reset_index(drop=True)      # rearrange the index\n",
    "\n",
    "print('Total files removed : {}'.format(len(fail_idx_list)))\n",
    "print('Dataset new size is : {}'.format(len(data)))"
   ]
  },
  {
   "cell_type": "markdown",
   "metadata": {},
   "source": [
    "##### VISUALIZE IMAGE SIZE\n",
    "Sort dataframe by size in ascendent order to confirm there is no image file size zero"
   ]
  },
  {
   "cell_type": "code",
   "execution_count": 4,
   "metadata": {},
   "outputs": [
    {
     "data": {
      "text/html": [
       "<div>\n",
       "<style scoped>\n",
       "    .dataframe tbody tr th:only-of-type {\n",
       "        vertical-align: middle;\n",
       "    }\n",
       "\n",
       "    .dataframe tbody tr th {\n",
       "        vertical-align: top;\n",
       "    }\n",
       "\n",
       "    .dataframe thead th {\n",
       "        text-align: right;\n",
       "    }\n",
       "</style>\n",
       "<table border=\"1\" class=\"dataframe\">\n",
       "  <thead>\n",
       "    <tr style=\"text-align: right;\">\n",
       "      <th></th>\n",
       "      <th>classes</th>\n",
       "      <th>number</th>\n",
       "      <th>format</th>\n",
       "      <th>size</th>\n",
       "      <th>height</th>\n",
       "      <th>width</th>\n",
       "      <th>channel</th>\n",
       "      <th>dtype</th>\n",
       "      <th>dir</th>\n",
       "    </tr>\n",
       "  </thead>\n",
       "  <tbody>\n",
       "    <tr>\n",
       "      <th>7694</th>\n",
       "      <td>Cat</td>\n",
       "      <td>5673</td>\n",
       "      <td>jpg</td>\n",
       "      <td>48.0</td>\n",
       "      <td>4.0</td>\n",
       "      <td>4.0</td>\n",
       "      <td>3.0</td>\n",
       "      <td>uint8</td>\n",
       "      <td>../../data/Cat/5673.jpg</td>\n",
       "    </tr>\n",
       "    <tr>\n",
       "      <th>8505</th>\n",
       "      <td>Cat</td>\n",
       "      <td>6402</td>\n",
       "      <td>jpg</td>\n",
       "      <td>5940.0</td>\n",
       "      <td>33.0</td>\n",
       "      <td>60.0</td>\n",
       "      <td>3.0</td>\n",
       "      <td>uint8</td>\n",
       "      <td>../../data/Cat/6402.jpg</td>\n",
       "    </tr>\n",
       "    <tr>\n",
       "      <th>7540</th>\n",
       "      <td>Cat</td>\n",
       "      <td>5534</td>\n",
       "      <td>jpg</td>\n",
       "      <td>6480.0</td>\n",
       "      <td>36.0</td>\n",
       "      <td>60.0</td>\n",
       "      <td>3.0</td>\n",
       "      <td>uint8</td>\n",
       "      <td>../../data/Cat/5534.jpg</td>\n",
       "    </tr>\n",
       "    <tr>\n",
       "      <th>24674</th>\n",
       "      <td>Dog</td>\n",
       "      <td>9705</td>\n",
       "      <td>jpg</td>\n",
       "      <td>7020.0</td>\n",
       "      <td>39.0</td>\n",
       "      <td>60.0</td>\n",
       "      <td>3.0</td>\n",
       "      <td>uint8</td>\n",
       "      <td>../../data/Dog/9705.jpg</td>\n",
       "    </tr>\n",
       "    <tr>\n",
       "      <th>6748</th>\n",
       "      <td>Cat</td>\n",
       "      <td>4821</td>\n",
       "      <td>jpg</td>\n",
       "      <td>7200.0</td>\n",
       "      <td>40.0</td>\n",
       "      <td>60.0</td>\n",
       "      <td>3.0</td>\n",
       "      <td>uint8</td>\n",
       "      <td>../../data/Cat/4821.jpg</td>\n",
       "    </tr>\n",
       "  </tbody>\n",
       "</table>\n",
       "</div>"
      ],
      "text/plain": [
       "      classes number format    size  height  width  channel  dtype  \\\n",
       "7694      Cat   5673    jpg    48.0     4.0    4.0      3.0  uint8   \n",
       "8505      Cat   6402    jpg  5940.0    33.0   60.0      3.0  uint8   \n",
       "7540      Cat   5534    jpg  6480.0    36.0   60.0      3.0  uint8   \n",
       "24674     Dog   9705    jpg  7020.0    39.0   60.0      3.0  uint8   \n",
       "6748      Cat   4821    jpg  7200.0    40.0   60.0      3.0  uint8   \n",
       "\n",
       "                           dir  \n",
       "7694   ../../data/Cat/5673.jpg  \n",
       "8505   ../../data/Cat/6402.jpg  \n",
       "7540   ../../data/Cat/5534.jpg  \n",
       "24674  ../../data/Dog/9705.jpg  \n",
       "6748   ../../data/Cat/4821.jpg  "
      ]
     },
     "execution_count": 4,
     "metadata": {},
     "output_type": "execute_result"
    }
   ],
   "source": [
    "data.sort_values(by=['size']).head()"
   ]
  },
  {
   "cell_type": "markdown",
   "metadata": {},
   "source": [
    "##### DATA OVERVIEW"
   ]
  },
  {
   "cell_type": "code",
   "execution_count": 5,
   "metadata": {},
   "outputs": [
    {
     "name": "stdout",
     "output_type": "stream",
     "text": [
      "<class 'pandas.core.frame.DataFrame'>\n",
      "Int64Index: 24946 entries, 0 to 24999\n",
      "Data columns (total 9 columns):\n",
      "classes    24946 non-null object\n",
      "number     24946 non-null object\n",
      "format     24946 non-null object\n",
      "size       24946 non-null float64\n",
      "height     24946 non-null float64\n",
      "width      24946 non-null float64\n",
      "channel    24946 non-null float64\n",
      "dtype      24946 non-null object\n",
      "dir        24946 non-null object\n",
      "dtypes: float64(4), object(5)\n",
      "memory usage: 1.9+ MB\n"
     ]
    }
   ],
   "source": [
    "data.info()"
   ]
  },
  {
   "cell_type": "markdown",
   "metadata": {},
   "source": [
    "##### VISUALIZE DISTRIBUTION OF CLASSES"
   ]
  },
  {
   "cell_type": "code",
   "execution_count": 6,
   "metadata": {},
   "outputs": [],
   "source": [
    "import seaborn as sns\n",
    "\n",
    "sns.barplot(data['classes'].unique(), data['classes'].value_counts());"
   ]
  },
  {
   "cell_type": "markdown",
   "metadata": {},
   "source": [
    "##### VISUALIZE DISTRIBUTION OF FILE FORMATS"
   ]
  },
  {
   "cell_type": "code",
   "execution_count": 7,
   "metadata": {},
   "outputs": [
    {
     "data": {
      "image/png": "[encoded data removed]",
      "text/plain": [
       "<Figure size 432x288 with 1 Axes>"
      ]
     },
     "metadata": {
      "needs_background": "light"
     },
     "output_type": "display_data"
    }
   ],
   "source": [
    "sns.barplot(data['format'].unique(), data['format'].value_counts());"
   ]
  },
  {
   "cell_type": "markdown",
   "metadata": {},
   "source": [
    "##### VISUALIZE DISTRIBUTION OF COLOR CHANNELS"
   ]
  },
  {
   "cell_type": "code",
   "execution_count": 8,
   "metadata": {},
   "outputs": [
    {
     "data": {
      "image/png": "[encoded data removed]",
      "text/plain": [
       "<Figure size 432x288 with 1 Axes>"
      ]
     },
     "metadata": {
      "needs_background": "light"
     },
     "output_type": "display_data"
    }
   ],
   "source": [
    "sns.barplot(data['channel'].unique(), data['channel'].value_counts());"
   ]
  },
  {
   "cell_type": "markdown",
   "metadata": {},
   "source": [
    "##### VISUALIZE DISTRIBUTION OF IMAGE SHAPES"
   ]
  },
  {
   "cell_type": "code",
   "execution_count": 9,
   "metadata": {},
   "outputs": [
    {
     "data": {
      "image/png": "[encoded data removed]",
      "text/plain": [
       "<Figure size 792.375x360 with 2 Axes>"
      ]
     },
     "metadata": {
      "needs_background": "light"
     },
     "output_type": "display_data"
    }
   ],
   "source": [
    "sns.relplot(x='width', y='height', data=data, hue='classes', col='classes', linewidth=0);"
   ]
  },
  {
   "cell_type": "markdown",
   "metadata": {},
   "source": [
    "##### VISUALIZE DISTRIBUTION OF IMAGE SIZES"
   ]
  },
  {
   "cell_type": "code",
   "execution_count": 10,
   "metadata": {},
   "outputs": [
    {
     "name": "stderr",
     "output_type": "stream",
     "text": [
      "E:\\Users\\gerardo_paniagua\\envs\\tensorflow1\\lib\\site-packages\\scipy\\stats\\stats.py:1713: FutureWarning: Using a non-tuple sequence for multidimensional indexing is deprecated; use `arr[tuple(seq)]` instead of `arr[seq]`. In the future this will be interpreted as an array index, `arr[np.array(seq)]`, which will result either in an error or a different result.\n",
      "  return np.add.reduce(sorted[indexer] * weights, axis=axis) / sumval\n"
     ]
    },
    {
     "data": {
      "image/png": "[encoded data removed]",
      "text/plain": [
       "<Figure size 432x288 with 1 Axes>"
      ]
     },
     "metadata": {
      "needs_background": "light"
     },
     "output_type": "display_data"
    }
   ],
   "source": [
    "sns.distplot(data['size']);"
   ]
  },
  {
   "cell_type": "code",
   "execution_count": null,
   "metadata": {},
   "outputs": [],
   "source": []
  }
 ],
 "metadata": {
  "kernelspec": {
   "display_name": "Python 3",
   "language": "python",
   "name": "python3"
  },
  "language_info": {
   "codemirror_mode": {
    "name": "ipython",
    "version": 3
   },
   "file_extension": ".py",
   "mimetype": "text/x-python",
   "name": "python",
   "nbconvert_exporter": "python",
   "pygments_lexer": "ipython3",
   "version": "3.5.5"
  },
  "widgets": {
   "application/vnd.jupyter.widget-state+json": {
    "state": {
     "006eb21fe18d46f180080e452beb9edc": {
      "model_module": "@jupyter-widgets/base",
      "model_module_version": "1.1.0",
      "model_name": "LayoutModel",
      "state": {}
     },
     "00fd4c24d9ff41bfba9c447c497f5f21": {
      "model_module": "@jupyter-widgets/controls",
      "model_module_version": "1.4.0",
      "model_name": "ProgressStyleModel",
      "state": {
       "description_width": "initial"
      }
     },
     "01b301ff6b274cdbaa4a101d65fd0c87": {
      "model_module": "@jupyter-widgets/base",
      "model_module_version": "1.1.0",
      "model_name": "LayoutModel",
      "state": {}
     },
     "02325b74508f48e9a5924ebfb74d0761": {
      "model_module": "@jupyter-widgets/controls",
      "model_module_version": "1.4.0",
      "model_name": "FloatProgressModel",
      "state": {
       "bar_style": "success",
       "description": "100%",
       "layout": "IPY_MODEL_2ca6530f524b4a89baff9fc65444911a",
       "max": 25000,
       "style": "IPY_MODEL_9f474d63b1494b24ae4c90826e776f21",
       "value": 25000
      }
     },
     "02c230ab2a1a4b68a301b9c6fde11bc9": {
      "model_module": "@jupyter-widgets/base",
      "model_module_version": "1.1.0",
      "model_name": "LayoutModel",
      "state": {}
     },
     "0417175d15c1478f8de35a3fa623f2d7": {
      "model_module": "@jupyter-widgets/base",
      "model_module_version": "1.1.0",
      "model_name": "LayoutModel",
      "state": {}
     },
     "043a64b5ec0845a89a8d48fd2d59206c": {
      "model_module": "@jupyter-widgets/base",
      "model_module_version": "1.1.0",
      "model_name": "LayoutModel",
      "state": {}
     },
     "053d2c1ea01744448010ccf373d60eb0": {
      "model_module": "@jupyter-widgets/controls",
      "model_module_version": "1.4.0",
      "model_name": "ProgressStyleModel",
      "state": {
       "description_width": "initial"
      }
     },
     "0692bb1392464aa5bd6f79fe66382dc9": {
      "model_module": "@jupyter-widgets/controls",
      "model_module_version": "1.4.0",
      "model_name": "HBoxModel",
      "state": {
       "children": [
        "IPY_MODEL_1fb69933f3cd4bc8875512e6b10cbf40",
        "IPY_MODEL_b3d493eee3974e28bacbec10dce0e93a"
       ],
       "layout": "IPY_MODEL_b3c5de92e69d4def9e4158cea17c16a1"
      }
     },
     "0779fdce1c7044c3b4f1e3668fe708b7": {
      "model_module": "@jupyter-widgets/base",
      "model_module_version": "1.1.0",
      "model_name": "LayoutModel",
      "state": {}
     },
     "077f379f552c462cb0741616ef3e7d0a": {
      "model_module": "@jupyter-widgets/base",
      "model_module_version": "1.1.0",
      "model_name": "LayoutModel",
      "state": {}
     },
     "078cc249edcb4996b6f2894f15b981fc": {
      "model_module": "@jupyter-widgets/base",
      "model_module_version": "1.1.0",
      "model_name": "LayoutModel",
      "state": {}
     },
     "09254070a0c04b77b28200b95b4e09da": {
      "model_module": "@jupyter-widgets/base",
      "model_module_version": "1.1.0",
      "model_name": "LayoutModel",
      "state": {}
     },
     "092fb1b926f449b6a5990cbb386efcff": {
      "model_module": "@jupyter-widgets/base",
      "model_module_version": "1.1.0",
      "model_name": "LayoutModel",
      "state": {}
     },
     "093fc35dd0774e3f964d79e51ffb8f68": {
      "model_module": "@jupyter-widgets/base",
      "model_module_version": "1.1.0",
      "model_name": "LayoutModel",
      "state": {}
     },
     "0a6037b7eab74b6fb211ce7c652eec03": {
      "model_module": "@jupyter-widgets/controls",
      "model_module_version": "1.4.0",
      "model_name": "DescriptionStyleModel",
      "state": {
       "description_width": ""
      }
     },
     "0a61971a30c64e6988f1187baa7f4689": {
      "model_module": "@jupyter-widgets/controls",
      "model_module_version": "1.4.0",
      "model_name": "FloatProgressModel",
      "state": {
       "bar_style": "success",
       "description": "100%",
       "layout": "IPY_MODEL_7b60e3d1c39d43d3a38fcbf4af9cf04d",
       "max": 200,
       "style": "IPY_MODEL_45cd5ebcf1b44165a7255601c95be4fa",
       "value": 200
      }
     },
     "0aa47279d2904e60aa9432cec6994eed": {
      "model_module": "@jupyter-widgets/controls",
      "model_module_version": "1.4.0",
      "model_name": "FloatProgressModel",
      "state": {
       "bar_style": "success",
       "description": "100%",
       "layout": "IPY_MODEL_09254070a0c04b77b28200b95b4e09da",
       "max": 25000,
       "style": "IPY_MODEL_1e84e3f12da948d7b321c103782b1252",
       "value": 25000
      }
     },
     "0ad32f8183274dd1ac093cc087301b90": {
      "model_module": "@jupyter-widgets/controls",
      "model_module_version": "1.4.0",
      "model_name": "FloatProgressModel",
      "state": {
       "bar_style": "success",
       "description": "100%",
       "layout": "IPY_MODEL_e1693ebe389346ac8e8046299e585e19",
       "max": 13,
       "style": "IPY_MODEL_9fbfb121251f4dc686b50474da168f8e",
       "value": 13
      }
     },
     "0adf624c35f24e35ba82b66b26df0b3a": {
      "model_module": "@jupyter-widgets/base",
      "model_module_version": "1.1.0",
      "model_name": "LayoutModel",
      "state": {}
     },
     "0bd5592c2ec047e19e8f68cc369553c0": {
      "model_module": "@jupyter-widgets/controls",
      "model_module_version": "1.4.0",
      "model_name": "HBoxModel",
      "state": {
       "children": [
        "IPY_MODEL_53ee42fc9e244d03ab40a33a078f693c",
        "IPY_MODEL_3ae25faa916f44c89870f7a5f54b7fc2"
       ],
       "layout": "IPY_MODEL_01b301ff6b274cdbaa4a101d65fd0c87"
      }
     },
     "0cae1a4af8c7469697e8119590a62b2e": {
      "model_module": "@jupyter-widgets/controls",
      "model_module_version": "1.4.0",
      "model_name": "ProgressStyleModel",
      "state": {
       "description_width": "initial"
      }
     },
     "0d310ea1d6b8486d84a86afbf319f76b": {
      "model_module": "@jupyter-widgets/controls",
      "model_module_version": "1.4.0",
      "model_name": "ProgressStyleModel",
      "state": {
       "description_width": "initial"
      }
     },
     "0ed09656871741ff86747c4f82c407ec": {
      "model_module": "@jupyter-widgets/base",
      "model_module_version": "1.1.0",
      "model_name": "LayoutModel",
      "state": {}
     },
     "0ffaa5454a7f440b8eee2960c542853c": {
      "model_module": "@jupyter-widgets/controls",
      "model_module_version": "1.4.0",
      "model_name": "FloatProgressModel",
      "state": {
       "bar_style": "danger",
       "description": " 72%",
       "layout": "IPY_MODEL_e1d6421a174a43fea3b413ed0b9ec337",
       "max": 200,
       "style": "IPY_MODEL_a036b51e0f7641a59dccadc28da25d1a",
       "value": 143
      }
     },
     "10bf5cd03dcf4503b34fc996bda3dd69": {
      "model_module": "@jupyter-widgets/base",
      "model_module_version": "1.1.0",
      "model_name": "LayoutModel",
      "state": {}
     },
     "114af402723240b7964dc06a386dc657": {
      "model_module": "@jupyter-widgets/controls",
      "model_module_version": "1.4.0",
      "model_name": "ProgressStyleModel",
      "state": {
       "description_width": "initial"
      }
     },
     "14011d728a9c4d788cd2561fe2a6cab3": {
      "model_module": "@jupyter-widgets/controls",
      "model_module_version": "1.4.0",
      "model_name": "HTMLModel",
      "state": {
       "layout": "IPY_MODEL_f7c79d33c0c947d4b2a2f4df0168cc18",
       "style": "IPY_MODEL_bb3bcae573a3495b9d05bb8f32627a0b",
       "value": " 200/200 [00:00&lt;00:00, 333.41it/s]"
      }
     },
     "140489aeefc549f6a9e1d5f8abc9fa8f": {
      "model_module": "@jupyter-widgets/base",
      "model_module_version": "1.1.0",
      "model_name": "LayoutModel",
      "state": {}
     },
     "14c388eedf064aa18908633bae6e6539": {
      "model_module": "@jupyter-widgets/controls",
      "model_module_version": "1.4.0",
      "model_name": "HTMLModel",
      "state": {
       "layout": "IPY_MODEL_24e2c30ccb2349579e30b74787b611a0",
       "style": "IPY_MODEL_d3ff5312410946bcb4bbdc16bc21e199",
       "value": " 13/13 [00:00&lt;00:00, 240.57it/s]"
      }
     },
     "14d5981f261a49f991a2efdc24bc5af0": {
      "model_module": "@jupyter-widgets/controls",
      "model_module_version": "1.4.0",
      "model_name": "DescriptionStyleModel",
      "state": {
       "description_width": ""
      }
     },
     "150451480217479b94a380444fa1fc02": {
      "model_module": "@jupyter-widgets/controls",
      "model_module_version": "1.4.0",
      "model_name": "HBoxModel",
      "state": {
       "children": [
        "IPY_MODEL_368f17791d344452bbb92cdd0691cba5",
        "IPY_MODEL_f4e5974d94a24873976e5011d5a0d3a7"
       ],
       "layout": "IPY_MODEL_b60c84f14d064268a750c944e3d25b2a"
      }
     },
     "157318dc39ce41f0b0929937869c5ef5": {
      "model_module": "@jupyter-widgets/base",
      "model_module_version": "1.1.0",
      "model_name": "LayoutModel",
      "state": {}
     },
     "1589a28e786f433780a7726eb40e766f": {
      "model_module": "@jupyter-widgets/controls",
      "model_module_version": "1.4.0",
      "model_name": "ProgressStyleModel",
      "state": {
       "description_width": "initial"
      }
     },
     "16495c2de6124d21a297915f2c9fd47c": {
      "model_module": "@jupyter-widgets/controls",
      "model_module_version": "1.4.0",
      "model_name": "HTMLModel",
      "state": {
       "layout": "IPY_MODEL_43c204395a7e4ce88f7e1f39af115577",
       "style": "IPY_MODEL_e7ca2f1fc58842268cd183341c301365",
       "value": " 25000/25000 [02:56&lt;00:00, 141.96it/s]"
      }
     },
     "16a949a6bca94596a3b128efbe3d4e4f": {
      "model_module": "@jupyter-widgets/controls",
      "model_module_version": "1.4.0",
      "model_name": "HTMLModel",
      "state": {
       "layout": "IPY_MODEL_c9fa53fa14cc4ffa9402255cbca5a396",
       "style": "IPY_MODEL_def35e4209bb45f98982cecbcede65eb",
       "value": " 25000/25000 [02:55&lt;00:00, 142.27it/s]"
      }
     },
     "16b0b6a4d1b74814821d18c444009275": {
      "model_module": "@jupyter-widgets/base",
      "model_module_version": "1.1.0",
      "model_name": "LayoutModel",
      "state": {}
     },
     "16ec254a06b44606bdaba0cf42b866ab": {
      "model_module": "@jupyter-widgets/controls",
      "model_module_version": "1.4.0",
      "model_name": "HTMLModel",
      "state": {
       "layout": "IPY_MODEL_e8ce1e1a0dd144eead778bcb4a8c4626",
       "style": "IPY_MODEL_c92b98e4d25f4f2ab18786d9b182838f",
       "value": " 200/200 [02:24&lt;00:00,  1.38it/s]"
      }
     },
     "17ca8533f5354d03adeec3dac8c701a3": {
      "model_module": "@jupyter-widgets/controls",
      "model_module_version": "1.4.0",
      "model_name": "DescriptionStyleModel",
      "state": {
       "description_width": ""
      }
     },
     "1846270704cb4681a3ebe05f22d6c93f": {
      "model_module": "@jupyter-widgets/controls",
      "model_module_version": "1.4.0",
      "model_name": "ProgressStyleModel",
      "state": {
       "description_width": "initial"
      }
     },
     "18a5ed446b3d40938e2ff9d82aed459e": {
      "model_module": "@jupyter-widgets/controls",
      "model_module_version": "1.4.0",
      "model_name": "HTMLModel",
      "state": {
       "layout": "IPY_MODEL_140489aeefc549f6a9e1d5f8abc9fa8f",
       "style": "IPY_MODEL_17ca8533f5354d03adeec3dac8c701a3",
       "value": " 200/200 [00:01&lt;00:00, 192.39it/s]"
      }
     },
     "19cd53b916c140749f1c410d6d9b6e42": {
      "model_module": "@jupyter-widgets/controls",
      "model_module_version": "1.4.0",
      "model_name": "DescriptionStyleModel",
      "state": {
       "description_width": ""
      }
     },
     "1a22c76acdfb420f85181fe1b91aa17f": {
      "model_module": "@jupyter-widgets/controls",
      "model_module_version": "1.4.0",
      "model_name": "HTMLModel",
      "state": {
       "layout": "IPY_MODEL_2e3577f7752d446ebfaecff3780583b2",
       "style": "IPY_MODEL_24e0be08cb2d4fb190659a91c76a3631",
       "value": " 4600/25000 [00:17&lt;01:15, 268.61it/s]"
      }
     },
     "1a98af0667e6459b9d8a96fc397c8525": {
      "model_module": "@jupyter-widgets/controls",
      "model_module_version": "1.4.0",
      "model_name": "ProgressStyleModel",
      "state": {
       "description_width": "initial"
      }
     },
     "1a9cb4f72e344f108b9c713ff8e7dc8d": {
      "model_module": "@jupyter-widgets/base",
      "model_module_version": "1.1.0",
      "model_name": "LayoutModel",
      "state": {}
     },
     "1aebcddac4cc4e75b8a69493895ec589": {
      "model_module": "@jupyter-widgets/controls",
      "model_module_version": "1.4.0",
      "model_name": "ProgressStyleModel",
      "state": {
       "description_width": "initial"
      }
     },
     "1b0e764436f24becab06754ecff01206": {
      "model_module": "@jupyter-widgets/base",
      "model_module_version": "1.1.0",
      "model_name": "LayoutModel",
      "state": {}
     },
     "1e8210c8173a4dfcbcf7411491da35f8": {
      "model_module": "@jupyter-widgets/base",
      "model_module_version": "1.1.0",
      "model_name": "LayoutModel",
      "state": {}
     },
     "1e84e3f12da948d7b321c103782b1252": {
      "model_module": "@jupyter-widgets/controls",
      "model_module_version": "1.4.0",
      "model_name": "ProgressStyleModel",
      "state": {
       "description_width": "initial"
      }
     },
     "1ef322f2c19b40ea88f08769c1b708be": {
      "model_module": "@jupyter-widgets/base",
      "model_module_version": "1.1.0",
      "model_name": "LayoutModel",
      "state": {}
     },
     "1f21a8c09ea34a53954deb9d4f3bb095": {
      "model_module": "@jupyter-widgets/controls",
      "model_module_version": "1.4.0",
      "model_name": "HTMLModel",
      "state": {
       "layout": "IPY_MODEL_1ef322f2c19b40ea88f08769c1b708be",
       "style": "IPY_MODEL_755325214cb649b59bab714b554ba6fe",
       "value": " 0/13 [01:57&lt;?, ?it/s]"
      }
     },
     "1f8e13f02ab14a0cb3e47d3921e3a087": {
      "model_module": "@jupyter-widgets/controls",
      "model_module_version": "1.4.0",
      "model_name": "ProgressStyleModel",
      "state": {
       "description_width": "initial"
      }
     },
     "1fb69933f3cd4bc8875512e6b10cbf40": {
      "model_module": "@jupyter-widgets/controls",
      "model_module_version": "1.4.0",
      "model_name": "FloatProgressModel",
      "state": {
       "bar_style": "danger",
       "description": "  0%",
       "layout": "IPY_MODEL_1a9cb4f72e344f108b9c713ff8e7dc8d",
       "max": 25000,
       "style": "IPY_MODEL_7fa5493eeb154765a30ef31ca4cd6a15"
      }
     },
     "1fc672fb01aa49eaa1336cee03173781": {
      "model_module": "@jupyter-widgets/controls",
      "model_module_version": "1.4.0",
      "model_name": "FloatProgressModel",
      "state": {
       "bar_style": "danger",
       "description": "  0%",
       "layout": "IPY_MODEL_caa274cd45c14794b414e59d2f4f7130",
       "max": 25000,
       "style": "IPY_MODEL_78ade5cad86a4d00ac77d2fc95531376"
      }
     },
     "1fe26a8ab5b04b44aa83d4082761f62d": {
      "model_module": "@jupyter-widgets/controls",
      "model_module_version": "1.4.0",
      "model_name": "ProgressStyleModel",
      "state": {
       "description_width": "initial"
      }
     },
     "20975f13cfb14213ab5978186f7b9dde": {
      "model_module": "@jupyter-widgets/base",
      "model_module_version": "1.1.0",
      "model_name": "LayoutModel",
      "state": {}
     },
     "20bd66036091459c9096ac0c5e93f517": {
      "model_module": "@jupyter-widgets/controls",
      "model_module_version": "1.4.0",
      "model_name": "FloatProgressModel",
      "state": {
       "bar_style": "success",
       "description": "100%",
       "layout": "IPY_MODEL_f01989b5147740a98860045ac3807862",
       "max": 25000,
       "style": "IPY_MODEL_c0827dc3e7314959b9f6ca3ca6c8df47",
       "value": 25000
      }
     },
     "212f4a4da5774d5eb1c3c75e3ac21028": {
      "model_module": "@jupyter-widgets/controls",
      "model_module_version": "1.4.0",
      "model_name": "HBoxModel",
      "state": {
       "children": [
        "IPY_MODEL_86f90cf1f31d4ae492d9b21007c09269",
        "IPY_MODEL_c76cdce47bfc4f868d9f1ede2ada022a"
       ],
       "layout": "IPY_MODEL_ee5aa9a3d0a541cba47cb92d9cb23c97"
      }
     },
     "22e2b2a186c74d8e837b755320396ffd": {
      "model_module": "@jupyter-widgets/controls",
      "model_module_version": "1.4.0",
      "model_name": "HBoxModel",
      "state": {
       "children": [
        "IPY_MODEL_02325b74508f48e9a5924ebfb74d0761",
        "IPY_MODEL_e102555b66ee4fcbb3c064c4a124275f"
       ],
       "layout": "IPY_MODEL_4bf5e2a7775a4921904f86a1e157263b"
      }
     },
     "22ee0fd6483247c8b4c5b55324127ecc": {
      "model_module": "@jupyter-widgets/controls",
      "model_module_version": "1.4.0",
      "model_name": "ProgressStyleModel",
      "state": {
       "description_width": "initial"
      }
     },
     "23e982c361df46bcb7e9dec8a4ac6646": {
      "model_module": "@jupyter-widgets/base",
      "model_module_version": "1.1.0",
      "model_name": "LayoutModel",
      "state": {}
     },
     "242ce45cd5d74db19daa634afc9fc8fe": {
      "model_module": "@jupyter-widgets/controls",
      "model_module_version": "1.4.0",
      "model_name": "HBoxModel",
      "state": {
       "children": [
        "IPY_MODEL_8b5b5e727b84476c87ebf0c2cda9a850",
        "IPY_MODEL_5ac1e7f3f80648628accfba2430d154d"
       ],
       "layout": "IPY_MODEL_7a933e5f6dfd4788825719b3733b1b73"
      }
     },
     "24e0be08cb2d4fb190659a91c76a3631": {
      "model_module": "@jupyter-widgets/controls",
      "model_module_version": "1.4.0",
      "model_name": "DescriptionStyleModel",
      "state": {
       "description_width": ""
      }
     },
     "24e2c30ccb2349579e30b74787b611a0": {
      "model_module": "@jupyter-widgets/base",
      "model_module_version": "1.1.0",
      "model_name": "LayoutModel",
      "state": {}
     },
     "252b8fdb51994c13afcbc96f9e56ba04": {
      "model_module": "@jupyter-widgets/controls",
      "model_module_version": "1.4.0",
      "model_name": "HBoxModel",
      "state": {
       "children": [
        "IPY_MODEL_cc5daf6d0bf24a9aac35b98b9c24cd2a",
        "IPY_MODEL_3f8a86446efb477abb4ae03b220ce5ce"
       ],
       "layout": "IPY_MODEL_64c1494cd5694575b736376a074586ab"
      }
     },
     "2591e8b8cd844a55b71990c0edf98ccb": {
      "model_module": "@jupyter-widgets/controls",
      "model_module_version": "1.4.0",
      "model_name": "ProgressStyleModel",
      "state": {
       "description_width": "initial"
      }
     },
     "25ab62a3cbce4668b39b9f344f127ab5": {
      "model_module": "@jupyter-widgets/controls",
      "model_module_version": "1.4.0",
      "model_name": "FloatProgressModel",
      "state": {
       "bar_style": "danger",
       "description": " 72%",
       "layout": "IPY_MODEL_690e1357d5984475b096fc4cd6bb75f0",
       "max": 200,
       "style": "IPY_MODEL_1aebcddac4cc4e75b8a69493895ec589",
       "value": 143
      }
     },
     "25fb43db2e5248a6a061a842f9447d45": {
      "model_module": "@jupyter-widgets/base",
      "model_module_version": "1.1.0",
      "model_name": "LayoutModel",
      "state": {}
     },
     "26256207c6034ea199336a0522c8adb6": {
      "model_module": "@jupyter-widgets/base",
      "model_module_version": "1.1.0",
      "model_name": "LayoutModel",
      "state": {}
     },
     "262bf420a53942248e3ca5593b220af1": {
      "model_module": "@jupyter-widgets/base",
      "model_module_version": "1.1.0",
      "model_name": "LayoutModel",
      "state": {}
     },
     "271ddc454f2b42dfa7c279d2c53c15a0": {
      "model_module": "@jupyter-widgets/controls",
      "model_module_version": "1.4.0",
      "model_name": "FloatProgressModel",
      "state": {
       "bar_style": "success",
       "description": "100%",
       "layout": "IPY_MODEL_6f397c0c00334b3ea84d17915be08544",
       "max": 25000,
       "style": "IPY_MODEL_00fd4c24d9ff41bfba9c447c497f5f21",
       "value": 25000
      }
     },
     "2828f44b99f84e49a4474100caf0b6f3": {
      "model_module": "@jupyter-widgets/base",
      "model_module_version": "1.1.0",
      "model_name": "LayoutModel",
      "state": {}
     },
     "289f0a1f5ffd4151a22164ba0bdf24f0": {
      "model_module": "@jupyter-widgets/base",
      "model_module_version": "1.1.0",
      "model_name": "LayoutModel",
      "state": {}
     },
     "28f56f1298fb4f189ca5b9a59067ac76": {
      "model_module": "@jupyter-widgets/base",
      "model_module_version": "1.1.0",
      "model_name": "LayoutModel",
      "state": {}
     },
     "2923518f284647f79e14b130b43fa04d": {
      "model_module": "@jupyter-widgets/base",
      "model_module_version": "1.1.0",
      "model_name": "LayoutModel",
      "state": {}
     },
     "2a15de6c572b4c5eaeab7a7e4819c21d": {
      "model_module": "@jupyter-widgets/controls",
      "model_module_version": "1.4.0",
      "model_name": "HBoxModel",
      "state": {
       "children": [
        "IPY_MODEL_eeaea307b4f84f4189aef17e5754755f",
        "IPY_MODEL_377722d3afdc4ffc9404cbf50d3caee8"
       ],
       "layout": "IPY_MODEL_20975f13cfb14213ab5978186f7b9dde"
      }
     },
     "2a287c2182f243d7994ff1b743a5a640": {
      "model_module": "@jupyter-widgets/base",
      "model_module_version": "1.1.0",
      "model_name": "LayoutModel",
      "state": {}
     },
     "2a43f3e9091649a4b2b1cd632eb873bd": {
      "model_module": "@jupyter-widgets/controls",
      "model_module_version": "1.4.0",
      "model_name": "DescriptionStyleModel",
      "state": {
       "description_width": ""
      }
     },
     "2a4b3f8689c74632b7e8a5e662994492": {
      "model_module": "@jupyter-widgets/controls",
      "model_module_version": "1.4.0",
      "model_name": "FloatProgressModel",
      "state": {
       "bar_style": "danger",
       "description": " 72%",
       "layout": "IPY_MODEL_ad03e2c3faab4f40a81778f30c8e9a1e",
       "max": 200,
       "style": "IPY_MODEL_4d326a2dc00f480aba28b45763f76c8a",
       "value": 143
      }
     },
     "2ae8d52ed9bd4c63b1e125c69b6de2ab": {
      "model_module": "@jupyter-widgets/controls",
      "model_module_version": "1.4.0",
      "model_name": "HBoxModel",
      "state": {
       "children": [
        "IPY_MODEL_8f2be2fb11f64ce69849e96688ca818a",
        "IPY_MODEL_a3d39f26dbce4626ba40e4a6c52a0207"
       ],
       "layout": "IPY_MODEL_d96b69c6e4d7481187c4050d84373da6"
      }
     },
     "2b68946d6d604fcda2a2407a1c16c7cb": {
      "model_module": "@jupyter-widgets/controls",
      "model_module_version": "1.4.0",
      "model_name": "ProgressStyleModel",
      "state": {
       "description_width": "initial"
      }
     },
     "2c53639c156a4f4c86714176b28e1cd5": {
      "model_module": "@jupyter-widgets/base",
      "model_module_version": "1.1.0",
      "model_name": "LayoutModel",
      "state": {}
     },
     "2c97eb09035540abae0e4aed3d7cc6ee": {
      "model_module": "@jupyter-widgets/controls",
      "model_module_version": "1.4.0",
      "model_name": "HTMLModel",
      "state": {
       "layout": "IPY_MODEL_82401766f0b747069fc947879b32f58b",
       "style": "IPY_MODEL_347fff54846c4c84a80c38b9ab01a9c3",
       "value": " 25000/25000 [14:52:21&lt;00:00,  2.14s/it]"
      }
     },
     "2ca6530f524b4a89baff9fc65444911a": {
      "model_module": "@jupyter-widgets/base",
      "model_module_version": "1.1.0",
      "model_name": "LayoutModel",
      "state": {}
     },
     "2cb31f38bc96431889371ff941d86704": {
      "model_module": "@jupyter-widgets/controls",
      "model_module_version": "1.4.0",
      "model_name": "HBoxModel",
      "state": {
       "children": [
        "IPY_MODEL_6ebfac5d4ea5494d995609813799e8ae",
        "IPY_MODEL_f612c55a30f14ee1afc007a4b1c72431"
       ],
       "layout": "IPY_MODEL_7c2e07d545874b3bb49fe7b7f7e4334d"
      }
     },
     "2dac6af8fdfc4b18bfe3335575b075db": {
      "model_module": "@jupyter-widgets/controls",
      "model_module_version": "1.4.0",
      "model_name": "HBoxModel",
      "state": {
       "children": [
        "IPY_MODEL_6dcbd9c0471f46c29b2f695210732504",
        "IPY_MODEL_2edd1d81bcc14f0a8d2700ab04f0ddfb"
       ],
       "layout": "IPY_MODEL_beb34b0ef79449f19bc3321babf6d6fa"
      }
     },
     "2dc053abd7c144f18269523c140a944c": {
      "model_module": "@jupyter-widgets/controls",
      "model_module_version": "1.4.0",
      "model_name": "HBoxModel",
      "state": {
       "children": [
        "IPY_MODEL_0a61971a30c64e6988f1187baa7f4689",
        "IPY_MODEL_e287f784a4d64ee493500af48d550a2d"
       ],
       "layout": "IPY_MODEL_a8d1bc26cac7435c8b7d0cd1844a51b3"
      }
     },
     "2e041bb1aca34a338ddae25f420e1bf1": {
      "model_module": "@jupyter-widgets/controls",
      "model_module_version": "1.4.0",
      "model_name": "DescriptionStyleModel",
      "state": {
       "description_width": ""
      }
     },
     "2e3577f7752d446ebfaecff3780583b2": {
      "model_module": "@jupyter-widgets/base",
      "model_module_version": "1.1.0",
      "model_name": "LayoutModel",
      "state": {}
     },
     "2edd1d81bcc14f0a8d2700ab04f0ddfb": {
      "model_module": "@jupyter-widgets/controls",
      "model_module_version": "1.4.0",
      "model_name": "HTMLModel",
      "state": {
       "layout": "IPY_MODEL_289f0a1f5ffd4151a22164ba0bdf24f0",
       "style": "IPY_MODEL_9ce65c5036984049b3fda1b795c4e693",
       "value": " 0/13 [00:31&lt;?, ?it/s]"
      }
     },
     "30aff41e2c7646e097f09366f54246b6": {
      "model_module": "@jupyter-widgets/base",
      "model_module_version": "1.1.0",
      "model_name": "LayoutModel",
      "state": {}
     },
     "30b56ad46b2a4796a1df870ed31a427b": {
      "model_module": "@jupyter-widgets/base",
      "model_module_version": "1.1.0",
      "model_name": "LayoutModel",
      "state": {}
     },
     "31a3feab2b1b49d69435a5c56fac8158": {
      "model_module": "@jupyter-widgets/base",
      "model_module_version": "1.1.0",
      "model_name": "LayoutModel",
      "state": {}
     },
     "322fdb8cc4864884a257d711731758df": {
      "model_module": "@jupyter-widgets/controls",
      "model_module_version": "1.4.0",
      "model_name": "HBoxModel",
      "state": {
       "children": [
        "IPY_MODEL_6ea4eddfa5e740e18467f803063526dd",
        "IPY_MODEL_16ec254a06b44606bdaba0cf42b866ab"
       ],
       "layout": "IPY_MODEL_262bf420a53942248e3ca5593b220af1"
      }
     },
     "3255927f2ea5426fba249125cb2f7331": {
      "model_module": "@jupyter-widgets/base",
      "model_module_version": "1.1.0",
      "model_name": "LayoutModel",
      "state": {}
     },
     "347fff54846c4c84a80c38b9ab01a9c3": {
      "model_module": "@jupyter-widgets/controls",
      "model_module_version": "1.4.0",
      "model_name": "DescriptionStyleModel",
      "state": {
       "description_width": ""
      }
     },
     "34e399e53d9042e89c59164e83d05e53": {
      "model_module": "@jupyter-widgets/base",
      "model_module_version": "1.1.0",
      "model_name": "LayoutModel",
      "state": {}
     },
     "350110464d3445f5a04a6f252bfcfb0e": {
      "model_module": "@jupyter-widgets/base",
      "model_module_version": "1.1.0",
      "model_name": "LayoutModel",
      "state": {}
     },
     "35eda131c58a444095a8ffe3087029a4": {
      "model_module": "@jupyter-widgets/controls",
      "model_module_version": "1.4.0",
      "model_name": "HBoxModel",
      "state": {
       "children": [
        "IPY_MODEL_62ab9f89cf314214b953fa9b71f63ea9",
        "IPY_MODEL_a8d1e78bdbcf40d498e987d2d5d5ad3e"
       ],
       "layout": "IPY_MODEL_077f379f552c462cb0741616ef3e7d0a"
      }
     },
     "368f17791d344452bbb92cdd0691cba5": {
      "model_module": "@jupyter-widgets/controls",
      "model_module_version": "1.4.0",
      "model_name": "FloatProgressModel",
      "state": {
       "bar_style": "danger",
       "description": " 72%",
       "layout": "IPY_MODEL_67467c8eb5034b4586d5dcc0a7308a20",
       "max": 200,
       "style": "IPY_MODEL_b9130758872242d5bb45e32789ee6aa0",
       "value": 143
      }
     },
     "377722d3afdc4ffc9404cbf50d3caee8": {
      "model_module": "@jupyter-widgets/controls",
      "model_module_version": "1.4.0",
      "model_name": "HTMLModel",
      "state": {
       "layout": "IPY_MODEL_3b5b42b6d51e4fb5b08a36e3f06d8c07",
       "style": "IPY_MODEL_fa2394bf8801441ab4bafb8dd3d51846",
       "value": " 200/200 [00:01&lt;00:00, 194.26it/s]"
      }
     },
     "37bd59f6cc054529bba122e4e78eb0ac": {
      "model_module": "@jupyter-widgets/base",
      "model_module_version": "1.1.0",
      "model_name": "LayoutModel",
      "state": {}
     },
     "3814e463d53b44aeb878931af311d7a8": {
      "model_module": "@jupyter-widgets/controls",
      "model_module_version": "1.4.0",
      "model_name": "HBoxModel",
      "state": {
       "children": [
        "IPY_MODEL_2a4b3f8689c74632b7e8a5e662994492",
        "IPY_MODEL_a6c822e7f66d438ba5ae80239fe5afda"
       ],
       "layout": "IPY_MODEL_2c53639c156a4f4c86714176b28e1cd5"
      }
     },
     "3816b83bebdc4fe6a3fb17e4439fdb87": {
      "model_module": "@jupyter-widgets/controls",
      "model_module_version": "1.4.0",
      "model_name": "DescriptionStyleModel",
      "state": {
       "description_width": ""
      }
     },
     "39455ec1157f4acab57a293c35fd07f7": {
      "model_module": "@jupyter-widgets/base",
      "model_module_version": "1.1.0",
      "model_name": "LayoutModel",
      "state": {}
     },
     "39c477c7a91d4d69b91dd5a0322de03c": {
      "model_module": "@jupyter-widgets/base",
      "model_module_version": "1.1.0",
      "model_name": "LayoutModel",
      "state": {}
     },
     "3a44c3b77a0549cca3f5ce74c74c6f1a": {
      "model_module": "@jupyter-widgets/base",
      "model_module_version": "1.1.0",
      "model_name": "LayoutModel",
      "state": {}
     },
     "3ae25faa916f44c89870f7a5f54b7fc2": {
      "model_module": "@jupyter-widgets/controls",
      "model_module_version": "1.4.0",
      "model_name": "HTMLModel",
      "state": {
       "layout": "IPY_MODEL_da6328b817d54065874e7b5b6270f309",
       "style": "IPY_MODEL_9ea41d3975d245dc9f2cd07836f4ad34",
       "value": " 200/200 [10:18&lt;00:00,  3.09s/it]"
      }
     },
     "3b33ba2c962642dc80c7912d317631a7": {
      "model_module": "@jupyter-widgets/controls",
      "model_module_version": "1.4.0",
      "model_name": "DescriptionStyleModel",
      "state": {
       "description_width": ""
      }
     },
     "3b5b42b6d51e4fb5b08a36e3f06d8c07": {
      "model_module": "@jupyter-widgets/base",
      "model_module_version": "1.1.0",
      "model_name": "LayoutModel",
      "state": {}
     },
     "3bacc9ee5c7840969c9e324173951159": {
      "model_module": "@jupyter-widgets/base",
      "model_module_version": "1.1.0",
      "model_name": "LayoutModel",
      "state": {}
     },
     "3bd5269ffcf84f8c9bd8b36bf1422cff": {
      "model_module": "@jupyter-widgets/controls",
      "model_module_version": "1.4.0",
      "model_name": "HBoxModel",
      "state": {
       "children": [
        "IPY_MODEL_c13187a940a040c3b7899e98b10cad1f",
        "IPY_MODEL_962f2526cef54afa9764ed5e94bdd541"
       ],
       "layout": "IPY_MODEL_093fc35dd0774e3f964d79e51ffb8f68"
      }
     },
     "3c863516e37d4a32a8f21a1f5afe33d5": {
      "model_module": "@jupyter-widgets/controls",
      "model_module_version": "1.4.0",
      "model_name": "HBoxModel",
      "state": {
       "children": [
        "IPY_MODEL_79320c67d7c04523aa1d7a7ad535a180",
        "IPY_MODEL_1a22c76acdfb420f85181fe1b91aa17f"
       ],
       "layout": "IPY_MODEL_537369f2588a49f4b6b3e80139470f8d"
      }
     },
     "3cb3825bb61a425abdae713b0e63bb04": {
      "model_module": "@jupyter-widgets/controls",
      "model_module_version": "1.4.0",
      "model_name": "FloatProgressModel",
      "state": {
       "bar_style": "danger",
       "description": "  1%",
       "layout": "IPY_MODEL_dfe813c241f54b7988baabf7e6bf1657",
       "max": 25000,
       "style": "IPY_MODEL_9093ced7c5634fe58cf02eee618bdb8d",
       "value": 143
      }
     },
     "3d34988c0ba8459186d0ff2d8a6997b0": {
      "model_module": "@jupyter-widgets/base",
      "model_module_version": "1.1.0",
      "model_name": "LayoutModel",
      "state": {}
     },
     "3e7306f3bdee4e4c9721d1e3ddf3fd61": {
      "model_module": "@jupyter-widgets/controls",
      "model_module_version": "1.4.0",
      "model_name": "HTMLModel",
      "state": {
       "layout": "IPY_MODEL_938b5e870bf948029c1ab7d7c684dc67",
       "style": "IPY_MODEL_f12f64b9d98e49db9c28e3bb94bf0c80",
       "value": " 13785/25000 [00:47&lt;00:38, 287.90it/s]"
      }
     },
     "3f3357d55e274d99903eb2bd5ce9f212": {
      "model_module": "@jupyter-widgets/controls",
      "model_module_version": "1.4.0",
      "model_name": "FloatProgressModel",
      "state": {
       "bar_style": "danger",
       "description": " 72%",
       "layout": "IPY_MODEL_8ce42290332749c6befe07b984ed8cc6",
       "max": 200,
       "style": "IPY_MODEL_683db7f4214c45ee80d656fb16eacc5a",
       "value": 143
      }
     },
     "3f8a86446efb477abb4ae03b220ce5ce": {
      "model_module": "@jupyter-widgets/controls",
      "model_module_version": "1.4.0",
      "model_name": "HTMLModel",
      "state": {
       "layout": "IPY_MODEL_9543ac711b024ca6b81c84c515190e7d",
       "style": "IPY_MODEL_5223de05a87e41eebabf19813d8f5b86",
       "value": " 25000/25000 [01:59&lt;00:00, 210.01it/s]"
      }
     },
     "3f9a585cfe624f51bf5aea2f646e2a05": {
      "model_module": "@jupyter-widgets/base",
      "model_module_version": "1.1.0",
      "model_name": "LayoutModel",
      "state": {}
     },
     "3fc59f202d5f427094eea4d4cc232910": {
      "model_module": "@jupyter-widgets/controls",
      "model_module_version": "1.4.0",
      "model_name": "DescriptionStyleModel",
      "state": {
       "description_width": ""
      }
     },
     "4122721c67824011b4c4e0c58d0156d7": {
      "model_module": "@jupyter-widgets/base",
      "model_module_version": "1.1.0",
      "model_name": "LayoutModel",
      "state": {}
     },
     "4159f195815d4b91aafbc02c0a320d62": {
      "model_module": "@jupyter-widgets/base",
      "model_module_version": "1.1.0",
      "model_name": "LayoutModel",
      "state": {}
     },
     "42ed520adabe400cb8d03e47796ec669": {
      "model_module": "@jupyter-widgets/controls",
      "model_module_version": "1.4.0",
      "model_name": "HTMLModel",
      "state": {
       "layout": "IPY_MODEL_2923518f284647f79e14b130b43fa04d",
       "style": "IPY_MODEL_c4a09068657e4d86997153a5b383ca26",
       "value": " 200/200 [00:01&lt;00:00, 182.23it/s]"
      }
     },
     "434e819d102c4d56a40c708e6a81f02c": {
      "model_module": "@jupyter-widgets/controls",
      "model_module_version": "1.4.0",
      "model_name": "HBoxModel",
      "state": {
       "children": [
        "IPY_MODEL_d0aee58bed70485e96f859d476db384f",
        "IPY_MODEL_a7b9bd07353449f4ae226a95b8c5a310"
       ],
       "layout": "IPY_MODEL_6c2197399c84410e8e7716c9f5932a32"
      }
     },
     "43c204395a7e4ce88f7e1f39af115577": {
      "model_module": "@jupyter-widgets/base",
      "model_module_version": "1.1.0",
      "model_name": "LayoutModel",
      "state": {}
     },
     "44bcb89903ef4e2291d9ff7a1bb08146": {
      "model_module": "@jupyter-widgets/controls",
      "model_module_version": "1.4.0",
      "model_name": "FloatProgressModel",
      "state": {
       "bar_style": "danger",
       "description": "  0%",
       "layout": "IPY_MODEL_c1585652370c41029a47566e4424f6eb",
       "max": 13,
       "style": "IPY_MODEL_c46227cb60594db4a72a183669aa49ce"
      }
     },
     "45840348cb6e415cb3a8a9fb9ab14785": {
      "model_module": "@jupyter-widgets/controls",
      "model_module_version": "1.4.0",
      "model_name": "HBoxModel",
      "state": {
       "children": [
        "IPY_MODEL_1fc672fb01aa49eaa1336cee03173781",
        "IPY_MODEL_5c9dd017fcd6424c981f065a8148fc83"
       ],
       "layout": "IPY_MODEL_0ed09656871741ff86747c4f82c407ec"
      }
     },
     "45cd5ebcf1b44165a7255601c95be4fa": {
      "model_module": "@jupyter-widgets/controls",
      "model_module_version": "1.4.0",
      "model_name": "ProgressStyleModel",
      "state": {
       "description_width": "initial"
      }
     },
     "45f7dc95a36f409485ef67b44e8ae23e": {
      "model_module": "@jupyter-widgets/base",
      "model_module_version": "1.1.0",
      "model_name": "LayoutModel",
      "state": {}
     },
     "460f2d7051d846b78eb0f5bf60e091a8": {
      "model_module": "@jupyter-widgets/base",
      "model_module_version": "1.1.0",
      "model_name": "LayoutModel",
      "state": {}
     },
     "46435024425d43b182e2ef3f5ea70159": {
      "model_module": "@jupyter-widgets/controls",
      "model_module_version": "1.4.0",
      "model_name": "HTMLModel",
      "state": {
       "layout": "IPY_MODEL_b5e9e2722a914a3cabcb3e873433599a",
       "style": "IPY_MODEL_b22dba9a1f9b4984a20b8a82c46ab7e7",
       "value": " 200/200 [01:33&lt;00:00,  2.15it/s]"
      }
     },
     "4654a7adf508485faf8cd9ab88f21c7b": {
      "model_module": "@jupyter-widgets/base",
      "model_module_version": "1.1.0",
      "model_name": "LayoutModel",
      "state": {}
     },
     "48b393406df6436c8ab585f6b9c18af5": {
      "model_module": "@jupyter-widgets/controls",
      "model_module_version": "1.4.0",
      "model_name": "DescriptionStyleModel",
      "state": {
       "description_width": ""
      }
     },
     "4a2833482a9540109ded0f88d57152a6": {
      "model_module": "@jupyter-widgets/base",
      "model_module_version": "1.1.0",
      "model_name": "LayoutModel",
      "state": {}
     },
     "4adaa44a2dbc4d0ab52b3a3b7340cffd": {
      "model_module": "@jupyter-widgets/base",
      "model_module_version": "1.1.0",
      "model_name": "LayoutModel",
      "state": {}
     },
     "4b8b6831204444b6a0fdc17c9b8bb0cc": {
      "model_module": "@jupyter-widgets/base",
      "model_module_version": "1.1.0",
      "model_name": "LayoutModel",
      "state": {}
     },
     "4bf5e2a7775a4921904f86a1e157263b": {
      "model_module": "@jupyter-widgets/base",
      "model_module_version": "1.1.0",
      "model_name": "LayoutModel",
      "state": {}
     },
     "4d326a2dc00f480aba28b45763f76c8a": {
      "model_module": "@jupyter-widgets/controls",
      "model_module_version": "1.4.0",
      "model_name": "ProgressStyleModel",
      "state": {
       "description_width": "initial"
      }
     },
     "4d64c7f87b5b44a2ba86c6ea7b8411e0": {
      "model_module": "@jupyter-widgets/base",
      "model_module_version": "1.1.0",
      "model_name": "LayoutModel",
      "state": {}
     },
     "4e4f7f2166c74a089bafbbcc06986fb7": {
      "model_module": "@jupyter-widgets/controls",
      "model_module_version": "1.4.0",
      "model_name": "HTMLModel",
      "state": {
       "layout": "IPY_MODEL_4b8b6831204444b6a0fdc17c9b8bb0cc",
       "style": "IPY_MODEL_d4ad3f7bedfb438cbc268774bd6bb530",
       "value": " 143/25000 [00:27&lt;1:18:54,  5.25it/s]"
      }
     },
     "512814d19af34cb994552e83d7e43d8d": {
      "model_module": "@jupyter-widgets/controls",
      "model_module_version": "1.4.0",
      "model_name": "HBoxModel",
      "state": {
       "children": [
        "IPY_MODEL_fec7fe4b06d44c31a82153dba404ef74",
        "IPY_MODEL_711834b728ba44a398bbbc28ab78c9c6"
       ],
       "layout": "IPY_MODEL_83a845acef82476e8aec975bad5188ee"
      }
     },
     "517e744d01c24422aacd867ff99397e1": {
      "model_module": "@jupyter-widgets/base",
      "model_module_version": "1.1.0",
      "model_name": "LayoutModel",
      "state": {}
     },
     "51d0c619533e47338f0b1b415f8e5e23": {
      "model_module": "@jupyter-widgets/base",
      "model_module_version": "1.1.0",
      "model_name": "LayoutModel",
      "state": {}
     },
     "5223de05a87e41eebabf19813d8f5b86": {
      "model_module": "@jupyter-widgets/controls",
      "model_module_version": "1.4.0",
      "model_name": "DescriptionStyleModel",
      "state": {
       "description_width": ""
      }
     },
     "537369f2588a49f4b6b3e80139470f8d": {
      "model_module": "@jupyter-widgets/base",
      "model_module_version": "1.1.0",
      "model_name": "LayoutModel",
      "state": {}
     },
     "53ee42fc9e244d03ab40a33a078f693c": {
      "model_module": "@jupyter-widgets/controls",
      "model_module_version": "1.4.0",
      "model_name": "FloatProgressModel",
      "state": {
       "bar_style": "success",
       "description": "100%",
       "layout": "IPY_MODEL_006eb21fe18d46f180080e452beb9edc",
       "max": 200,
       "style": "IPY_MODEL_1589a28e786f433780a7726eb40e766f",
       "value": 200
      }
     },
     "554523b3dfd1490289bb822b5fc471cb": {
      "model_module": "@jupyter-widgets/controls",
      "model_module_version": "1.4.0",
      "model_name": "HBoxModel",
      "state": {
       "children": [
        "IPY_MODEL_c0724666d07f477c8add5a124e226f38",
        "IPY_MODEL_ae91705a27cb4a9f8faf4c3d128e27a2"
       ],
       "layout": "IPY_MODEL_cfe0225244ca44afb9feebf589aeb2cd"
      }
     },
     "556259a44a324a73a3d6d57fbdfa6adb": {
      "model_module": "@jupyter-widgets/controls",
      "model_module_version": "1.4.0",
      "model_name": "DescriptionStyleModel",
      "state": {
       "description_width": ""
      }
     },
     "561796946da74def897a4fd98e7ba14d": {
      "model_module": "@jupyter-widgets/controls",
      "model_module_version": "1.4.0",
      "model_name": "ProgressStyleModel",
      "state": {
       "description_width": "initial"
      }
     },
     "57b91cbd9ca041388b3e155f2d1e52a1": {
      "model_module": "@jupyter-widgets/base",
      "model_module_version": "1.1.0",
      "model_name": "LayoutModel",
      "state": {}
     },
     "58d99f7994d948f191243606d7d9f54a": {
      "model_module": "@jupyter-widgets/base",
      "model_module_version": "1.1.0",
      "model_name": "LayoutModel",
      "state": {}
     },
     "594fdd33e7a5487b89dc24e4408156b7": {
      "model_module": "@jupyter-widgets/controls",
      "model_module_version": "1.4.0",
      "model_name": "HBoxModel",
      "state": {
       "children": [
        "IPY_MODEL_e80c9eb08fd3447091b800484d92d8fd",
        "IPY_MODEL_5d5d2257ae5c4247bc5a17e0a01987d6"
       ],
       "layout": "IPY_MODEL_0779fdce1c7044c3b4f1e3668fe708b7"
      }
     },
     "59c801c15cc949fca5a0f2d2bc79ed58": {
      "model_module": "@jupyter-widgets/controls",
      "model_module_version": "1.4.0",
      "model_name": "DescriptionStyleModel",
      "state": {
       "description_width": ""
      }
     },
     "5ac1e7f3f80648628accfba2430d154d": {
      "model_module": "@jupyter-widgets/controls",
      "model_module_version": "1.4.0",
      "model_name": "HTMLModel",
      "state": {
       "layout": "IPY_MODEL_ab5a6886703d45869462fa4426980f70",
       "style": "IPY_MODEL_b36f58cfae794db3bed07369f5d5e727",
       "value": " 1008/25000 [00:24&lt;09:41, 41.27it/s]"
      }
     },
     "5b1d2cf613d54783955969617e03932b": {
      "model_module": "@jupyter-widgets/controls",
      "model_module_version": "1.4.0",
      "model_name": "HBoxModel",
      "state": {
       "children": [
        "IPY_MODEL_98f8a10ff06045efbdb99a63599652e1",
        "IPY_MODEL_7cd3cd02375047648647b2f365e3c2d9"
       ],
       "layout": "IPY_MODEL_3a44c3b77a0549cca3f5ce74c74c6f1a"
      }
     },
     "5bed5d77dc1e4b83a1e64c719e54d7cc": {
      "model_module": "@jupyter-widgets/controls",
      "model_module_version": "1.4.0",
      "model_name": "HTMLModel",
      "state": {
       "layout": "IPY_MODEL_77d365a0c5df4146827da24e0a1c37a5",
       "style": "IPY_MODEL_85d131b5abe841bd921bae9532e9e7fa",
       "value": " 200/200 [00:01&lt;00:00, 191.73it/s]"
      }
     },
     "5c09d6b7c5c14eb196e45a8624e630d0": {
      "model_module": "@jupyter-widgets/base",
      "model_module_version": "1.1.0",
      "model_name": "LayoutModel",
      "state": {}
     },
     "5c9dd017fcd6424c981f065a8148fc83": {
      "model_module": "@jupyter-widgets/controls",
      "model_module_version": "1.4.0",
      "model_name": "HTMLModel",
      "state": {
       "layout": "IPY_MODEL_9ab512b96d1840e7bf84f1463acdbb6a",
       "style": "IPY_MODEL_19cd53b916c140749f1c410d6d9b6e42",
       "value": " 0/25000 [00:10&lt;?, ?it/s]"
      }
     },
     "5d5d2257ae5c4247bc5a17e0a01987d6": {
      "model_module": "@jupyter-widgets/controls",
      "model_module_version": "1.4.0",
      "model_name": "HTMLModel",
      "state": {
       "layout": "IPY_MODEL_26256207c6034ea199336a0522c8adb6",
       "style": "IPY_MODEL_59c801c15cc949fca5a0f2d2bc79ed58",
       "value": " 200/200 [06:58&lt;00:00,  2.09s/it]"
      }
     },
     "5dcbdca1935b4e8f9d9f3d4fbda4c6ca": {
      "model_module": "@jupyter-widgets/controls",
      "model_module_version": "1.4.0",
      "model_name": "FloatProgressModel",
      "state": {
       "bar_style": "success",
       "description": "100%",
       "layout": "IPY_MODEL_f2ebd7b38e8a41128ad4482f51bc90fe",
       "max": 200,
       "style": "IPY_MODEL_a455b79252c344d990b93ce2df1bc01e",
       "value": 200
      }
     },
     "5e9619047a07496dba0ca00aae0c4f8f": {
      "model_module": "@jupyter-widgets/controls",
      "model_module_version": "1.4.0",
      "model_name": "ProgressStyleModel",
      "state": {
       "description_width": "initial"
      }
     },
     "5ee364403eb74c02990b0d26b57a7fa2": {
      "model_module": "@jupyter-widgets/controls",
      "model_module_version": "1.4.0",
      "model_name": "DescriptionStyleModel",
      "state": {
       "description_width": ""
      }
     },
     "5f5401e60ad645a697a33e2dada7f9dc": {
      "model_module": "@jupyter-widgets/base",
      "model_module_version": "1.1.0",
      "model_name": "LayoutModel",
      "state": {}
     },
     "5f86db9227e443f9a9a312fe55d12fb7": {
      "model_module": "@jupyter-widgets/controls",
      "model_module_version": "1.4.0",
      "model_name": "FloatProgressModel",
      "state": {
       "bar_style": "danger",
       "description": " 72%",
       "layout": "IPY_MODEL_b29f3e4b362b406bb02838c027a80729",
       "max": 200,
       "style": "IPY_MODEL_64667861516e4f3399b2df8fc2e54470",
       "value": 143
      }
     },
     "5fdef3a32d864ce4a4cde894cb5206f5": {
      "model_module": "@jupyter-widgets/base",
      "model_module_version": "1.1.0",
      "model_name": "LayoutModel",
      "state": {}
     },
     "617d3b8c12984b4a88604cd759c86590": {
      "model_module": "@jupyter-widgets/controls",
      "model_module_version": "1.4.0",
      "model_name": "DescriptionStyleModel",
      "state": {
       "description_width": ""
      }
     },
     "6186d54e66404a1c84e19897764f8c32": {
      "model_module": "@jupyter-widgets/base",
      "model_module_version": "1.1.0",
      "model_name": "LayoutModel",
      "state": {}
     },
     "62ab9f89cf314214b953fa9b71f63ea9": {
      "model_module": "@jupyter-widgets/controls",
      "model_module_version": "1.4.0",
      "model_name": "FloatProgressModel",
      "state": {
       "bar_style": "danger",
       "description": "  0%",
       "layout": "IPY_MODEL_de14825302e74bed8d82d01e6397eab6",
       "max": 13,
       "style": "IPY_MODEL_96bebca83f294c91ad8abf66ae7080b6"
      }
     },
     "642bb33d7f5e4212bf09eaebb96ab106": {
      "model_module": "@jupyter-widgets/controls",
      "model_module_version": "1.4.0",
      "model_name": "DescriptionStyleModel",
      "state": {
       "description_width": ""
      }
     },
     "64667861516e4f3399b2df8fc2e54470": {
      "model_module": "@jupyter-widgets/controls",
      "model_module_version": "1.4.0",
      "model_name": "ProgressStyleModel",
      "state": {
       "description_width": "initial"
      }
     },
     "64c1494cd5694575b736376a074586ab": {
      "model_module": "@jupyter-widgets/base",
      "model_module_version": "1.1.0",
      "model_name": "LayoutModel",
      "state": {}
     },
     "64fda65614a6456c809aef342fbfac1a": {
      "model_module": "@jupyter-widgets/controls",
      "model_module_version": "1.4.0",
      "model_name": "HTMLModel",
      "state": {
       "layout": "IPY_MODEL_860e0bf4847e458988750285570b1b65",
       "style": "IPY_MODEL_3fc59f202d5f427094eea4d4cc232910",
       "value": " 0/25000 [00:13&lt;?, ?it/s]"
      }
     },
     "67467c8eb5034b4586d5dcc0a7308a20": {
      "model_module": "@jupyter-widgets/base",
      "model_module_version": "1.1.0",
      "model_name": "LayoutModel",
      "state": {}
     },
     "67719ec091a042a08e632555815f76f5": {
      "model_module": "@jupyter-widgets/controls",
      "model_module_version": "1.4.0",
      "model_name": "ProgressStyleModel",
      "state": {
       "description_width": "initial"
      }
     },
     "683db7f4214c45ee80d656fb16eacc5a": {
      "model_module": "@jupyter-widgets/controls",
      "model_module_version": "1.4.0",
      "model_name": "ProgressStyleModel",
      "state": {
       "description_width": "initial"
      }
     },
     "690e1357d5984475b096fc4cd6bb75f0": {
      "model_module": "@jupyter-widgets/base",
      "model_module_version": "1.1.0",
      "model_name": "LayoutModel",
      "state": {}
     },
     "6b0e7a83f92d48709d5e00a651d1fd3d": {
      "model_module": "@jupyter-widgets/controls",
      "model_module_version": "1.4.0",
      "model_name": "FloatProgressModel",
      "state": {
       "bar_style": "danger",
       "description": "  1%",
       "layout": "IPY_MODEL_be825a7543004b06bf2181d6d612e2ec",
       "max": 25000,
       "style": "IPY_MODEL_1f8e13f02ab14a0cb3e47d3921e3a087",
       "value": 143
      }
     },
     "6b30c3e035c8492fb8c05d267f231a4f": {
      "model_module": "@jupyter-widgets/base",
      "model_module_version": "1.1.0",
      "model_name": "LayoutModel",
      "state": {}
     },
     "6be0a6a1915c400eb06779f73f984759": {
      "model_module": "@jupyter-widgets/controls",
      "model_module_version": "1.4.0",
      "model_name": "HTMLModel",
      "state": {
       "layout": "IPY_MODEL_37bd59f6cc054529bba122e4e78eb0ac",
       "style": "IPY_MODEL_2e041bb1aca34a338ddae25f420e1bf1",
       "value": " 25000/25000 [04:19&lt;00:00, 96.51it/s]"
      }
     },
     "6c2197399c84410e8e7716c9f5932a32": {
      "model_module": "@jupyter-widgets/base",
      "model_module_version": "1.1.0",
      "model_name": "LayoutModel",
      "state": {}
     },
     "6c983f8056f24653a862742294f62d13": {
      "model_module": "@jupyter-widgets/controls",
      "model_module_version": "1.4.0",
      "model_name": "HBoxModel",
      "state": {
       "children": [
        "IPY_MODEL_e0d602d9ddb540df8092f125d46f9783",
        "IPY_MODEL_9e272ba4ae0d4cf3a0a6d3870f547bc3"
       ],
       "layout": "IPY_MODEL_b47c9a56c1b549c898c5fc799ea684b8"
      }
     },
     "6cf5b69e217141829ebb4d2c996b8ad0": {
      "model_module": "@jupyter-widgets/controls",
      "model_module_version": "1.4.0",
      "model_name": "ProgressStyleModel",
      "state": {
       "description_width": "initial"
      }
     },
     "6d3fb89edc75460095334577b983e978": {
      "model_module": "@jupyter-widgets/controls",
      "model_module_version": "1.4.0",
      "model_name": "HBoxModel",
      "state": {
       "children": [
        "IPY_MODEL_aafae80c0a0740f783a5b41eac21e6b7",
        "IPY_MODEL_64fda65614a6456c809aef342fbfac1a"
       ],
       "layout": "IPY_MODEL_25fb43db2e5248a6a061a842f9447d45"
      }
     },
     "6d7b003fddcb4fa98514fab2ded9cea1": {
      "model_module": "@jupyter-widgets/controls",
      "model_module_version": "1.4.0",
      "model_name": "FloatProgressModel",
      "state": {
       "bar_style": "success",
       "description": "100%",
       "layout": "IPY_MODEL_73e33ec41be54fab9bc4c5e7445c6945",
       "max": 13,
       "style": "IPY_MODEL_22ee0fd6483247c8b4c5b55324127ecc",
       "value": 13
      }
     },
     "6dcbd9c0471f46c29b2f695210732504": {
      "model_module": "@jupyter-widgets/controls",
      "model_module_version": "1.4.0",
      "model_name": "FloatProgressModel",
      "state": {
       "bar_style": "danger",
       "description": "  0%",
       "layout": "IPY_MODEL_58d99f7994d948f191243606d7d9f54a",
       "max": 13,
       "style": "IPY_MODEL_a44603317eae4a40ac5c86ced3a1dc4a"
      }
     },
     "6e3118f3c2544fb9a50eec83bf524153": {
      "model_module": "@jupyter-widgets/controls",
      "model_module_version": "1.4.0",
      "model_name": "FloatProgressModel",
      "state": {
       "bar_style": "success",
       "description": "100%",
       "layout": "IPY_MODEL_affeb5e92dbc41e2b7aabccf8212fdea",
       "max": 200,
       "style": "IPY_MODEL_0d310ea1d6b8486d84a86afbf319f76b",
       "value": 200
      }
     },
     "6ea4eddfa5e740e18467f803063526dd": {
      "model_module": "@jupyter-widgets/controls",
      "model_module_version": "1.4.0",
      "model_name": "FloatProgressModel",
      "state": {
       "bar_style": "success",
       "description": "100%",
       "layout": "IPY_MODEL_c370c394a632430e9f50eb0ec450a458",
       "max": 200,
       "style": "IPY_MODEL_eeb5a577d5ba4e8db5fcedbcf2ea4886",
       "value": 200
      }
     },
     "6ebfac5d4ea5494d995609813799e8ae": {
      "model_module": "@jupyter-widgets/controls",
      "model_module_version": "1.4.0",
      "model_name": "FloatProgressModel",
      "state": {
       "bar_style": "success",
       "description": "100%",
       "layout": "IPY_MODEL_d29628d302754d3cb55787bff65b3a0d",
       "max": 13,
       "style": "IPY_MODEL_7af40719405349d79d584b76afdbafd3",
       "value": 13
      }
     },
     "6f397c0c00334b3ea84d17915be08544": {
      "model_module": "@jupyter-widgets/base",
      "model_module_version": "1.1.0",
      "model_name": "LayoutModel",
      "state": {}
     },
     "70e7588e66794c5a88df6c42b62eedd1": {
      "model_module": "@jupyter-widgets/controls",
      "model_module_version": "1.4.0",
      "model_name": "FloatProgressModel",
      "state": {
       "bar_style": "danger",
       "description": " 55%",
       "layout": "IPY_MODEL_043a64b5ec0845a89a8d48fd2d59206c",
       "max": 25000,
       "style": "IPY_MODEL_f55fc947c5c04b7dae0fe382d303b54e",
       "value": 13785
      }
     },
     "711834b728ba44a398bbbc28ab78c9c6": {
      "model_module": "@jupyter-widgets/controls",
      "model_module_version": "1.4.0",
      "model_name": "HTMLModel",
      "state": {
       "layout": "IPY_MODEL_517e744d01c24422aacd867ff99397e1",
       "style": "IPY_MODEL_a76135ada03b4b27961cd68497a6e2ba",
       "value": " 25000/25000 [03:37&lt;00:00, 115.00it/s]"
      }
     },
     "733c589bf62548498d84f5f17bd21cc8": {
      "model_module": "@jupyter-widgets/base",
      "model_module_version": "1.1.0",
      "model_name": "LayoutModel",
      "state": {}
     },
     "73e33ec41be54fab9bc4c5e7445c6945": {
      "model_module": "@jupyter-widgets/base",
      "model_module_version": "1.1.0",
      "model_name": "LayoutModel",
      "state": {}
     },
     "74c61b91670840f689aa5328b294a3e5": {
      "model_module": "@jupyter-widgets/controls",
      "model_module_version": "1.4.0",
      "model_name": "HBoxModel",
      "state": {
       "children": [
        "IPY_MODEL_9869170fd6f64d4ba9f2f237d9599b33",
        "IPY_MODEL_ad4e1504ab03455caf8a771d0491f5fc"
       ],
       "layout": "IPY_MODEL_39455ec1157f4acab57a293c35fd07f7"
      }
     },
     "74f3cf063aa34f33a88b662676a9fb1f": {
      "model_module": "@jupyter-widgets/controls",
      "model_module_version": "1.4.0",
      "model_name": "FloatProgressModel",
      "state": {
       "bar_style": "danger",
       "description": "  1%",
       "layout": "IPY_MODEL_3d34988c0ba8459186d0ff2d8a6997b0",
       "max": 25000,
       "style": "IPY_MODEL_79cd06458c6f42d8aa719240fd4b2f83",
       "value": 143
      }
     },
     "75022758491747049e0ea09835988375": {
      "model_module": "@jupyter-widgets/controls",
      "model_module_version": "1.4.0",
      "model_name": "HBoxModel",
      "state": {
       "children": [
        "IPY_MODEL_0ffaa5454a7f440b8eee2960c542853c",
        "IPY_MODEL_8eb1c4e607b944d09a360cec6206ac91"
       ],
       "layout": "IPY_MODEL_ca7cc23f7ce849d1ba64eb93643a8167"
      }
     },
     "755325214cb649b59bab714b554ba6fe": {
      "model_module": "@jupyter-widgets/controls",
      "model_module_version": "1.4.0",
      "model_name": "DescriptionStyleModel",
      "state": {
       "description_width": ""
      }
     },
     "75c78bd76d26438f929ff773e79916f8": {
      "model_module": "@jupyter-widgets/base",
      "model_module_version": "1.1.0",
      "model_name": "LayoutModel",
      "state": {}
     },
     "767fd2cfd36942c58618cd43e09adf5e": {
      "model_module": "@jupyter-widgets/controls",
      "model_module_version": "1.4.0",
      "model_name": "HBoxModel",
      "state": {
       "children": [
        "IPY_MODEL_70e7588e66794c5a88df6c42b62eedd1",
        "IPY_MODEL_3e7306f3bdee4e4c9721d1e3ddf3fd61"
       ],
       "layout": "IPY_MODEL_30b56ad46b2a4796a1df870ed31a427b"
      }
     },
     "7706e14b5c6644d6a4fa7d5d04f67018": {
      "model_module": "@jupyter-widgets/controls",
      "model_module_version": "1.4.0",
      "model_name": "ProgressStyleModel",
      "state": {
       "description_width": "initial"
      }
     },
     "7742712312e94726841f25e45904cb8c": {
      "model_module": "@jupyter-widgets/controls",
      "model_module_version": "1.4.0",
      "model_name": "DescriptionStyleModel",
      "state": {
       "description_width": ""
      }
     },
     "77d365a0c5df4146827da24e0a1c37a5": {
      "model_module": "@jupyter-widgets/base",
      "model_module_version": "1.1.0",
      "model_name": "LayoutModel",
      "state": {}
     },
     "78ade5cad86a4d00ac77d2fc95531376": {
      "model_module": "@jupyter-widgets/controls",
      "model_module_version": "1.4.0",
      "model_name": "ProgressStyleModel",
      "state": {
       "description_width": "initial"
      }
     },
     "79320c67d7c04523aa1d7a7ad535a180": {
      "model_module": "@jupyter-widgets/controls",
      "model_module_version": "1.4.0",
      "model_name": "FloatProgressModel",
      "state": {
       "bar_style": "danger",
       "description": " 18%",
       "layout": "IPY_MODEL_b8e9320bee6c4060a93a12c169c75b30",
       "max": 25000,
       "style": "IPY_MODEL_90d1930e27f445f096d8caf2f3f9e4d1",
       "value": 4600
      }
     },
     "79888aed59a34e3bbb365bacd9458183": {
      "model_module": "@jupyter-widgets/controls",
      "model_module_version": "1.4.0",
      "model_name": "HTMLModel",
      "state": {
       "layout": "IPY_MODEL_460f2d7051d846b78eb0f5bf60e091a8",
       "style": "IPY_MODEL_a0ed09eabb1746f8a63b35740917e567",
       "value": " 0/25000 [00:11&lt;?, ?it/s]"
      }
     },
     "79cd06458c6f42d8aa719240fd4b2f83": {
      "model_module": "@jupyter-widgets/controls",
      "model_module_version": "1.4.0",
      "model_name": "ProgressStyleModel",
      "state": {
       "description_width": "initial"
      }
     },
     "7a3b132dfd744dc9bace8848751d75ad": {
      "model_module": "@jupyter-widgets/controls",
      "model_module_version": "1.4.0",
      "model_name": "ProgressStyleModel",
      "state": {
       "description_width": "initial"
      }
     },
     "7a933e5f6dfd4788825719b3733b1b73": {
      "model_module": "@jupyter-widgets/base",
      "model_module_version": "1.1.0",
      "model_name": "LayoutModel",
      "state": {}
     },
     "7af40719405349d79d584b76afdbafd3": {
      "model_module": "@jupyter-widgets/controls",
      "model_module_version": "1.4.0",
      "model_name": "ProgressStyleModel",
      "state": {
       "description_width": "initial"
      }
     },
     "7b60e3d1c39d43d3a38fcbf4af9cf04d": {
      "model_module": "@jupyter-widgets/base",
      "model_module_version": "1.1.0",
      "model_name": "LayoutModel",
      "state": {}
     },
     "7c2e07d545874b3bb49fe7b7f7e4334d": {
      "model_module": "@jupyter-widgets/base",
      "model_module_version": "1.1.0",
      "model_name": "LayoutModel",
      "state": {}
     },
     "7c42b4029b494e49bdcb445e39011d85": {
      "model_module": "@jupyter-widgets/base",
      "model_module_version": "1.1.0",
      "model_name": "LayoutModel",
      "state": {}
     },
     "7cd3cd02375047648647b2f365e3c2d9": {
      "model_module": "@jupyter-widgets/controls",
      "model_module_version": "1.4.0",
      "model_name": "HTMLModel",
      "state": {
       "layout": "IPY_MODEL_39c477c7a91d4d69b91dd5a0322de03c",
       "style": "IPY_MODEL_a480da152f9f4271839d3c8666a8b583",
       "value": " 0/13 [00:28&lt;?, ?it/s]"
      }
     },
     "7dba6fa6b1cd42ce943382bd04b51baa": {
      "model_module": "@jupyter-widgets/controls",
      "model_module_version": "1.4.0",
      "model_name": "HTMLModel",
      "state": {
       "layout": "IPY_MODEL_f9dc0a13bf0d4d2e8a45bed99a85df40",
       "style": "IPY_MODEL_9d52bc1c93664772a1bc4309f629d072",
       "value": " 143/25000 [01:41&lt;4:52:54,  1.41it/s]"
      }
     },
     "7e1d8e835f95422eb85ceb69db04c83a": {
      "model_module": "@jupyter-widgets/controls",
      "model_module_version": "1.4.0",
      "model_name": "DescriptionStyleModel",
      "state": {
       "description_width": ""
      }
     },
     "7f3575414e7948d1acd720e7b0797889": {
      "model_module": "@jupyter-widgets/controls",
      "model_module_version": "1.4.0",
      "model_name": "HBoxModel",
      "state": {
       "children": [
        "IPY_MODEL_861b27bf320743baa510057c9cb58c27",
        "IPY_MODEL_16495c2de6124d21a297915f2c9fd47c"
       ],
       "layout": "IPY_MODEL_31a3feab2b1b49d69435a5c56fac8158"
      }
     },
     "7fa5493eeb154765a30ef31ca4cd6a15": {
      "model_module": "@jupyter-widgets/controls",
      "model_module_version": "1.4.0",
      "model_name": "ProgressStyleModel",
      "state": {
       "description_width": "initial"
      }
     },
     "822eedfb3f6e4543bbbfb5bac63f00e4": {
      "model_module": "@jupyter-widgets/controls",
      "model_module_version": "1.4.0",
      "model_name": "HTMLModel",
      "state": {
       "layout": "IPY_MODEL_f6125bed105c43129718d0036d490cb4",
       "style": "IPY_MODEL_3816b83bebdc4fe6a3fb17e4439fdb87",
       "value": " 143/200 [04:58&lt;01:58,  2.09s/it]"
      }
     },
     "82401766f0b747069fc947879b32f58b": {
      "model_module": "@jupyter-widgets/base",
      "model_module_version": "1.1.0",
      "model_name": "LayoutModel",
      "state": {}
     },
     "833c0a2febdb47f0bb91f228419f3369": {
      "model_module": "@jupyter-widgets/controls",
      "model_module_version": "1.4.0",
      "model_name": "HTMLModel",
      "state": {
       "layout": "IPY_MODEL_1e8210c8173a4dfcbcf7411491da35f8",
       "style": "IPY_MODEL_b3d53cac13b5474a8525a61f9ab257fa",
       "value": " 13/13 [01:33&lt;00:00,  7.22s/it]"
      }
     },
     "834ec5afc53e47379747e91a88a95653": {
      "model_module": "@jupyter-widgets/controls",
      "model_module_version": "1.4.0",
      "model_name": "HBoxModel",
      "state": {
       "children": [
        "IPY_MODEL_bf1dad8cd4ce435d92a1785863cff9be",
        "IPY_MODEL_8fe37afc903b474b9a50e48ecdadaa6a"
       ],
       "layout": "IPY_MODEL_3bacc9ee5c7840969c9e324173951159"
      }
     },
     "83a845acef82476e8aec975bad5188ee": {
      "model_module": "@jupyter-widgets/base",
      "model_module_version": "1.1.0",
      "model_name": "LayoutModel",
      "state": {}
     },
     "8497c358162d409db5d42ffdbc7b50fe": {
      "model_module": "@jupyter-widgets/base",
      "model_module_version": "1.1.0",
      "model_name": "LayoutModel",
      "state": {}
     },
     "85d131b5abe841bd921bae9532e9e7fa": {
      "model_module": "@jupyter-widgets/controls",
      "model_module_version": "1.4.0",
      "model_name": "DescriptionStyleModel",
      "state": {
       "description_width": ""
      }
     },
     "85df7f67b1404d6db49923324c89762a": {
      "model_module": "@jupyter-widgets/controls",
      "model_module_version": "1.4.0",
      "model_name": "ProgressStyleModel",
      "state": {
       "description_width": "initial"
      }
     },
     "85fe2998708345d79dee44d717ba0c24": {
      "model_module": "@jupyter-widgets/controls",
      "model_module_version": "1.4.0",
      "model_name": "HBoxModel",
      "state": {
       "children": [
        "IPY_MODEL_74f3cf063aa34f33a88b662676a9fb1f",
        "IPY_MODEL_4e4f7f2166c74a089bafbbcc06986fb7"
       ],
       "layout": "IPY_MODEL_a402986e72eb41768e05c21040cf9ffa"
      }
     },
     "860e0bf4847e458988750285570b1b65": {
      "model_module": "@jupyter-widgets/base",
      "model_module_version": "1.1.0",
      "model_name": "LayoutModel",
      "state": {}
     },
     "861b27bf320743baa510057c9cb58c27": {
      "model_module": "@jupyter-widgets/controls",
      "model_module_version": "1.4.0",
      "model_name": "FloatProgressModel",
      "state": {
       "bar_style": "success",
       "description": "100%",
       "layout": "IPY_MODEL_f828eb62da4e4131b1e638774f89e8d5",
       "max": 25000,
       "style": "IPY_MODEL_114af402723240b7964dc06a386dc657",
       "value": 25000
      }
     },
     "86f90cf1f31d4ae492d9b21007c09269": {
      "model_module": "@jupyter-widgets/controls",
      "model_module_version": "1.4.0",
      "model_name": "FloatProgressModel",
      "state": {
       "bar_style": "danger",
       "description": " 72%",
       "layout": "IPY_MODEL_733c589bf62548498d84f5f17bd21cc8",
       "max": 200,
       "style": "IPY_MODEL_0cae1a4af8c7469697e8119590a62b2e",
       "value": 143
      }
     },
     "874fd757af624f079af2de95ee8fe320": {
      "model_module": "@jupyter-widgets/controls",
      "model_module_version": "1.4.0",
      "model_name": "ProgressStyleModel",
      "state": {
       "description_width": "initial"
      }
     },
     "895fb63128e8410e8c464796a84ea2cb": {
      "model_module": "@jupyter-widgets/controls",
      "model_module_version": "1.4.0",
      "model_name": "ProgressStyleModel",
      "state": {
       "description_width": "initial"
      }
     },
     "89bb3c7f3c6f4919b2c47e25d5bd5192": {
      "model_module": "@jupyter-widgets/base",
      "model_module_version": "1.1.0",
      "model_name": "LayoutModel",
      "state": {}
     },
     "89defb66fd1e4fbb9966d734d141f049": {
      "model_module": "@jupyter-widgets/base",
      "model_module_version": "1.1.0",
      "model_name": "LayoutModel",
      "state": {}
     },
     "8a52e0776b4c430aab65a4fdd94a37af": {
      "model_module": "@jupyter-widgets/base",
      "model_module_version": "1.1.0",
      "model_name": "LayoutModel",
      "state": {}
     },
     "8a664febf8e14aefab32ccd69f792ecb": {
      "model_module": "@jupyter-widgets/controls",
      "model_module_version": "1.4.0",
      "model_name": "HBoxModel",
      "state": {
       "children": [
        "IPY_MODEL_c3285bd3ce434a9aac03cc850bfe4a53",
        "IPY_MODEL_79888aed59a34e3bbb365bacd9458183"
       ],
       "layout": "IPY_MODEL_bd92a99fd5f04292841aa82a9c2dff3d"
      }
     },
     "8b5b5e727b84476c87ebf0c2cda9a850": {
      "model_module": "@jupyter-widgets/controls",
      "model_module_version": "1.4.0",
      "model_name": "FloatProgressModel",
      "state": {
       "bar_style": "danger",
       "description": "  4%",
       "layout": "IPY_MODEL_8a52e0776b4c430aab65a4fdd94a37af",
       "max": 25000,
       "style": "IPY_MODEL_d5b5c5cf30084c2bbb361a7c283d6d97",
       "value": 1008
      }
     },
     "8c869510c9884eef993509ad92b502f5": {
      "model_module": "@jupyter-widgets/base",
      "model_module_version": "1.1.0",
      "model_name": "LayoutModel",
      "state": {}
     },
     "8ce42290332749c6befe07b984ed8cc6": {
      "model_module": "@jupyter-widgets/base",
      "model_module_version": "1.1.0",
      "model_name": "LayoutModel",
      "state": {}
     },
     "8eb1c4e607b944d09a360cec6206ac91": {
      "model_module": "@jupyter-widgets/controls",
      "model_module_version": "1.4.0",
      "model_name": "HTMLModel",
      "state": {
       "layout": "IPY_MODEL_0adf624c35f24e35ba82b66b26df0b3a",
       "style": "IPY_MODEL_de96120f245e47a08ad1a84a8fa6ed4e",
       "value": " 143/200 [05:41&lt;02:16,  2.39s/it]"
      }
     },
     "8f2be2fb11f64ce69849e96688ca818a": {
      "model_module": "@jupyter-widgets/controls",
      "model_module_version": "1.4.0",
      "model_name": "FloatProgressModel",
      "state": {
       "bar_style": "danger",
       "description": " 72%",
       "layout": "IPY_MODEL_3f9a585cfe624f51bf5aea2f646e2a05",
       "max": 200,
       "style": "IPY_MODEL_909e4a2a94344736b52aa35eb35a0db8",
       "value": 143
      }
     },
     "8fe37afc903b474b9a50e48ecdadaa6a": {
      "model_module": "@jupyter-widgets/controls",
      "model_module_version": "1.4.0",
      "model_name": "HTMLModel",
      "state": {
       "layout": "IPY_MODEL_7c42b4029b494e49bdcb445e39011d85",
       "style": "IPY_MODEL_7742712312e94726841f25e45904cb8c",
       "value": " 25000/25000 [05:39&lt;00:00, 73.68it/s]"
      }
     },
     "9093ced7c5634fe58cf02eee618bdb8d": {
      "model_module": "@jupyter-widgets/controls",
      "model_module_version": "1.4.0",
      "model_name": "ProgressStyleModel",
      "state": {
       "description_width": "initial"
      }
     },
     "909e4a2a94344736b52aa35eb35a0db8": {
      "model_module": "@jupyter-widgets/controls",
      "model_module_version": "1.4.0",
      "model_name": "ProgressStyleModel",
      "state": {
       "description_width": "initial"
      }
     },
     "90d1930e27f445f096d8caf2f3f9e4d1": {
      "model_module": "@jupyter-widgets/controls",
      "model_module_version": "1.4.0",
      "model_name": "ProgressStyleModel",
      "state": {
       "description_width": "initial"
      }
     },
     "914621e3ed17481595ae7b0c224118c0": {
      "model_module": "@jupyter-widgets/controls",
      "model_module_version": "1.4.0",
      "model_name": "HTMLModel",
      "state": {
       "layout": "IPY_MODEL_eb6e9b0da94f49aebe0dc6e31e88ca4d",
       "style": "IPY_MODEL_617d3b8c12984b4a88604cd759c86590",
       "value": " 25000/25000 [03:27&lt;00:00, 120.70it/s]"
      }
     },
     "915cb47892df4a8ea6650fd31416e09c": {
      "model_module": "@jupyter-widgets/controls",
      "model_module_version": "1.4.0",
      "model_name": "HTMLModel",
      "state": {
       "layout": "IPY_MODEL_45f7dc95a36f409485ef67b44e8ae23e",
       "style": "IPY_MODEL_a83aabd00b1f4e05b97f9cd9bfcdffa3",
       "value": " 25000/25000 [02:34&lt;00:00, 161.31it/s]"
      }
     },
     "923f3557bbce45c381af94a2c9a3accc": {
      "model_module": "@jupyter-widgets/base",
      "model_module_version": "1.1.0",
      "model_name": "LayoutModel",
      "state": {}
     },
     "938b5e870bf948029c1ab7d7c684dc67": {
      "model_module": "@jupyter-widgets/base",
      "model_module_version": "1.1.0",
      "model_name": "LayoutModel",
      "state": {}
     },
     "94fb7f6ed3c047e48aa056dce93742d5": {
      "model_module": "@jupyter-widgets/controls",
      "model_module_version": "1.4.0",
      "model_name": "FloatProgressModel",
      "state": {
       "bar_style": "success",
       "description": "100%",
       "layout": "IPY_MODEL_5fdef3a32d864ce4a4cde894cb5206f5",
       "max": 25000,
       "style": "IPY_MODEL_895fb63128e8410e8c464796a84ea2cb",
       "value": 25000
      }
     },
     "9543ac711b024ca6b81c84c515190e7d": {
      "model_module": "@jupyter-widgets/base",
      "model_module_version": "1.1.0",
      "model_name": "LayoutModel",
      "state": {}
     },
     "962f2526cef54afa9764ed5e94bdd541": {
      "model_module": "@jupyter-widgets/controls",
      "model_module_version": "1.4.0",
      "model_name": "HTMLModel",
      "state": {
       "layout": "IPY_MODEL_c53c1d55cf3e49849bbd389433da5f87",
       "style": "IPY_MODEL_aa12963510294008afbc0647c4de392a",
       "value": " 200/200 [00:55&lt;00:00,  3.61it/s]"
      }
     },
     "96bebca83f294c91ad8abf66ae7080b6": {
      "model_module": "@jupyter-widgets/controls",
      "model_module_version": "1.4.0",
      "model_name": "ProgressStyleModel",
      "state": {
       "description_width": "initial"
      }
     },
     "974cfe60397d4da59579f9927bd715e2": {
      "model_module": "@jupyter-widgets/controls",
      "model_module_version": "1.4.0",
      "model_name": "HBoxModel",
      "state": {
       "children": [
        "IPY_MODEL_9bb68949f481433791b53d494bafe0b2",
        "IPY_MODEL_14011d728a9c4d788cd2561fe2a6cab3"
       ],
       "layout": "IPY_MODEL_078cc249edcb4996b6f2894f15b981fc"
      }
     },
     "9869170fd6f64d4ba9f2f237d9599b33": {
      "model_module": "@jupyter-widgets/controls",
      "model_module_version": "1.4.0",
      "model_name": "FloatProgressModel",
      "state": {
       "bar_style": "success",
       "description": "100%",
       "layout": "IPY_MODEL_9a3f7d39c45649b481ec4b0efbbe106b",
       "max": 25000,
       "style": "IPY_MODEL_a2b8d3d5fe0a4f35b0e9a1dcd0deb940",
       "value": 25000
      }
     },
     "98f8a10ff06045efbdb99a63599652e1": {
      "model_module": "@jupyter-widgets/controls",
      "model_module_version": "1.4.0",
      "model_name": "FloatProgressModel",
      "state": {
       "bar_style": "danger",
       "description": "  0%",
       "layout": "IPY_MODEL_4a2833482a9540109ded0f88d57152a6",
       "max": 13,
       "style": "IPY_MODEL_053d2c1ea01744448010ccf373d60eb0"
      }
     },
     "9998795510114a09a8c17a6dacbce739": {
      "model_module": "@jupyter-widgets/controls",
      "model_module_version": "1.4.0",
      "model_name": "HTMLModel",
      "state": {
       "layout": "IPY_MODEL_c8d41c294b8e454a9ab87a7061f63710",
       "style": "IPY_MODEL_b175006422db49f5827b0c33d73621b2",
       "value": " 200/200 [00:01&lt;00:00, 192.25it/s]"
      }
     },
     "99f38dfac6b640b299df8ca10789a9f4": {
      "model_module": "@jupyter-widgets/controls",
      "model_module_version": "1.4.0",
      "model_name": "ProgressStyleModel",
      "state": {
       "description_width": "initial"
      }
     },
     "9a20b6b8caea4fec973ce2d305d8b90d": {
      "model_module": "@jupyter-widgets/controls",
      "model_module_version": "1.4.0",
      "model_name": "DescriptionStyleModel",
      "state": {
       "description_width": ""
      }
     },
     "9a3f7d39c45649b481ec4b0efbbe106b": {
      "model_module": "@jupyter-widgets/base",
      "model_module_version": "1.1.0",
      "model_name": "LayoutModel",
      "state": {}
     },
     "9a8eab83de44473f825cae0a89d1023c": {
      "model_module": "@jupyter-widgets/controls",
      "model_module_version": "1.4.0",
      "model_name": "HBoxModel",
      "state": {
       "children": [
        "IPY_MODEL_f2003991712b4f38a877027f75f4090f",
        "IPY_MODEL_42ed520adabe400cb8d03e47796ec669"
       ],
       "layout": "IPY_MODEL_c97870e242e845068a30920b45858814"
      }
     },
     "9ab512b96d1840e7bf84f1463acdbb6a": {
      "model_module": "@jupyter-widgets/base",
      "model_module_version": "1.1.0",
      "model_name": "LayoutModel",
      "state": {}
     },
     "9b83bacaa41749b9bd7133246d5a51c3": {
      "model_module": "@jupyter-widgets/base",
      "model_module_version": "1.1.0",
      "model_name": "LayoutModel",
      "state": {}
     },
     "9bb68949f481433791b53d494bafe0b2": {
      "model_module": "@jupyter-widgets/controls",
      "model_module_version": "1.4.0",
      "model_name": "FloatProgressModel",
      "state": {
       "bar_style": "success",
       "description": "100%",
       "layout": "IPY_MODEL_10bf5cd03dcf4503b34fc996bda3dd69",
       "max": 200,
       "style": "IPY_MODEL_f5c5447960b24158aa285a8ebaff97d1",
       "value": 200
      }
     },
     "9ce65c5036984049b3fda1b795c4e693": {
      "model_module": "@jupyter-widgets/controls",
      "model_module_version": "1.4.0",
      "model_name": "DescriptionStyleModel",
      "state": {
       "description_width": ""
      }
     },
     "9d52bc1c93664772a1bc4309f629d072": {
      "model_module": "@jupyter-widgets/controls",
      "model_module_version": "1.4.0",
      "model_name": "DescriptionStyleModel",
      "state": {
       "description_width": ""
      }
     },
     "9e272ba4ae0d4cf3a0a6d3870f547bc3": {
      "model_module": "@jupyter-widgets/controls",
      "model_module_version": "1.4.0",
      "model_name": "HTMLModel",
      "state": {
       "layout": "IPY_MODEL_ee0e4cde3b5f4f1395e26f76b959be17",
       "style": "IPY_MODEL_2a43f3e9091649a4b2b1cd632eb873bd",
       "value": " 143/25000 [04:06&lt;11:54:18,  1.72s/it]"
      }
     },
     "9ea41d3975d245dc9f2cd07836f4ad34": {
      "model_module": "@jupyter-widgets/controls",
      "model_module_version": "1.4.0",
      "model_name": "DescriptionStyleModel",
      "state": {
       "description_width": ""
      }
     },
     "9f474d63b1494b24ae4c90826e776f21": {
      "model_module": "@jupyter-widgets/controls",
      "model_module_version": "1.4.0",
      "model_name": "ProgressStyleModel",
      "state": {
       "description_width": "initial"
      }
     },
     "9fbfb121251f4dc686b50474da168f8e": {
      "model_module": "@jupyter-widgets/controls",
      "model_module_version": "1.4.0",
      "model_name": "ProgressStyleModel",
      "state": {
       "description_width": "initial"
      }
     },
     "a036b51e0f7641a59dccadc28da25d1a": {
      "model_module": "@jupyter-widgets/controls",
      "model_module_version": "1.4.0",
      "model_name": "ProgressStyleModel",
      "state": {
       "description_width": "initial"
      }
     },
     "a0ea8653b5d549f8977857d4ecce1830": {
      "model_module": "@jupyter-widgets/controls",
      "model_module_version": "1.4.0",
      "model_name": "ProgressStyleModel",
      "state": {
       "description_width": "initial"
      }
     },
     "a0ed09eabb1746f8a63b35740917e567": {
      "model_module": "@jupyter-widgets/controls",
      "model_module_version": "1.4.0",
      "model_name": "DescriptionStyleModel",
      "state": {
       "description_width": ""
      }
     },
     "a14bc567beda4983ae2af15ca2d3801f": {
      "model_module": "@jupyter-widgets/base",
      "model_module_version": "1.1.0",
      "model_name": "LayoutModel",
      "state": {}
     },
     "a2b8d3d5fe0a4f35b0e9a1dcd0deb940": {
      "model_module": "@jupyter-widgets/controls",
      "model_module_version": "1.4.0",
      "model_name": "ProgressStyleModel",
      "state": {
       "description_width": "initial"
      }
     },
     "a34e6802408a43a589ecdd4c3489c987": {
      "model_module": "@jupyter-widgets/base",
      "model_module_version": "1.1.0",
      "model_name": "LayoutModel",
      "state": {}
     },
     "a3d39f26dbce4626ba40e4a6c52a0207": {
      "model_module": "@jupyter-widgets/controls",
      "model_module_version": "1.4.0",
      "model_name": "HTMLModel",
      "state": {
       "layout": "IPY_MODEL_23e982c361df46bcb7e9dec8a4ac6646",
       "style": "IPY_MODEL_9a20b6b8caea4fec973ce2d305d8b90d",
       "value": " 143/200 [01:38&lt;00:39,  1.45it/s]"
      }
     },
     "a402986e72eb41768e05c21040cf9ffa": {
      "model_module": "@jupyter-widgets/base",
      "model_module_version": "1.1.0",
      "model_name": "LayoutModel",
      "state": {}
     },
     "a416b66377d94e09b110d95c164dcd44": {
      "model_module": "@jupyter-widgets/controls",
      "model_module_version": "1.4.0",
      "model_name": "HBoxModel",
      "state": {
       "children": [
        "IPY_MODEL_0ad32f8183274dd1ac093cc087301b90",
        "IPY_MODEL_14c388eedf064aa18908633bae6e6539"
       ],
       "layout": "IPY_MODEL_2828f44b99f84e49a4474100caf0b6f3"
      }
     },
     "a44603317eae4a40ac5c86ced3a1dc4a": {
      "model_module": "@jupyter-widgets/controls",
      "model_module_version": "1.4.0",
      "model_name": "ProgressStyleModel",
      "state": {
       "description_width": "initial"
      }
     },
     "a455b79252c344d990b93ce2df1bc01e": {
      "model_module": "@jupyter-widgets/controls",
      "model_module_version": "1.4.0",
      "model_name": "ProgressStyleModel",
      "state": {
       "description_width": "initial"
      }
     },
     "a477378e0ee2470b91e6ab1c0bd63d17": {
      "model_module": "@jupyter-widgets/controls",
      "model_module_version": "1.4.0",
      "model_name": "DescriptionStyleModel",
      "state": {
       "description_width": ""
      }
     },
     "a480da152f9f4271839d3c8666a8b583": {
      "model_module": "@jupyter-widgets/controls",
      "model_module_version": "1.4.0",
      "model_name": "DescriptionStyleModel",
      "state": {
       "description_width": ""
      }
     },
     "a4cd66b12d1a4ea889382850ce4abb25": {
      "model_module": "@jupyter-widgets/controls",
      "model_module_version": "1.4.0",
      "model_name": "HBoxModel",
      "state": {
       "children": [
        "IPY_MODEL_d7242f98177d4b3d8de437c7b7692d9e",
        "IPY_MODEL_46435024425d43b182e2ef3f5ea70159"
       ],
       "layout": "IPY_MODEL_bb1ba40a103b43638eb586d7928513b9"
      }
     },
     "a510e4513d284206a1c7c5ca1bd683a9": {
      "model_module": "@jupyter-widgets/controls",
      "model_module_version": "1.4.0",
      "model_name": "DescriptionStyleModel",
      "state": {
       "description_width": ""
      }
     },
     "a587248a63f241e089bf06be515d7e02": {
      "model_module": "@jupyter-widgets/controls",
      "model_module_version": "1.4.0",
      "model_name": "HTMLModel",
      "state": {
       "layout": "IPY_MODEL_f9e71a8ed77a4ed5a71345ee0ff02da9",
       "style": "IPY_MODEL_14d5981f261a49f991a2efdc24bc5af0",
       "value": " 143/200 [20:34&lt;08:11,  8.63s/it]"
      }
     },
     "a6c822e7f66d438ba5ae80239fe5afda": {
      "model_module": "@jupyter-widgets/controls",
      "model_module_version": "1.4.0",
      "model_name": "HTMLModel",
      "state": {
       "layout": "IPY_MODEL_8497c358162d409db5d42ffdbc7b50fe",
       "style": "IPY_MODEL_a477378e0ee2470b91e6ab1c0bd63d17",
       "value": " 143/200 [02:43&lt;01:05,  1.14s/it]"
      }
     },
     "a76135ada03b4b27961cd68497a6e2ba": {
      "model_module": "@jupyter-widgets/controls",
      "model_module_version": "1.4.0",
      "model_name": "DescriptionStyleModel",
      "state": {
       "description_width": ""
      }
     },
     "a7b9bd07353449f4ae226a95b8c5a310": {
      "model_module": "@jupyter-widgets/controls",
      "model_module_version": "1.4.0",
      "model_name": "HTMLModel",
      "state": {
       "layout": "IPY_MODEL_de4d69e1b8a2467487ca89049de996ae",
       "style": "IPY_MODEL_df518a2a196441edb74daac11f347f10",
       "value": " 143/25000 [01:42&lt;4:55:35,  1.40it/s]"
      }
     },
     "a83aabd00b1f4e05b97f9cd9bfcdffa3": {
      "model_module": "@jupyter-widgets/controls",
      "model_module_version": "1.4.0",
      "model_name": "DescriptionStyleModel",
      "state": {
       "description_width": ""
      }
     },
     "a86ff37b03f849669bdfa9b242509f23": {
      "model_module": "@jupyter-widgets/controls",
      "model_module_version": "1.4.0",
      "model_name": "HTMLModel",
      "state": {
       "layout": "IPY_MODEL_51d0c619533e47338f0b1b415f8e5e23",
       "style": "IPY_MODEL_ab8336fa61234c7fa82881ed1344cd98",
       "value": " 143/25000 [07:48&lt;22:38:24,  3.28s/it]"
      }
     },
     "a8d1bc26cac7435c8b7d0cd1844a51b3": {
      "model_module": "@jupyter-widgets/base",
      "model_module_version": "1.1.0",
      "model_name": "LayoutModel",
      "state": {}
     },
     "a8d1e78bdbcf40d498e987d2d5d5ad3e": {
      "model_module": "@jupyter-widgets/controls",
      "model_module_version": "1.4.0",
      "model_name": "HTMLModel",
      "state": {
       "layout": "IPY_MODEL_1b0e764436f24becab06754ecff01206",
       "style": "IPY_MODEL_3b33ba2c962642dc80c7912d317631a7",
       "value": " 0/13 [00:08&lt;?, ?it/s]"
      }
     },
     "aa00b84c02b2445cba3cb50dfb9e0371": {
      "model_module": "@jupyter-widgets/base",
      "model_module_version": "1.1.0",
      "model_name": "LayoutModel",
      "state": {}
     },
     "aa12963510294008afbc0647c4de392a": {
      "model_module": "@jupyter-widgets/controls",
      "model_module_version": "1.4.0",
      "model_name": "DescriptionStyleModel",
      "state": {
       "description_width": ""
      }
     },
     "aa73d34275c14f60934b747e2a9a6b83": {
      "model_module": "@jupyter-widgets/base",
      "model_module_version": "1.1.0",
      "model_name": "LayoutModel",
      "state": {}
     },
     "aafae80c0a0740f783a5b41eac21e6b7": {
      "model_module": "@jupyter-widgets/controls",
      "model_module_version": "1.4.0",
      "model_name": "FloatProgressModel",
      "state": {
       "bar_style": "danger",
       "description": "  0%",
       "layout": "IPY_MODEL_4654a7adf508485faf8cd9ab88f21c7b",
       "max": 25000,
       "style": "IPY_MODEL_2591e8b8cd844a55b71990c0edf98ccb"
      }
     },
     "ab5a6886703d45869462fa4426980f70": {
      "model_module": "@jupyter-widgets/base",
      "model_module_version": "1.1.0",
      "model_name": "LayoutModel",
      "state": {}
     },
     "ab8336fa61234c7fa82881ed1344cd98": {
      "model_module": "@jupyter-widgets/controls",
      "model_module_version": "1.4.0",
      "model_name": "DescriptionStyleModel",
      "state": {
       "description_width": ""
      }
     },
     "ac7eea781c804157a90eedecdf690f59": {
      "model_module": "@jupyter-widgets/controls",
      "model_module_version": "1.4.0",
      "model_name": "HBoxModel",
      "state": {
       "children": [
        "IPY_MODEL_6b0e7a83f92d48709d5e00a651d1fd3d",
        "IPY_MODEL_7dba6fa6b1cd42ce943382bd04b51baa"
       ],
       "layout": "IPY_MODEL_57b91cbd9ca041388b3e155f2d1e52a1"
      }
     },
     "ac99eb4a3a654c27a28c20af73c58f09": {
      "model_module": "@jupyter-widgets/controls",
      "model_module_version": "1.4.0",
      "model_name": "HBoxModel",
      "state": {
       "children": [
        "IPY_MODEL_20bd66036091459c9096ac0c5e93f517",
        "IPY_MODEL_914621e3ed17481595ae7b0c224118c0"
       ],
       "layout": "IPY_MODEL_f8b4cada93464e658c69ed4b796cd5d1"
      }
     },
     "ad03e2c3faab4f40a81778f30c8e9a1e": {
      "model_module": "@jupyter-widgets/base",
      "model_module_version": "1.1.0",
      "model_name": "LayoutModel",
      "state": {}
     },
     "ad4e1504ab03455caf8a771d0491f5fc": {
      "model_module": "@jupyter-widgets/controls",
      "model_module_version": "1.4.0",
      "model_name": "HTMLModel",
      "state": {
       "layout": "IPY_MODEL_6b30c3e035c8492fb8c05d267f231a4f",
       "style": "IPY_MODEL_7e1d8e835f95422eb85ceb69db04c83a",
       "value": " 25000/25000 [02:34&lt;00:00, 161.51it/s]"
      }
     },
     "ae91705a27cb4a9f8faf4c3d128e27a2": {
      "model_module": "@jupyter-widgets/controls",
      "model_module_version": "1.4.0",
      "model_name": "HTMLModel",
      "state": {
       "layout": "IPY_MODEL_c64f59e5352a4785b1fffde1125ea479",
       "style": "IPY_MODEL_48b393406df6436c8ab585f6b9c18af5",
       "value": " 25000/25000 [06:09&lt;00:00, 67.66it/s]"
      }
     },
     "affeb5e92dbc41e2b7aabccf8212fdea": {
      "model_module": "@jupyter-widgets/base",
      "model_module_version": "1.1.0",
      "model_name": "LayoutModel",
      "state": {}
     },
     "b011d860dcbf49309920fba2b0a56690": {
      "model_module": "@jupyter-widgets/controls",
      "model_module_version": "1.4.0",
      "model_name": "ProgressStyleModel",
      "state": {
       "description_width": "initial"
      }
     },
     "b0d28152d4284326a780bd34c7d9244f": {
      "model_module": "@jupyter-widgets/controls",
      "model_module_version": "1.4.0",
      "model_name": "DescriptionStyleModel",
      "state": {
       "description_width": ""
      }
     },
     "b10176f03d7d408fbc46e9dae5e73d00": {
      "model_module": "@jupyter-widgets/controls",
      "model_module_version": "1.4.0",
      "model_name": "FloatProgressModel",
      "state": {
       "bar_style": "success",
       "description": "100%",
       "layout": "IPY_MODEL_30aff41e2c7646e097f09366f54246b6",
       "max": 200,
       "style": "IPY_MODEL_67719ec091a042a08e632555815f76f5",
       "value": 200
      }
     },
     "b175006422db49f5827b0c33d73621b2": {
      "model_module": "@jupyter-widgets/controls",
      "model_module_version": "1.4.0",
      "model_name": "DescriptionStyleModel",
      "state": {
       "description_width": ""
      }
     },
     "b1e47f035d34434da6d78b63e0871232": {
      "model_module": "@jupyter-widgets/controls",
      "model_module_version": "1.4.0",
      "model_name": "DescriptionStyleModel",
      "state": {
       "description_width": ""
      }
     },
     "b22dba9a1f9b4984a20b8a82c46ab7e7": {
      "model_module": "@jupyter-widgets/controls",
      "model_module_version": "1.4.0",
      "model_name": "DescriptionStyleModel",
      "state": {
       "description_width": ""
      }
     },
     "b29f3e4b362b406bb02838c027a80729": {
      "model_module": "@jupyter-widgets/base",
      "model_module_version": "1.1.0",
      "model_name": "LayoutModel",
      "state": {}
     },
     "b36f58cfae794db3bed07369f5d5e727": {
      "model_module": "@jupyter-widgets/controls",
      "model_module_version": "1.4.0",
      "model_name": "DescriptionStyleModel",
      "state": {
       "description_width": ""
      }
     },
     "b3c5de92e69d4def9e4158cea17c16a1": {
      "model_module": "@jupyter-widgets/base",
      "model_module_version": "1.1.0",
      "model_name": "LayoutModel",
      "state": {}
     },
     "b3d493eee3974e28bacbec10dce0e93a": {
      "model_module": "@jupyter-widgets/controls",
      "model_module_version": "1.4.0",
      "model_name": "HTMLModel",
      "state": {
       "layout": "IPY_MODEL_a14bc567beda4983ae2af15ca2d3801f",
       "style": "IPY_MODEL_a510e4513d284206a1c7c5ca1bd683a9",
       "value": " 0/25000 [00:00&lt;?, ?it/s]"
      }
     },
     "b3d53cac13b5474a8525a61f9ab257fa": {
      "model_module": "@jupyter-widgets/controls",
      "model_module_version": "1.4.0",
      "model_name": "DescriptionStyleModel",
      "state": {
       "description_width": ""
      }
     },
     "b403da5a2e3944be8cd03aecb4a915d1": {
      "model_module": "@jupyter-widgets/base",
      "model_module_version": "1.1.0",
      "model_name": "LayoutModel",
      "state": {}
     },
     "b4699eaea40d4b5793c49802aaf536d6": {
      "model_module": "@jupyter-widgets/base",
      "model_module_version": "1.1.0",
      "model_name": "LayoutModel",
      "state": {}
     },
     "b47c9a56c1b549c898c5fc799ea684b8": {
      "model_module": "@jupyter-widgets/base",
      "model_module_version": "1.1.0",
      "model_name": "LayoutModel",
      "state": {}
     },
     "b5e9e2722a914a3cabcb3e873433599a": {
      "model_module": "@jupyter-widgets/base",
      "model_module_version": "1.1.0",
      "model_name": "LayoutModel",
      "state": {}
     },
     "b60c84f14d064268a750c944e3d25b2a": {
      "model_module": "@jupyter-widgets/base",
      "model_module_version": "1.1.0",
      "model_name": "LayoutModel",
      "state": {}
     },
     "b73a866dd3744d24a62e99da156eb24e": {
      "model_module": "@jupyter-widgets/controls",
      "model_module_version": "1.4.0",
      "model_name": "HBoxModel",
      "state": {
       "children": [
        "IPY_MODEL_6e3118f3c2544fb9a50eec83bf524153",
        "IPY_MODEL_5bed5d77dc1e4b83a1e64c719e54d7cc"
       ],
       "layout": "IPY_MODEL_28f56f1298fb4f189ca5b9a59067ac76"
      }
     },
     "b8e9320bee6c4060a93a12c169c75b30": {
      "model_module": "@jupyter-widgets/base",
      "model_module_version": "1.1.0",
      "model_name": "LayoutModel",
      "state": {}
     },
     "b9130758872242d5bb45e32789ee6aa0": {
      "model_module": "@jupyter-widgets/controls",
      "model_module_version": "1.4.0",
      "model_name": "ProgressStyleModel",
      "state": {
       "description_width": "initial"
      }
     },
     "b9b3b6bc05734c3db848273774ccff4d": {
      "model_module": "@jupyter-widgets/controls",
      "model_module_version": "1.4.0",
      "model_name": "HBoxModel",
      "state": {
       "children": [
        "IPY_MODEL_3cb3825bb61a425abdae713b0e63bb04",
        "IPY_MODEL_a86ff37b03f849669bdfa9b242509f23"
       ],
       "layout": "IPY_MODEL_6186d54e66404a1c84e19897764f8c32"
      }
     },
     "ba193dc968ca4309b1c4546a3265d22e": {
      "model_module": "@jupyter-widgets/controls",
      "model_module_version": "1.4.0",
      "model_name": "HBoxModel",
      "state": {
       "children": [
        "IPY_MODEL_0aa47279d2904e60aa9432cec6994eed",
        "IPY_MODEL_d6bac2ae73f840e3b87f1197c5b18b7b"
       ],
       "layout": "IPY_MODEL_fe949fb4010e429fba0987ef9b562927"
      }
     },
     "bac2905cedaf4ce78c6e69ff26b75d83": {
      "model_module": "@jupyter-widgets/controls",
      "model_module_version": "1.4.0",
      "model_name": "FloatProgressModel",
      "state": {
       "bar_style": "success",
       "description": "100%",
       "layout": "IPY_MODEL_b403da5a2e3944be8cd03aecb4a915d1",
       "max": 25000,
       "style": "IPY_MODEL_99f38dfac6b640b299df8ca10789a9f4",
       "value": 25000
      }
     },
     "bb1ba40a103b43638eb586d7928513b9": {
      "model_module": "@jupyter-widgets/base",
      "model_module_version": "1.1.0",
      "model_name": "LayoutModel",
      "state": {}
     },
     "bb3bcae573a3495b9d05bb8f32627a0b": {
      "model_module": "@jupyter-widgets/controls",
      "model_module_version": "1.4.0",
      "model_name": "DescriptionStyleModel",
      "state": {
       "description_width": ""
      }
     },
     "bd92a99fd5f04292841aa82a9c2dff3d": {
      "model_module": "@jupyter-widgets/base",
      "model_module_version": "1.1.0",
      "model_name": "LayoutModel",
      "state": {}
     },
     "be825a7543004b06bf2181d6d612e2ec": {
      "model_module": "@jupyter-widgets/base",
      "model_module_version": "1.1.0",
      "model_name": "LayoutModel",
      "state": {}
     },
     "beb34b0ef79449f19bc3321babf6d6fa": {
      "model_module": "@jupyter-widgets/base",
      "model_module_version": "1.1.0",
      "model_name": "LayoutModel",
      "state": {}
     },
     "beb4ef7aab4b46559bdf2327fc928899": {
      "model_module": "@jupyter-widgets/controls",
      "model_module_version": "1.4.0",
      "model_name": "HBoxModel",
      "state": {
       "children": [
        "IPY_MODEL_bac2905cedaf4ce78c6e69ff26b75d83",
        "IPY_MODEL_915cb47892df4a8ea6650fd31416e09c"
       ],
       "layout": "IPY_MODEL_f842b9297d3146b1ae51b6d7fa0362e7"
      }
     },
     "bf1dad8cd4ce435d92a1785863cff9be": {
      "model_module": "@jupyter-widgets/controls",
      "model_module_version": "1.4.0",
      "model_name": "FloatProgressModel",
      "state": {
       "bar_style": "success",
       "description": "100%",
       "layout": "IPY_MODEL_c380194a3e304730a4680c3d960d60ca",
       "max": 25000,
       "style": "IPY_MODEL_dd8f461e53b444779a6fac6f12dccb55",
       "value": 25000
      }
     },
     "bff3fb9071ee46dda993adf6f405c503": {
      "model_module": "@jupyter-widgets/controls",
      "model_module_version": "1.4.0",
      "model_name": "HBoxModel",
      "state": {
       "children": [
        "IPY_MODEL_5f86db9227e443f9a9a312fe55d12fb7",
        "IPY_MODEL_a587248a63f241e089bf06be515d7e02"
       ],
       "layout": "IPY_MODEL_2a287c2182f243d7994ff1b743a5a640"
      }
     },
     "c0724666d07f477c8add5a124e226f38": {
      "model_module": "@jupyter-widgets/controls",
      "model_module_version": "1.4.0",
      "model_name": "FloatProgressModel",
      "state": {
       "bar_style": "success",
       "description": "100%",
       "layout": "IPY_MODEL_e1d84ffe962846c68433457b93a8008d",
       "max": 25000,
       "style": "IPY_MODEL_7a3b132dfd744dc9bace8848751d75ad",
       "value": 25000
      }
     },
     "c0827dc3e7314959b9f6ca3ca6c8df47": {
      "model_module": "@jupyter-widgets/controls",
      "model_module_version": "1.4.0",
      "model_name": "ProgressStyleModel",
      "state": {
       "description_width": "initial"
      }
     },
     "c13187a940a040c3b7899e98b10cad1f": {
      "model_module": "@jupyter-widgets/controls",
      "model_module_version": "1.4.0",
      "model_name": "FloatProgressModel",
      "state": {
       "bar_style": "success",
       "description": "100%",
       "layout": "IPY_MODEL_4159f195815d4b91aafbc02c0a320d62",
       "max": 200,
       "style": "IPY_MODEL_1fe26a8ab5b04b44aa83d4082761f62d",
       "value": 200
      }
     },
     "c1585652370c41029a47566e4424f6eb": {
      "model_module": "@jupyter-widgets/base",
      "model_module_version": "1.1.0",
      "model_name": "LayoutModel",
      "state": {}
     },
     "c3285bd3ce434a9aac03cc850bfe4a53": {
      "model_module": "@jupyter-widgets/controls",
      "model_module_version": "1.4.0",
      "model_name": "FloatProgressModel",
      "state": {
       "bar_style": "danger",
       "description": "  0%",
       "layout": "IPY_MODEL_350110464d3445f5a04a6f252bfcfb0e",
       "max": 25000,
       "style": "IPY_MODEL_1846270704cb4681a3ebe05f22d6c93f"
      }
     },
     "c370c394a632430e9f50eb0ec450a458": {
      "model_module": "@jupyter-widgets/base",
      "model_module_version": "1.1.0",
      "model_name": "LayoutModel",
      "state": {}
     },
     "c380194a3e304730a4680c3d960d60ca": {
      "model_module": "@jupyter-widgets/base",
      "model_module_version": "1.1.0",
      "model_name": "LayoutModel",
      "state": {}
     },
     "c46227cb60594db4a72a183669aa49ce": {
      "model_module": "@jupyter-widgets/controls",
      "model_module_version": "1.4.0",
      "model_name": "ProgressStyleModel",
      "state": {
       "description_width": "initial"
      }
     },
     "c4a09068657e4d86997153a5b383ca26": {
      "model_module": "@jupyter-widgets/controls",
      "model_module_version": "1.4.0",
      "model_name": "DescriptionStyleModel",
      "state": {
       "description_width": ""
      }
     },
     "c53c1d55cf3e49849bbd389433da5f87": {
      "model_module": "@jupyter-widgets/base",
      "model_module_version": "1.1.0",
      "model_name": "LayoutModel",
      "state": {}
     },
     "c64f59e5352a4785b1fffde1125ea479": {
      "model_module": "@jupyter-widgets/base",
      "model_module_version": "1.1.0",
      "model_name": "LayoutModel",
      "state": {}
     },
     "c71ed34267c1477e8009bafb76aa6bbe": {
      "model_module": "@jupyter-widgets/controls",
      "model_module_version": "1.4.0",
      "model_name": "HTMLModel",
      "state": {
       "layout": "IPY_MODEL_89bb3c7f3c6f4919b2c47e25d5bd5192",
       "style": "IPY_MODEL_556259a44a324a73a3d6d57fbdfa6adb",
       "value": " 143/200 [04:52&lt;01:56,  2.05s/it]"
      }
     },
     "c736cf1c718f4df19415c44cfd2ee70b": {
      "model_module": "@jupyter-widgets/controls",
      "model_module_version": "1.4.0",
      "model_name": "HBoxModel",
      "state": {
       "children": [
        "IPY_MODEL_44bcb89903ef4e2291d9ff7a1bb08146",
        "IPY_MODEL_1f21a8c09ea34a53954deb9d4f3bb095"
       ],
       "layout": "IPY_MODEL_e1999b1c9e584fd780118943eb4214ce"
      }
     },
     "c76cdce47bfc4f868d9f1ede2ada022a": {
      "model_module": "@jupyter-widgets/controls",
      "model_module_version": "1.4.0",
      "model_name": "HTMLModel",
      "state": {
       "layout": "IPY_MODEL_aa73d34275c14f60934b747e2a9a6b83",
       "style": "IPY_MODEL_b1e47f035d34434da6d78b63e0871232",
       "value": " 143/200 [15:15&lt;06:04,  6.40s/it]"
      }
     },
     "c7ba6ffb2524459ea1c334bfc6969947": {
      "model_module": "@jupyter-widgets/controls",
      "model_module_version": "1.4.0",
      "model_name": "HBoxModel",
      "state": {
       "children": [
        "IPY_MODEL_3f3357d55e274d99903eb2bd5ce9f212",
        "IPY_MODEL_822eedfb3f6e4543bbbfb5bac63f00e4"
       ],
       "layout": "IPY_MODEL_4122721c67824011b4c4e0c58d0156d7"
      }
     },
     "c8bf8581b6254c278e7941b4231fcc02": {
      "model_module": "@jupyter-widgets/base",
      "model_module_version": "1.1.0",
      "model_name": "LayoutModel",
      "state": {}
     },
     "c8d41c294b8e454a9ab87a7061f63710": {
      "model_module": "@jupyter-widgets/base",
      "model_module_version": "1.1.0",
      "model_name": "LayoutModel",
      "state": {}
     },
     "c92b98e4d25f4f2ab18786d9b182838f": {
      "model_module": "@jupyter-widgets/controls",
      "model_module_version": "1.4.0",
      "model_name": "DescriptionStyleModel",
      "state": {
       "description_width": ""
      }
     },
     "c97870e242e845068a30920b45858814": {
      "model_module": "@jupyter-widgets/base",
      "model_module_version": "1.1.0",
      "model_name": "LayoutModel",
      "state": {}
     },
     "c9fa53fa14cc4ffa9402255cbca5a396": {
      "model_module": "@jupyter-widgets/base",
      "model_module_version": "1.1.0",
      "model_name": "LayoutModel",
      "state": {}
     },
     "ca7cc23f7ce849d1ba64eb93643a8167": {
      "model_module": "@jupyter-widgets/base",
      "model_module_version": "1.1.0",
      "model_name": "LayoutModel",
      "state": {}
     },
     "ca7f3125b0c14364b2ebc9b1a44fbae6": {
      "model_module": "@jupyter-widgets/controls",
      "model_module_version": "1.4.0",
      "model_name": "HBoxModel",
      "state": {
       "children": [
        "IPY_MODEL_271ddc454f2b42dfa7c279d2c53c15a0",
        "IPY_MODEL_6be0a6a1915c400eb06779f73f984759"
       ],
       "layout": "IPY_MODEL_a34e6802408a43a589ecdd4c3489c987"
      }
     },
     "caa274cd45c14794b414e59d2f4f7130": {
      "model_module": "@jupyter-widgets/base",
      "model_module_version": "1.1.0",
      "model_name": "LayoutModel",
      "state": {}
     },
     "cc5daf6d0bf24a9aac35b98b9c24cd2a": {
      "model_module": "@jupyter-widgets/controls",
      "model_module_version": "1.4.0",
      "model_name": "FloatProgressModel",
      "state": {
       "bar_style": "success",
       "description": "100%",
       "layout": "IPY_MODEL_3255927f2ea5426fba249125cb2f7331",
       "max": 25000,
       "style": "IPY_MODEL_2b68946d6d604fcda2a2407a1c16c7cb",
       "value": 25000
      }
     },
     "cee937ec52fb4c3b843e47edb01d30ed": {
      "model_module": "@jupyter-widgets/controls",
      "model_module_version": "1.4.0",
      "model_name": "FloatProgressModel",
      "state": {
       "bar_style": "success",
       "description": "100%",
       "layout": "IPY_MODEL_aa00b84c02b2445cba3cb50dfb9e0371",
       "max": 25000,
       "style": "IPY_MODEL_5e9619047a07496dba0ca00aae0c4f8f",
       "value": 25000
      }
     },
     "cfe0225244ca44afb9feebf589aeb2cd": {
      "model_module": "@jupyter-widgets/base",
      "model_module_version": "1.1.0",
      "model_name": "LayoutModel",
      "state": {}
     },
     "d0aee58bed70485e96f859d476db384f": {
      "model_module": "@jupyter-widgets/controls",
      "model_module_version": "1.4.0",
      "model_name": "FloatProgressModel",
      "state": {
       "bar_style": "danger",
       "description": "  1%",
       "layout": "IPY_MODEL_34e399e53d9042e89c59164e83d05e53",
       "max": 25000,
       "style": "IPY_MODEL_85df7f67b1404d6db49923324c89762a",
       "value": 143
      }
     },
     "d2956d4cb96d4a108e3e92c5bd700c0b": {
      "model_module": "@jupyter-widgets/controls",
      "model_module_version": "1.4.0",
      "model_name": "HBoxModel",
      "state": {
       "children": [
        "IPY_MODEL_5dcbdca1935b4e8f9d9f3d4fbda4c6ca",
        "IPY_MODEL_9998795510114a09a8c17a6dacbce739"
       ],
       "layout": "IPY_MODEL_092fb1b926f449b6a5990cbb386efcff"
      }
     },
     "d29628d302754d3cb55787bff65b3a0d": {
      "model_module": "@jupyter-widgets/base",
      "model_module_version": "1.1.0",
      "model_name": "LayoutModel",
      "state": {}
     },
     "d3d2e1db550844f6854dbd90e9d20be9": {
      "model_module": "@jupyter-widgets/controls",
      "model_module_version": "1.4.0",
      "model_name": "HTMLModel",
      "state": {
       "layout": "IPY_MODEL_4d64c7f87b5b44a2ba86c6ea7b8411e0",
       "style": "IPY_MODEL_5ee364403eb74c02990b0d26b57a7fa2",
       "value": " 25000/25000 [02:36&lt;00:00, 159.66it/s]"
      }
     },
     "d3ff5312410946bcb4bbdc16bc21e199": {
      "model_module": "@jupyter-widgets/controls",
      "model_module_version": "1.4.0",
      "model_name": "DescriptionStyleModel",
      "state": {
       "description_width": ""
      }
     },
     "d4ad3f7bedfb438cbc268774bd6bb530": {
      "model_module": "@jupyter-widgets/controls",
      "model_module_version": "1.4.0",
      "model_name": "DescriptionStyleModel",
      "state": {
       "description_width": ""
      }
     },
     "d4e928fa38974fe1a249d7dfffc9206a": {
      "model_module": "@jupyter-widgets/controls",
      "model_module_version": "1.4.0",
      "model_name": "HBoxModel",
      "state": {
       "children": [
        "IPY_MODEL_b10176f03d7d408fbc46e9dae5e73d00",
        "IPY_MODEL_18a5ed446b3d40938e2ff9d82aed459e"
       ],
       "layout": "IPY_MODEL_8c869510c9884eef993509ad92b502f5"
      }
     },
     "d5b5c5cf30084c2bbb361a7c283d6d97": {
      "model_module": "@jupyter-widgets/controls",
      "model_module_version": "1.4.0",
      "model_name": "ProgressStyleModel",
      "state": {
       "description_width": "initial"
      }
     },
     "d6bac2ae73f840e3b87f1197c5b18b7b": {
      "model_module": "@jupyter-widgets/controls",
      "model_module_version": "1.4.0",
      "model_name": "HTMLModel",
      "state": {
       "layout": "IPY_MODEL_02c230ab2a1a4b68a301b9c6fde11bc9",
       "style": "IPY_MODEL_b0d28152d4284326a780bd34c7d9244f",
       "value": " 25000/25000 [02:53&lt;00:00, 144.07it/s]"
      }
     },
     "d7242f98177d4b3d8de437c7b7692d9e": {
      "model_module": "@jupyter-widgets/controls",
      "model_module_version": "1.4.0",
      "model_name": "FloatProgressModel",
      "state": {
       "bar_style": "success",
       "description": "100%",
       "layout": "IPY_MODEL_fde9eb60915a499b9e63c8f521c05bb5",
       "max": 200,
       "style": "IPY_MODEL_874fd757af624f079af2de95ee8fe320",
       "value": 200
      }
     },
     "d96b69c6e4d7481187c4050d84373da6": {
      "model_module": "@jupyter-widgets/base",
      "model_module_version": "1.1.0",
      "model_name": "LayoutModel",
      "state": {}
     },
     "d9b9c811169b4ccfa1be6a8e21dd0ec9": {
      "model_module": "@jupyter-widgets/controls",
      "model_module_version": "1.4.0",
      "model_name": "HBoxModel",
      "state": {
       "children": [
        "IPY_MODEL_25ab62a3cbce4668b39b9f344f127ab5",
        "IPY_MODEL_c71ed34267c1477e8009bafb76aa6bbe"
       ],
       "layout": "IPY_MODEL_923f3557bbce45c381af94a2c9a3accc"
      }
     },
     "da6328b817d54065874e7b5b6270f309": {
      "model_module": "@jupyter-widgets/base",
      "model_module_version": "1.1.0",
      "model_name": "LayoutModel",
      "state": {}
     },
     "dac6a01fb0ff43d19eaa8847a0b85e6c": {
      "model_module": "@jupyter-widgets/controls",
      "model_module_version": "1.4.0",
      "model_name": "HBoxModel",
      "state": {
       "children": [
        "IPY_MODEL_94fb7f6ed3c047e48aa056dce93742d5",
        "IPY_MODEL_16a949a6bca94596a3b128efbe3d4e4f"
       ],
       "layout": "IPY_MODEL_157318dc39ce41f0b0929937869c5ef5"
      }
     },
     "dd20be23fda144cda2781292f144962b": {
      "model_module": "@jupyter-widgets/controls",
      "model_module_version": "1.4.0",
      "model_name": "HBoxModel",
      "state": {
       "children": [
        "IPY_MODEL_e43d811ee9714c2d94d6cc249066a201",
        "IPY_MODEL_d3d2e1db550844f6854dbd90e9d20be9"
       ],
       "layout": "IPY_MODEL_5c09d6b7c5c14eb196e45a8624e630d0"
      }
     },
     "dd8f461e53b444779a6fac6f12dccb55": {
      "model_module": "@jupyter-widgets/controls",
      "model_module_version": "1.4.0",
      "model_name": "ProgressStyleModel",
      "state": {
       "description_width": "initial"
      }
     },
     "dde4d4cd9473465d9c8dfbfdb5456e72": {
      "model_module": "@jupyter-widgets/base",
      "model_module_version": "1.1.0",
      "model_name": "LayoutModel",
      "state": {}
     },
     "de14825302e74bed8d82d01e6397eab6": {
      "model_module": "@jupyter-widgets/base",
      "model_module_version": "1.1.0",
      "model_name": "LayoutModel",
      "state": {}
     },
     "de4d69e1b8a2467487ca89049de996ae": {
      "model_module": "@jupyter-widgets/base",
      "model_module_version": "1.1.0",
      "model_name": "LayoutModel",
      "state": {}
     },
     "de96120f245e47a08ad1a84a8fa6ed4e": {
      "model_module": "@jupyter-widgets/controls",
      "model_module_version": "1.4.0",
      "model_name": "DescriptionStyleModel",
      "state": {
       "description_width": ""
      }
     },
     "def35e4209bb45f98982cecbcede65eb": {
      "model_module": "@jupyter-widgets/controls",
      "model_module_version": "1.4.0",
      "model_name": "DescriptionStyleModel",
      "state": {
       "description_width": ""
      }
     },
     "df518a2a196441edb74daac11f347f10": {
      "model_module": "@jupyter-widgets/controls",
      "model_module_version": "1.4.0",
      "model_name": "DescriptionStyleModel",
      "state": {
       "description_width": ""
      }
     },
     "dfe813c241f54b7988baabf7e6bf1657": {
      "model_module": "@jupyter-widgets/base",
      "model_module_version": "1.1.0",
      "model_name": "LayoutModel",
      "state": {}
     },
     "e0d602d9ddb540df8092f125d46f9783": {
      "model_module": "@jupyter-widgets/controls",
      "model_module_version": "1.4.0",
      "model_name": "FloatProgressModel",
      "state": {
       "bar_style": "danger",
       "description": "  1%",
       "layout": "IPY_MODEL_b4699eaea40d4b5793c49802aaf536d6",
       "max": 25000,
       "style": "IPY_MODEL_7706e14b5c6644d6a4fa7d5d04f67018",
       "value": 143
      }
     },
     "e102555b66ee4fcbb3c064c4a124275f": {
      "model_module": "@jupyter-widgets/controls",
      "model_module_version": "1.4.0",
      "model_name": "HTMLModel",
      "state": {
       "layout": "IPY_MODEL_5f5401e60ad645a697a33e2dada7f9dc",
       "style": "IPY_MODEL_642bb33d7f5e4212bf09eaebb96ab106",
       "value": " 25000/25000 [00:38&lt;00:00, 641.92it/s]"
      }
     },
     "e1693ebe389346ac8e8046299e585e19": {
      "model_module": "@jupyter-widgets/base",
      "model_module_version": "1.1.0",
      "model_name": "LayoutModel",
      "state": {}
     },
     "e1999b1c9e584fd780118943eb4214ce": {
      "model_module": "@jupyter-widgets/base",
      "model_module_version": "1.1.0",
      "model_name": "LayoutModel",
      "state": {}
     },
     "e1d6421a174a43fea3b413ed0b9ec337": {
      "model_module": "@jupyter-widgets/base",
      "model_module_version": "1.1.0",
      "model_name": "LayoutModel",
      "state": {}
     },
     "e1d84ffe962846c68433457b93a8008d": {
      "model_module": "@jupyter-widgets/base",
      "model_module_version": "1.1.0",
      "model_name": "LayoutModel",
      "state": {}
     },
     "e287f784a4d64ee493500af48d550a2d": {
      "model_module": "@jupyter-widgets/controls",
      "model_module_version": "1.4.0",
      "model_name": "HTMLModel",
      "state": {
       "layout": "IPY_MODEL_c8bf8581b6254c278e7941b4231fcc02",
       "style": "IPY_MODEL_0a6037b7eab74b6fb211ce7c652eec03",
       "value": " 200/200 [00:01&lt;00:00, 192.54it/s]"
      }
     },
     "e43d811ee9714c2d94d6cc249066a201": {
      "model_module": "@jupyter-widgets/controls",
      "model_module_version": "1.4.0",
      "model_name": "FloatProgressModel",
      "state": {
       "bar_style": "success",
       "description": "100%",
       "layout": "IPY_MODEL_dde4d4cd9473465d9c8dfbfdb5456e72",
       "max": 25000,
       "style": "IPY_MODEL_a0ea8653b5d549f8977857d4ecce1830",
       "value": 25000
      }
     },
     "e656ac8ef64d40389fd5a89fc36b61d8": {
      "model_module": "@jupyter-widgets/base",
      "model_module_version": "1.1.0",
      "model_name": "LayoutModel",
      "state": {}
     },
     "e7ca2f1fc58842268cd183341c301365": {
      "model_module": "@jupyter-widgets/controls",
      "model_module_version": "1.4.0",
      "model_name": "DescriptionStyleModel",
      "state": {
       "description_width": ""
      }
     },
     "e80c9eb08fd3447091b800484d92d8fd": {
      "model_module": "@jupyter-widgets/controls",
      "model_module_version": "1.4.0",
      "model_name": "FloatProgressModel",
      "state": {
       "bar_style": "success",
       "description": "100%",
       "layout": "IPY_MODEL_9b83bacaa41749b9bd7133246d5a51c3",
       "max": 200,
       "style": "IPY_MODEL_561796946da74def897a4fd98e7ba14d",
       "value": 200
      }
     },
     "e8ce1e1a0dd144eead778bcb4a8c4626": {
      "model_module": "@jupyter-widgets/base",
      "model_module_version": "1.1.0",
      "model_name": "LayoutModel",
      "state": {}
     },
     "eb6e9b0da94f49aebe0dc6e31e88ca4d": {
      "model_module": "@jupyter-widgets/base",
      "model_module_version": "1.1.0",
      "model_name": "LayoutModel",
      "state": {}
     },
     "ee0e4cde3b5f4f1395e26f76b959be17": {
      "model_module": "@jupyter-widgets/base",
      "model_module_version": "1.1.0",
      "model_name": "LayoutModel",
      "state": {}
     },
     "ee4db6d77d2147cb8e3f30cbe327e1cd": {
      "model_module": "@jupyter-widgets/controls",
      "model_module_version": "1.4.0",
      "model_name": "DescriptionStyleModel",
      "state": {
       "description_width": ""
      }
     },
     "ee5aa9a3d0a541cba47cb92d9cb23c97": {
      "model_module": "@jupyter-widgets/base",
      "model_module_version": "1.1.0",
      "model_name": "LayoutModel",
      "state": {}
     },
     "eeaea307b4f84f4189aef17e5754755f": {
      "model_module": "@jupyter-widgets/controls",
      "model_module_version": "1.4.0",
      "model_name": "FloatProgressModel",
      "state": {
       "bar_style": "success",
       "description": "100%",
       "layout": "IPY_MODEL_16b0b6a4d1b74814821d18c444009275",
       "max": 200,
       "style": "IPY_MODEL_1a98af0667e6459b9d8a96fc397c8525",
       "value": 200
      }
     },
     "eeb5a577d5ba4e8db5fcedbcf2ea4886": {
      "model_module": "@jupyter-widgets/controls",
      "model_module_version": "1.4.0",
      "model_name": "ProgressStyleModel",
      "state": {
       "description_width": "initial"
      }
     },
     "eec202b2d8b1456e8e142b406b012e15": {
      "model_module": "@jupyter-widgets/controls",
      "model_module_version": "1.4.0",
      "model_name": "DescriptionStyleModel",
      "state": {
       "description_width": ""
      }
     },
     "f01989b5147740a98860045ac3807862": {
      "model_module": "@jupyter-widgets/base",
      "model_module_version": "1.1.0",
      "model_name": "LayoutModel",
      "state": {}
     },
     "f12f64b9d98e49db9c28e3bb94bf0c80": {
      "model_module": "@jupyter-widgets/controls",
      "model_module_version": "1.4.0",
      "model_name": "DescriptionStyleModel",
      "state": {
       "description_width": ""
      }
     },
     "f2003991712b4f38a877027f75f4090f": {
      "model_module": "@jupyter-widgets/controls",
      "model_module_version": "1.4.0",
      "model_name": "FloatProgressModel",
      "state": {
       "bar_style": "success",
       "description": "100%",
       "layout": "IPY_MODEL_e656ac8ef64d40389fd5a89fc36b61d8",
       "max": 200,
       "style": "IPY_MODEL_b011d860dcbf49309920fba2b0a56690",
       "value": 200
      }
     },
     "f2b16f012bfe419ea139c40bffe4114b": {
      "model_module": "@jupyter-widgets/controls",
      "model_module_version": "1.4.0",
      "model_name": "HBoxModel",
      "state": {
       "children": [
        "IPY_MODEL_6d7b003fddcb4fa98514fab2ded9cea1",
        "IPY_MODEL_833c0a2febdb47f0bb91f228419f3369"
       ],
       "layout": "IPY_MODEL_4adaa44a2dbc4d0ab52b3a3b7340cffd"
      }
     },
     "f2ebd7b38e8a41128ad4482f51bc90fe": {
      "model_module": "@jupyter-widgets/base",
      "model_module_version": "1.1.0",
      "model_name": "LayoutModel",
      "state": {}
     },
     "f4e5974d94a24873976e5011d5a0d3a7": {
      "model_module": "@jupyter-widgets/controls",
      "model_module_version": "1.4.0",
      "model_name": "HTMLModel",
      "state": {
       "layout": "IPY_MODEL_0417175d15c1478f8de35a3fa623f2d7",
       "style": "IPY_MODEL_eec202b2d8b1456e8e142b406b012e15",
       "value": " 143/200 [05:53&lt;02:20,  2.47s/it]"
      }
     },
     "f55fc947c5c04b7dae0fe382d303b54e": {
      "model_module": "@jupyter-widgets/controls",
      "model_module_version": "1.4.0",
      "model_name": "ProgressStyleModel",
      "state": {
       "description_width": "initial"
      }
     },
     "f5c5447960b24158aa285a8ebaff97d1": {
      "model_module": "@jupyter-widgets/controls",
      "model_module_version": "1.4.0",
      "model_name": "ProgressStyleModel",
      "state": {
       "description_width": "initial"
      }
     },
     "f6125bed105c43129718d0036d490cb4": {
      "model_module": "@jupyter-widgets/base",
      "model_module_version": "1.1.0",
      "model_name": "LayoutModel",
      "state": {}
     },
     "f612c55a30f14ee1afc007a4b1c72431": {
      "model_module": "@jupyter-widgets/controls",
      "model_module_version": "1.4.0",
      "model_name": "HTMLModel",
      "state": {
       "layout": "IPY_MODEL_75c78bd76d26438f929ff773e79916f8",
       "style": "IPY_MODEL_ee4db6d77d2147cb8e3f30cbe327e1cd",
       "value": " 13/13 [00:56&lt;00:00,  4.35s/it]"
      }
     },
     "f7c79d33c0c947d4b2a2f4df0168cc18": {
      "model_module": "@jupyter-widgets/base",
      "model_module_version": "1.1.0",
      "model_name": "LayoutModel",
      "state": {}
     },
     "f828eb62da4e4131b1e638774f89e8d5": {
      "model_module": "@jupyter-widgets/base",
      "model_module_version": "1.1.0",
      "model_name": "LayoutModel",
      "state": {}
     },
     "f842b9297d3146b1ae51b6d7fa0362e7": {
      "model_module": "@jupyter-widgets/base",
      "model_module_version": "1.1.0",
      "model_name": "LayoutModel",
      "state": {}
     },
     "f8b4cada93464e658c69ed4b796cd5d1": {
      "model_module": "@jupyter-widgets/base",
      "model_module_version": "1.1.0",
      "model_name": "LayoutModel",
      "state": {}
     },
     "f931e02b9a6b4c4c8e52720a41c89716": {
      "model_module": "@jupyter-widgets/controls",
      "model_module_version": "1.4.0",
      "model_name": "HBoxModel",
      "state": {
       "children": [
        "IPY_MODEL_cee937ec52fb4c3b843e47edb01d30ed",
        "IPY_MODEL_2c97eb09035540abae0e4aed3d7cc6ee"
       ],
       "layout": "IPY_MODEL_89defb66fd1e4fbb9966d734d141f049"
      }
     },
     "f9dc0a13bf0d4d2e8a45bed99a85df40": {
      "model_module": "@jupyter-widgets/base",
      "model_module_version": "1.1.0",
      "model_name": "LayoutModel",
      "state": {}
     },
     "f9e71a8ed77a4ed5a71345ee0ff02da9": {
      "model_module": "@jupyter-widgets/base",
      "model_module_version": "1.1.0",
      "model_name": "LayoutModel",
      "state": {}
     },
     "fa2394bf8801441ab4bafb8dd3d51846": {
      "model_module": "@jupyter-widgets/controls",
      "model_module_version": "1.4.0",
      "model_name": "DescriptionStyleModel",
      "state": {
       "description_width": ""
      }
     },
     "fde9eb60915a499b9e63c8f521c05bb5": {
      "model_module": "@jupyter-widgets/base",
      "model_module_version": "1.1.0",
      "model_name": "LayoutModel",
      "state": {}
     },
     "fe949fb4010e429fba0987ef9b562927": {
      "model_module": "@jupyter-widgets/base",
      "model_module_version": "1.1.0",
      "model_name": "LayoutModel",
      "state": {}
     },
     "fec7fe4b06d44c31a82153dba404ef74": {
      "model_module": "@jupyter-widgets/controls",
      "model_module_version": "1.4.0",
      "model_name": "FloatProgressModel",
      "state": {
       "bar_style": "success",
       "description": "100%",
       "layout": "IPY_MODEL_fef4e42b3c214ec88e39c710f2b9297e",
       "max": 25000,
       "style": "IPY_MODEL_6cf5b69e217141829ebb4d2c996b8ad0",
       "value": 25000
      }
     },
     "fef4e42b3c214ec88e39c710f2b9297e": {
      "model_module": "@jupyter-widgets/base",
      "model_module_version": "1.1.0",
      "model_name": "LayoutModel",
      "state": {}
     }
    },
    "version_major": 2,
    "version_minor": 0
   }
  }
 },
 "nbformat": 4,
 "nbformat_minor": 4
}

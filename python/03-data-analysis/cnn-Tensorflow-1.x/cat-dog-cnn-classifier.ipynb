{
 "cells": [
  {
   "cell_type": "markdown",
   "metadata": {},
   "source": [
    "# CAT-DOG IMAGE CLASSIFIER"
   ]
  },
  {
   "cell_type": "markdown",
   "metadata": {},
   "source": [
    "##### LOAD IMAGE FILES"
   ]
  },
  {
   "cell_type": "code",
   "execution_count": 1,
   "metadata": {},
   "outputs": [
    {
     "name": "stdout",
     "output_type": "stream",
     "text": [
      "Total number of files :  100\n"
     ]
    },
    {
     "data": {
      "text/plain": [
       "['Cat/11242.jpg',\n",
       " 'Dog/7312.jpg',\n",
       " 'Dog/9636.jpg',\n",
       " 'Cat/11240.jpg',\n",
       " 'Dog/4628.jpg',\n",
       " 'Dog/9274.jpg',\n",
       " 'Cat/12325.jpg',\n",
       " 'Dog/357.jpg',\n",
       " 'Cat/5740.jpg',\n",
       " 'Dog/9245.jpg']"
      ]
     },
     "execution_count": 1,
     "metadata": {},
     "output_type": "execute_result"
    }
   ],
   "source": [
    "import random\n",
    "import os\n",
    "\n",
    "source = 'PetImages/'\n",
    "class_img = ['Dog', 'Cat']\n",
    "\n",
    "filename_list = []\n",
    "\n",
    "# make a list with names of the images downloaded, cats and dogs\n",
    "for _class in class_img:\n",
    "    filename_list_class = os.listdir(source + _class)\n",
    "    filename_list_class = [(_class + '/' + fname) for fname in filename_list_class if fname.endswith('.jpg')]\n",
    "    filename_list += filename_list_class\n",
    "\n",
    "# shuffle filename list\n",
    "random.seed(42)\n",
    "random.shuffle(filename_list)\n",
    "\n",
    "filename_list = filename_list[:100]\n",
    "\n",
    "print('Total number of files : ', len(filename_list))\n",
    "filename_list[:10]"
   ]
  },
  {
   "cell_type": "markdown",
   "metadata": {},
   "source": [
    "##### STORE IMAGE FEATURES AND LABELS\n",
    "`HINT`: Increasing the size of the input image (image_size) will keep more information to better train the model. However, this will also significantly increase the computational time for the training process."
   ]
  },
  {
   "cell_type": "code",
   "execution_count": 2,
   "metadata": {},
   "outputs": [
    {
     "data": {
      "application/vnd.jupyter.widget-view+json": {
       "model_id": "744cad5a0c88462b9b8a6a597284a8ee",
       "version_major": 2,
       "version_minor": 0
      },
      "text/plain": [
       "HBox(children=(FloatProgress(value=0.0), HTML(value='')))"
      ]
     },
     "metadata": {},
     "output_type": "display_data"
    },
    {
     "name": "stdout",
     "output_type": "stream",
     "text": [
      "\n",
      "LABEL : Cat\n"
     ]
    },
    {
     "data": {
      "image/png": "[encoded data removed]",
      "text/plain": [
       "<Figure size 432x288 with 1 Axes>"
      ]
     },
     "metadata": {
      "needs_background": "light"
     },
     "output_type": "display_data"
    },
    {
     "data": {
      "text/plain": [
       "array([[[185., 182., 194.],\n",
       "        [206., 203., 213.],\n",
       "        [203., 212., 236.],\n",
       "        ...,\n",
       "        [175., 204., 220.],\n",
       "        [188., 215., 231.],\n",
       "        [180., 217., 233.]],\n",
       "\n",
       "       [[161., 137., 119.],\n",
       "        [190., 187., 199.],\n",
       "        [182., 208., 232.],\n",
       "        ...,\n",
       "        [177., 205., 229.],\n",
       "        [171., 206., 230.],\n",
       "        [169., 202., 225.]],\n",
       "\n",
       "       [[213., 214., 234.],\n",
       "        [201., 213., 235.],\n",
       "        [202., 215., 241.],\n",
       "        ...,\n",
       "        [180., 207., 233.],\n",
       "        [168., 205., 227.],\n",
       "        [111., 135., 178.]],\n",
       "\n",
       "       ...,\n",
       "\n",
       "       [[107., 149., 187.],\n",
       "        [ 89., 133., 189.],\n",
       "        [ 77.,  99., 161.],\n",
       "        ...,\n",
       "        [231., 203., 172.],\n",
       "        [227., 201., 171.],\n",
       "        [228., 203., 173.]],\n",
       "\n",
       "       [[230., 249., 250.],\n",
       "        [126., 161., 208.],\n",
       "        [130., 159., 228.],\n",
       "        ...,\n",
       "        [226., 202., 174.],\n",
       "        [226., 201., 174.],\n",
       "        [219., 194., 168.]],\n",
       "\n",
       "       [[178., 191., 220.],\n",
       "        [ 90., 103., 232.],\n",
       "        [ 77.,  58., 248.],\n",
       "        ...,\n",
       "        [215., 194., 173.],\n",
       "        [209., 192., 169.],\n",
       "        [218., 195., 171.]]], dtype=float32)"
      ]
     },
     "execution_count": 2,
     "metadata": {},
     "output_type": "execute_result"
    }
   ],
   "source": [
    "%matplotlib inline\n",
    "import matplotlib.pyplot as plt\n",
    "import numpy as np\n",
    "import cv2\n",
    "from skimage.transform import rescale, resize\n",
    "\n",
    "# deploy a progress bar\n",
    "try:\n",
    "    from tqdm.notebook import tqdm\n",
    "except ImportError:\n",
    "    def tqdm(x, *args, **kwargs):\n",
    "        return x\n",
    "\n",
    "# this will store the information from every image\n",
    "img_list = []       # feature\n",
    "label_list = []     # labels\n",
    "\n",
    "n_images = len(filename_list)\n",
    "channels = 3         # three colors: RGB\n",
    "image_size = 64      # image will be converted to 64x64 images\n",
    "\n",
    "img_list = np.ndarray(shape=(n_images, image_size, image_size, channels), dtype=np.float32)\n",
    "img_counter = 0\n",
    "\n",
    "for fname in tqdm(filename_list):\n",
    "    # read every single image as an array\n",
    "    image = cv2.imread(source + fname, 1)\n",
    "    \n",
    "    # this TRY block will ignore the corrupted image files\n",
    "    try:\n",
    "        # resize every image to the desired size\n",
    "        image = cv2.resize(image,(image_size,image_size))\n",
    "\n",
    "        # build the list with feature data [RGB values]\n",
    "        img_list[img_counter, :, :, :] = image\n",
    "\n",
    "        # build the list with labels [cats | dogs]\n",
    "        label_list.append(fname[:3])\n",
    "        img_counter += 1\n",
    "    \n",
    "    except Exception as e:\n",
    "        pass\n",
    "\n",
    "# remove empty arrays\n",
    "img_list = img_list[:n_images]\n",
    "\n",
    "# plot a sample from the list of images [features]\n",
    "print('LABEL : ' + label_list[0])\n",
    "plt.imshow(cv2.cvtColor(img_list[0], cv2.COLOR_BGR2RGB).astype(np.uint8))\n",
    "plt.show()\n",
    "\n",
    "img_list[0]"
   ]
  },
  {
   "cell_type": "markdown",
   "metadata": {},
   "source": [
    "##### APPLY ONE HOT ECONDING TO LABEL VALUES"
   ]
  },
  {
   "cell_type": "code",
   "execution_count": 3,
   "metadata": {},
   "outputs": [
    {
     "data": {
      "application/vnd.jupyter.widget-view+json": {
       "model_id": "590a39fa8b264dd195d50e934b534701",
       "version_major": 2,
       "version_minor": 0
      },
      "text/plain": [
       "HBox(children=(FloatProgress(value=0.0), HTML(value='')))"
      ]
     },
     "metadata": {},
     "output_type": "display_data"
    },
    {
     "name": "stdout",
     "output_type": "stream",
     "text": [
      "\n"
     ]
    },
    {
     "data": {
      "text/plain": [
       "array([[0, 1],\n",
       "       [1, 0],\n",
       "       [1, 0],\n",
       "       [0, 1],\n",
       "       [1, 0],\n",
       "       [1, 0],\n",
       "       [0, 1],\n",
       "       [1, 0],\n",
       "       [0, 1],\n",
       "       [1, 0]])"
      ]
     },
     "execution_count": 3,
     "metadata": {},
     "output_type": "execute_result"
    }
   ],
   "source": [
    "for i in tqdm(range(len(label_list))):\n",
    "    label = label_list[i]\n",
    "    if label==class_img[0]:\n",
    "        one_hot = [1,0]\n",
    "    else:\n",
    "        one_hot = [0,1]\n",
    "    label_list[i] = one_hot\n",
    "    \n",
    "label_list = np.array(label_list)\n",
    "label_list[:10]"
   ]
  },
  {
   "cell_type": "markdown",
   "metadata": {},
   "source": [
    "##### SPLIT THE FILE NAMES INTO TRAINING AND TESTING SETS"
   ]
  },
  {
   "cell_type": "code",
   "execution_count": 4,
   "metadata": {},
   "outputs": [
    {
     "name": "stdout",
     "output_type": "stream",
     "text": [
      "Feature Training set [X_train] : (70, 64, 64, 3)\n",
      "Feature Testing set [X_test] : (30, 64, 64, 3)\n",
      "Label Training set [Y_train] : (70, 2)\n",
      "Label Testing set [Y_test] : (30, 2)\n"
     ]
    }
   ],
   "source": [
    "n_images = img_counter          # total number of files : #####\n",
    "training_size = 0.70            # training 70% | testing 30%\n",
    "\n",
    "# define the training and the testing sets\n",
    "X_train = img_list[:int(n_images * training_size)]\n",
    "X_test = img_list[int(n_images * training_size):]\n",
    "\n",
    "Y_train = label_list[:int(n_images * training_size)]\n",
    "Y_test = label_list[int(n_images * training_size):]\n",
    "\n",
    "# print the results\n",
    "print('Feature Training set [X_train] :', X_train.shape)\n",
    "print('Feature Testing set [X_test] :', X_test.shape)\n",
    "print('Label Training set [Y_train] :', np.array(Y_train).shape)\n",
    "print('Label Testing set [Y_test] :', np.array(Y_test).shape)"
   ]
  },
  {
   "cell_type": "markdown",
   "metadata": {},
   "source": [
    "##### MODEL ARCHITECTURE"
   ]
  },
  {
   "cell_type": "code",
   "execution_count": 5,
   "metadata": {},
   "outputs": [],
   "source": [
    "import tensorflow as tf\n",
    "\n",
    "# this will set up a  seed in order in favor of reproducible results\n",
    "def reset_graph(seed=127):\n",
    "    tf.reset_default_graph()\n",
    "    tf.set_random_seed(seed)\n",
    "    \n",
    "reset_graph()\n",
    "\n",
    "# set up some parameters\n",
    "keep_prob = 0.75\n",
    "n_classes = len(class_img)      # [dogs | cats] = 2\n",
    "receptive_field = 3             # kernel filter = 3x3\n",
    "feature_map = 32\n",
    "\n",
    "X = tf.placeholder(tf.float32, [None, image_size, image_size, channels])\n",
    "Y = tf.placeholder(tf.float32, [None, n_classes])\n",
    "\n",
    "# define some of the model's components\n",
    "def weight_variable(shape):\n",
    "    initial = tf.truncated_normal(shape, stddev=0.01)\n",
    "    return tf.Variable(initial)\n",
    "\n",
    "def bias_variable(shape):\n",
    "    initial = tf.constant(0.01, shape = shape)\n",
    "    return tf.Variable(initial)\n",
    "\n",
    "def conv2d(x, W):\n",
    "    return tf.nn.conv2d(x, W, strides=[1,1,1,1], padding='SAME')\n",
    "\n",
    "def max_pool_2x2(x):\n",
    "    return tf.nn.max_pool(x, ksize=[1,2,2,1], strides=[1,2,2,1], padding='SAME')\n",
    "\n",
    "with tf.name_scope(\"cnn\"):\n",
    "    W_conv1 = weight_variable([receptive_field, receptive_field, channels, feature_map])  # [3,3,3,32]\n",
    "    b_conv1 = bias_variable([feature_map])    # 32\n",
    "\n",
    "    h_conv1 = tf.nn.relu(conv2d(X, W_conv1) + b_conv1)\n",
    "    h_pool1 = max_pool_2x2(h_conv1)\n",
    "\n",
    "    W_conv2 = weight_variable([receptive_field, receptive_field, feature_map, feature_map*2])  # [3,3,32,64]\n",
    "    b_conv2 = bias_variable([feature_map*2])   # 64\n",
    "\n",
    "    h_conv2 = tf.nn.relu(conv2d(h_pool1, W_conv2) + b_conv2)\n",
    "    h_pool2 = max_pool_2x2(h_conv2)\n",
    "    \n",
    "    W_fc1 = weight_variable([int(image_size/4 * image_size/4 * (feature_map*2)), feature_map**2]) # [65536,1024]\n",
    "    b_fc1 = bias_variable([feature_map**2])  # 1024\n",
    "\n",
    "    h_pool2_flat = tf.reshape(h_pool2, [-1, int(image_size/4 * image_size/4 * (feature_map*2))])  # [~,16384]\n",
    "    h_fc1 = tf.nn.relu(tf.matmul(h_pool2_flat, W_fc1) + b_fc1)\n",
    "    h_fc1_drop = tf.nn.dropout(h_fc1, keep_prob)\n",
    "\n",
    "    W_fc2 = weight_variable([feature_map**2, n_classes])\n",
    "    b_fc2 = bias_variable([n_classes])\n",
    "\n",
    "    Y_pred = tf.nn.softmax(tf.matmul(h_fc1_drop, W_fc2) + b_fc2)"
   ]
  },
  {
   "cell_type": "markdown",
   "metadata": {},
   "source": [
    "##### LEARNING RATE CONFIGURATION"
   ]
  },
  {
   "cell_type": "code",
   "execution_count": null,
   "metadata": {},
   "outputs": [],
   "source": [
    "learning_rate = 0.01\n",
    "\n",
    "# CHOOSE A DECAYING METHOD IN HERE\n",
    "model_decay = 'polynomial'      # [exponential | inverse_time | natural_exponential | polynomial | none]\n",
    "\n",
    "global_step = tf.Variable(0, trainable=False)\n",
    "decay_rate = 0.90\n",
    "decay_step = 10000\n",
    "\n",
    "if model_decay == 'exponential':\n",
    "    learning_rate = tf.train.exponential_decay(learning_rate, global_step, decay_step, decay_rate)\n",
    "\n",
    "elif model_decay == 'inverse_time':\n",
    "    learning_rate = tf.train.inverse_time_decay(learning_rate, global_step, decay_step, decay_rate)\n",
    "    \n",
    "elif model_decay == 'natural_exponential':\n",
    "    learning_rate = tf.train.natural_exp_decay(learning_rate, global_step, decay_step, decay_rate)\n",
    "    \n",
    "elif model_decay == 'polynomial':\n",
    "    end_learning_rate = 0.0001\n",
    "    learning_rate = tf.train.polynomial_decay(learning_rate, global_step, decay_step, end_learning_rate, power=0.5)\n",
    "    \n",
    "else:\n",
    "    decay_rate = 1.0\n",
    "    learning_rate = tf.train.exponential_decay(learning_rate, global_step, decay_step, decay_rate)\n",
    "\n",
    "print('Decaying Learning Rate : ', model_decay)"
   ]
  },
  {
   "cell_type": "markdown",
   "metadata": {},
   "source": [
    "##### OPTIMIZER AND ACCURACY CONFIGURATION"
   ]
  },
  {
   "cell_type": "code",
   "execution_count": null,
   "metadata": {},
   "outputs": [],
   "source": [
    "with tf.name_scope(\"loss\"):\n",
    "    #loss = tf.square(Y - Y_pred)                                                       # squared error\n",
    "    #loss = tf.nn.softmax(logits=Y_pred)                                                # softmax\n",
    "    #loss = tf.nn.log_softmax(logits=Y_pred)                                            # log-softmax\n",
    "    #loss = tf.nn.softmax_cross_entropy_with_logits_v2(labels=Y, logits=Y_pred, dim=-1) # cross-entropy\n",
    "    loss = tf.nn.sigmoid_cross_entropy_with_logits(labels=Y, logits=Y_pred)            # sigmoid-cross-entropy\n",
    "    #loss = tf.nn.sparse_softmax_cross_entropy_with_logits(labels=Y, logits=Y_pred)     # sparse-softmax-cross-entropy\n",
    "    loss = tf.reduce_mean(loss, name='MSE')\n",
    "    \n",
    "with tf.name_scope(\"train\"):\n",
    "    #optimizer = tf.train.GradientDescentOptimizer(learning_rate)                     # SGD\n",
    "    #optimizer = tf.train.MomentumOptimizer(learning_rate=learning_rate,momentum=0.9) # MOMENTUM\n",
    "    #optimizer = tf.train.AdagradOptimizer(learning_rate=learning_rate)               # ADAGRAD\n",
    "    optimizer = tf.train.AdadeltaOptimizer(learning_rate=learning_rate)              # ADADELTA\n",
    "    #optimizer = tf.train.RMSPropOptimizer(learning_rate=learning_rate, decay=1)      # RMS\n",
    "    training_op = optimizer.minimize(loss, global_step=global_step)\n",
    "\n",
    "with tf.name_scope(\"eval\"):\n",
    "    correct_prediction = tf.equal(tf.argmax(Y_pred, 1), tf.argmax(Y, 1))\n",
    "    accuracy = tf.reduce_mean(tf.cast(correct_prediction, \"float\"))"
   ]
  },
  {
   "cell_type": "markdown",
   "metadata": {},
   "source": [
    "##### MODEL EXECUTION"
   ]
  },
  {
   "cell_type": "code",
   "execution_count": 6,
   "metadata": {},
   "outputs": [
    {
     "data": {
      "application/vnd.jupyter.widget-view+json": {
       "model_id": "d204321fc3df4a2883a650503a48354a",
       "version_major": 2,
       "version_minor": 0
      },
      "text/plain": [
       "HBox(children=(FloatProgress(value=0.0, max=50.0), HTML(value='')))"
      ]
     },
     "metadata": {},
     "output_type": "display_data"
    },
    {
     "name": "stdout",
     "output_type": "stream",
     "text": [
      "Epoch: 0002\tTrainAcc: 0.64286\tTestAcc: 0.60000\tLoss: 7.09705\tLearning: 0.0099853\n",
      "Epoch: 0004\tTrainAcc: 0.67143\tTestAcc: 0.60000\tLoss: 6.90591\tLearning: 0.0099705\n",
      "Epoch: 0006\tTrainAcc: 0.72857\tTestAcc: 0.60000\tLoss: 6.74102\tLearning: 0.0099558\n",
      "Epoch: 0008\tTrainAcc: 0.77143\tTestAcc: 0.53333\tLoss: 6.59668\tLearning: 0.0099412\n",
      "Epoch: 0010\tTrainAcc: 0.77143\tTestAcc: 0.56667\tLoss: 6.46911\tLearning: 0.0099265\n",
      "Epoch: 0012\tTrainAcc: 0.82857\tTestAcc: 0.40000\tLoss: 6.30899\tLearning: 0.0099119\n",
      "Epoch: 0014\tTrainAcc: 0.90000\tTestAcc: 0.50000\tLoss: 6.08602\tLearning: 0.0098973\n",
      "Epoch: 0016\tTrainAcc: 0.84286\tTestAcc: 0.43333\tLoss: 5.97661\tLearning: 0.0098827\n",
      "Epoch: 0018\tTrainAcc: 0.92857\tTestAcc: 0.43333\tLoss: 5.88043\tLearning: 0.0098681\n",
      "Epoch: 0020\tTrainAcc: 0.97143\tTestAcc: 0.50000\tLoss: 5.76444\tLearning: 0.0098536\n",
      "Epoch: 0022\tTrainAcc: 0.98571\tTestAcc: 0.43333\tLoss: 5.58953\tLearning: 0.0098391\n",
      "Epoch: 0024\tTrainAcc: 0.95714\tTestAcc: 0.50000\tLoss: 5.51178\tLearning: 0.0098246\n",
      "Epoch: 0026\tTrainAcc: 0.98571\tTestAcc: 0.53333\tLoss: 5.43580\tLearning: 0.0098101\n",
      "Epoch: 0028\tTrainAcc: 1.00000\tTestAcc: 0.40000\tLoss: 5.37623\tLearning: 0.0097956\n",
      "Epoch: 0030\tTrainAcc: 1.00000\tTestAcc: 0.50000\tLoss: 5.31331\tLearning: 0.0097812\n",
      "Epoch: 0032\tTrainAcc: 1.00000\tTestAcc: 0.50000\tLoss: 5.23846\tLearning: 0.0097668\n",
      "Epoch: 0034\tTrainAcc: 1.00000\tTestAcc: 0.56667\tLoss: 5.21447\tLearning: 0.0097524\n",
      "Epoch: 0036\tTrainAcc: 1.00000\tTestAcc: 0.50000\tLoss: 5.16619\tLearning: 0.0097380\n",
      "Epoch: 0038\tTrainAcc: 1.00000\tTestAcc: 0.50000\tLoss: 5.14330\tLearning: 0.0097236\n",
      "Epoch: 0040\tTrainAcc: 1.00000\tTestAcc: 0.40000\tLoss: 5.12165\tLearning: 0.0097093\n",
      "Epoch: 0042\tTrainAcc: 1.00000\tTestAcc: 0.50000\tLoss: 5.10558\tLearning: 0.0096950\n",
      "Epoch: 0044\tTrainAcc: 1.00000\tTestAcc: 0.50000\tLoss: 5.08947\tLearning: 0.0096807\n",
      "Epoch: 0046\tTrainAcc: 1.00000\tTestAcc: 0.46667\tLoss: 5.08311\tLearning: 0.0096664\n",
      "Epoch: 0048\tTrainAcc: 1.00000\tTestAcc: 0.53333\tLoss: 5.07158\tLearning: 0.0096522\n",
      "Epoch: 0050\tTrainAcc: 1.00000\tTestAcc: 0.53333\tLoss: 5.06604\tLearning: 0.0096380\n",
      "\n"
     ]
    }
   ],
   "source": [
    "# define execution parameters\n",
    "n_epochs = 50\n",
    "display_epoch = 2\n",
    "batch_size = 10\n",
    "n_train = X_train.shape[0]\n",
    "n_batches = int(n_train/batch_size)\n",
    "\n",
    "# store results through every epoch iteration\n",
    "acc_train_list = []\n",
    "acc_test_list = []\n",
    "learning_list = []\n",
    "\n",
    "sess = tf.Session()\n",
    "sess.run(tf.global_variables_initializer())\n",
    "\n",
    "for epoch in tqdm(range(1, n_epochs+1)):\n",
    "    avg_loss = 0    # store batches' average loss\n",
    "    \n",
    "    for batch in range(X_train.shape[0]):\n",
    "        batch_index = np.random.choice(np.arange(X_train.shape[0]), batch_size)\n",
    "        X_batch = X_train[np.array(batch_index)]\n",
    "        Y_batch = Y_train[np.array(batch_index)]\n",
    "        sess.run(training_op, feed_dict={X: X_batch, Y: Y_batch})\n",
    "        \n",
    "        _loss = sess.run(loss, feed_dict={X:X_batch, Y: Y_batch})\n",
    "        avg_loss += _loss/n_batches\n",
    "        \n",
    "    if epoch % display_epoch == 0:\n",
    "        \n",
    "        _acc_train = sess.run(accuracy, feed_dict={X:X_train, Y: Y_train})\n",
    "        _acc_test = sess.run(accuracy, feed_dict={X:X_test, Y:Y_test})\n",
    "        \n",
    "        with sess.as_default():\n",
    "            assert tf.get_default_session() is sess\n",
    "            acc_train_list.append(_acc_train)\n",
    "            acc_test_list.append(_acc_test)\n",
    "            learning_list.append(learning_rate.eval())\n",
    "\n",
    "        print(\"Epoch: {:04}\\tTrainAcc: {:06.5f}\\tTestAcc: {:06.5f}\\tLoss: {:06.5f}\\tLearning: {:06.7f}\".format(epoch,\n",
    "                                                                                                               _acc_train,\n",
    "                                                                                                               _acc_test,\n",
    "                                                                                                               avg_loss,\n",
    "                                                                                                               sess.run(learning_rate)))\n",
    "        "
   ]
  },
  {
   "cell_type": "markdown",
   "metadata": {},
   "source": [
    "##### VISUALIZE THE RESULTS"
   ]
  },
  {
   "cell_type": "code",
   "execution_count": 7,
   "metadata": {},
   "outputs": [
    {
     "data": {
      "image/png": "[encoded data removed]",
      "text/plain": [
       "<Figure size 432x288 with 1 Axes>"
      ]
     },
     "metadata": {
      "needs_background": "light"
     },
     "output_type": "display_data"
    }
   ],
   "source": [
    "%matplotlib inline\n",
    "import matplotlib.pyplot as plt\n",
    "import matplotlib.patches as mpatches\n",
    "\n",
    "# set up legend\n",
    "blue_patch = mpatches.Patch(color='blue', label='Train Accuracy [Maximize]')\n",
    "red_patch = mpatches.Patch(color='red', label='Test Accuracy [Maximize]')\n",
    "plt.legend(handles=[blue_patch,red_patch])\n",
    "\n",
    "plt.plot(acc_train_list, color='blue')\n",
    "plt.plot(acc_test_list, color='red')\n",
    "\n",
    "plt.xlabel('epochs (x{})'.format(display_epoch))\n",
    "plt.ylabel('score');"
   ]
  },
  {
   "cell_type": "markdown",
   "metadata": {},
   "source": [
    "##### LEARNING RATE EVOLUTION"
   ]
  },
  {
   "cell_type": "code",
   "execution_count": 8,
   "metadata": {},
   "outputs": [
    {
     "data": {
      "image/png": "[encoded data removed]",
      "text/plain": [
       "<Figure size 432x288 with 1 Axes>"
      ]
     },
     "metadata": {
      "needs_background": "light"
     },
     "output_type": "display_data"
    }
   ],
   "source": [
    "or_patch = mpatches.Patch(color='orange', label='Learning rate')\n",
    "plt.legend(handles=[or_patch])\n",
    "\n",
    "plt.plot(learning_list, color='orange');\n",
    "plt.xlabel('epochs (x{})'.format(display_epoch))\n",
    "plt.ylabel('learning rate');"
   ]
  },
  {
   "cell_type": "code",
   "execution_count": null,
   "metadata": {},
   "outputs": [],
   "source": []
  }
 ],
 "metadata": {
  "kernelspec": {
   "display_name": "Python 3",
   "language": "python",
   "name": "python3"
  },
  "language_info": {
   "codemirror_mode": {
    "name": "ipython",
    "version": 3
   },
   "file_extension": ".py",
   "mimetype": "text/x-python",
   "name": "python",
   "nbconvert_exporter": "python",
   "pygments_lexer": "ipython3",
   "version": "3.5.6"
  }
 },
 "nbformat": 4,
 "nbformat_minor": 2
}

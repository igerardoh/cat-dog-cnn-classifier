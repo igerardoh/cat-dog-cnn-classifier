{
 "cells": [
  {
   "cell_type": "markdown",
   "metadata": {},
   "source": [
    "# CAT-DOG IMAGE CLASSIFIER"
   ]
  },
  {
   "cell_type": "markdown",
   "metadata": {},
   "source": [
    "<p><b>Status: <span style=color:orange;>In progress</span></b></p>"
   ]
  },
  {
   "cell_type": "markdown",
   "metadata": {},
   "source": [
    "##### LOCATE FILE NAMES"
   ]
  },
  {
   "cell_type": "code",
   "execution_count": 1,
   "metadata": {},
   "outputs": [],
   "source": [
    "import pandas as pd\n",
    "import numpy as np\n",
    "import pickle\n",
    "import os\n",
    "\n",
    "data_dir = '../../../data/'\n",
    "classes = os.listdir(data_dir)  # get classes from folder names\n",
    "\n",
    "# load feature data\n",
    "filename = '../../02-data-preprocessing/output/preprocessed_data/X.pckl'\n",
    "loader = open(filename, 'rb')\n",
    "X = pickle.load(loader)\n",
    "loader.close()\n",
    "\n",
    "# load target data\n",
    "filename = '../../02-data-preprocessing/output/preprocessed_data/y.pckl'\n",
    "loader = open(filename, 'rb')\n",
    "y = pickle.load(loader)\n",
    "loader.close()"
   ]
  },
  {
   "cell_type": "code",
   "execution_count": 2,
   "metadata": {},
   "outputs": [
    {
     "data": {
      "text/html": [
       "<div>\n",
       "<style scoped>\n",
       "    .dataframe tbody tr th:only-of-type {\n",
       "        vertical-align: middle;\n",
       "    }\n",
       "\n",
       "    .dataframe tbody tr th {\n",
       "        vertical-align: top;\n",
       "    }\n",
       "\n",
       "    .dataframe thead th {\n",
       "        text-align: right;\n",
       "    }\n",
       "</style>\n",
       "<table border=\"1\" class=\"dataframe\">\n",
       "  <thead>\n",
       "    <tr style=\"text-align: right;\">\n",
       "      <th></th>\n",
       "      <th>Cat</th>\n",
       "      <th>Dog</th>\n",
       "    </tr>\n",
       "  </thead>\n",
       "  <tbody>\n",
       "    <tr>\n",
       "      <th>0</th>\n",
       "      <td>1</td>\n",
       "      <td>0</td>\n",
       "    </tr>\n",
       "    <tr>\n",
       "      <th>1</th>\n",
       "      <td>0</td>\n",
       "      <td>1</td>\n",
       "    </tr>\n",
       "    <tr>\n",
       "      <th>2</th>\n",
       "      <td>0</td>\n",
       "      <td>1</td>\n",
       "    </tr>\n",
       "    <tr>\n",
       "      <th>3</th>\n",
       "      <td>0</td>\n",
       "      <td>1</td>\n",
       "    </tr>\n",
       "    <tr>\n",
       "      <th>4</th>\n",
       "      <td>1</td>\n",
       "      <td>0</td>\n",
       "    </tr>\n",
       "  </tbody>\n",
       "</table>\n",
       "</div>"
      ],
      "text/plain": [
       "   Cat  Dog\n",
       "0    1    0\n",
       "1    0    1\n",
       "2    0    1\n",
       "3    0    1\n",
       "4    1    0"
      ]
     },
     "execution_count": 2,
     "metadata": {},
     "output_type": "execute_result"
    }
   ],
   "source": [
    "import pandas as pd\n",
    "\n",
    "y = pd.get_dummies(y)\n",
    "y.head()"
   ]
  },
  {
   "cell_type": "markdown",
   "metadata": {},
   "source": [
    "##### SPLIT THE FILE NAMES INTO TRAINING AND TESTING SETS"
   ]
  },
  {
   "cell_type": "code",
   "execution_count": 3,
   "metadata": {},
   "outputs": [
    {
     "name": "stdout",
     "output_type": "stream",
     "text": [
      "Data shapes:\n",
      "\n",
      "X_train : (240, 64, 64, 3)\n",
      "y_train : (240, 2)\n",
      "\n",
      "X_test : (60, 64, 64, 3)\n",
      "y_test : (60, 2)\n"
     ]
    }
   ],
   "source": [
    "from sklearn.model_selection import train_test_split\n",
    "\n",
    "# set the seed for reproducibility\n",
    "np.random.seed(127)\n",
    "\n",
    "X = X[:500]\n",
    "y = y[:500]\n",
    "\n",
    "# split the dataset into 2 training and 2 testing sets\n",
    "X_train, X_test, y_train, y_test = train_test_split(X, y.values, test_size=0.2, random_state=13)\n",
    "\n",
    "# Normalize pixel values to be between 0 and 1\n",
    "X_train, X_test = X_train / 255.0, X_test / 255.0\n",
    "\n",
    "print('Data shapes:\\n')\n",
    "print('X_train : {}\\ny_train : {}\\n\\nX_test : {}\\ny_test : {}'.format(np.shape(X_train),\n",
    "                                                                      np.shape(y_train),\n",
    "                                                                      np.shape(X_test),\n",
    "                                                                      np.shape(y_test)))"
   ]
  },
  {
   "cell_type": "markdown",
   "metadata": {},
   "source": [
    "##### DEFINE NETWORK PARAMETERS"
   ]
  },
  {
   "cell_type": "code",
   "execution_count": 4,
   "metadata": {},
   "outputs": [],
   "source": [
    "#extract images properties\n",
    "image_width  = np.shape(X_test)[1]\n",
    "image_height = np.shape(X_test)[2]\n",
    "n_channel  = np.shape(X_test)[3]\n",
    "n_classes = np.shape(y_train)[1]\n",
    "\n",
    "# count number of samples in each set of data\n",
    "n_train = np.shape(X_train)[0]\n",
    "n_test = np.shape(X_test)[0]\n",
    "\n",
    "# define amount of neurons\n",
    "#n_layer_in = n_features  # 11 neurons in input layer\n",
    "n_layer_h1 = 50          # first   hidden layer\n",
    "n_layer_h2 = 50          # second  hidden layer\n",
    "n_layer_out = n_classes  # 7 neurons in input layer\n",
    "\n",
    "sigma_init = 0.01   # For randomized initialization"
   ]
  },
  {
   "cell_type": "markdown",
   "metadata": {},
   "source": [
    "##### MODEL ARCHITECTURE"
   ]
  },
  {
   "cell_type": "code",
   "execution_count": 5,
   "metadata": {},
   "outputs": [
    {
     "name": "stdout",
     "output_type": "stream",
     "text": [
      "_________________________________________________________________\n",
      "Layer (type)                 Output Shape              Param #   \n",
      "=================================================================\n",
      "conv2d (Conv2D)              (None, 64, 64, 32)        896       \n",
      "_________________________________________________________________\n",
      "max_pooling2d (MaxPooling2D) (None, 32, 32, 32)        0         \n",
      "_________________________________________________________________\n",
      "conv2d_1 (Conv2D)            (None, 32, 32, 64)        18496     \n",
      "_________________________________________________________________\n",
      "max_pooling2d_1 (MaxPooling2 (None, 16, 16, 64)        0         \n",
      "_________________________________________________________________\n",
      "conv2d_2 (Conv2D)            (None, 16, 16, 64)        36928     \n",
      "_________________________________________________________________\n",
      "max_pooling2d_2 (MaxPooling2 (None, 8, 8, 64)          0         \n",
      "_________________________________________________________________\n",
      "flatten (Flatten)            (None, 4096)              0         \n",
      "_________________________________________________________________\n",
      "dense (Dense)                (None, 1024)              4195328   \n",
      "_________________________________________________________________\n",
      "dense_1 (Dense)              (None, 2)                 2050      \n",
      "_________________________________________________________________\n",
      "activation (Activation)      (None, 2)                 0         \n",
      "=================================================================\n",
      "Total params: 4,253,698\n",
      "Trainable params: 4,253,698\n",
      "Non-trainable params: 0\n",
      "_________________________________________________________________\n"
     ]
    }
   ],
   "source": [
    "import tensorflow\n",
    "from tensorflow.keras.models import Sequential\n",
    "from tensorflow.keras.layers import Conv2D\n",
    "from tensorflow.keras.layers import MaxPooling2D\n",
    "from tensorflow.keras.layers import Dense\n",
    "from tensorflow.keras.layers import Flatten\n",
    "from tensorflow.keras.optimizers import SGD\n",
    "from tensorflow.keras.layers import Activation\n",
    "\n",
    "model = Sequential()\n",
    "model.add(Conv2D(32, (3, 3), padding='same', activation='relu', input_shape=X_train.shape[1:]))\n",
    "model.add(MaxPooling2D(pool_size=(2, 2)))\n",
    "\n",
    "model.add(Conv2D(64, (3, 3), padding='same', activation='relu'))\n",
    "model.add(MaxPooling2D(pool_size=(2, 2)))\n",
    "\n",
    "model.add(Conv2D(64, (3, 3), padding='same', activation='relu'))\n",
    "model.add(MaxPooling2D(pool_size=(2, 2)))\n",
    "\n",
    "model.add(Flatten())\n",
    "model.add(Dense(1024))\n",
    "model.add(Dense(n_classes))\n",
    "model.add(Activation('sigmoid'))\n",
    "\n",
    "model.summary()"
   ]
  },
  {
   "cell_type": "code",
   "execution_count": 6,
   "metadata": {
    "scrolled": false
   },
   "outputs": [
    {
     "name": "stdout",
     "output_type": "stream",
     "text": [
      "Train on 240 samples, validate on 60 samples\n",
      "Epoch 1/50\n",
      "240/240 [==============================] - 38s 158ms/step - loss: 1.7221 - acc: 0.5146 - val_loss: 0.7180 - val_acc: 0.4667\n",
      "Epoch 2/50\n",
      "240/240 [==============================] - 21s 87ms/step - loss: 0.6963 - acc: 0.5312 - val_loss: 0.6963 - val_acc: 0.4667\n",
      "Epoch 3/50\n",
      "240/240 [==============================] - 20s 84ms/step - loss: 0.7025 - acc: 0.5583 - val_loss: 0.6927 - val_acc: 0.5333\n",
      "Epoch 4/50\n",
      "240/240 [==============================] - 20s 84ms/step - loss: 0.6753 - acc: 0.5958 - val_loss: 0.7311 - val_acc: 0.5333\n",
      "Epoch 5/50\n",
      "240/240 [==============================] - 19s 80ms/step - loss: 0.6912 - acc: 0.5854 - val_loss: 0.6837 - val_acc: 0.5333\n",
      "Epoch 6/50\n",
      "240/240 [==============================] - 19s 81ms/step - loss: 0.6557 - acc: 0.6292 - val_loss: 0.7218 - val_acc: 0.5167\n",
      "Epoch 7/50\n",
      "240/240 [==============================] - 19s 80ms/step - loss: 0.6191 - acc: 0.6333 - val_loss: 0.7563 - val_acc: 0.5333\n",
      "Epoch 8/50\n",
      "240/240 [==============================] - 20s 84ms/step - loss: 0.6363 - acc: 0.6687 - val_loss: 0.7177 - val_acc: 0.4917\n",
      "Epoch 9/50\n",
      "240/240 [==============================] - 19s 79ms/step - loss: 0.5478 - acc: 0.7333 - val_loss: 0.7059 - val_acc: 0.5333\n",
      "Epoch 10/50\n",
      "240/240 [==============================] - 20s 83ms/step - loss: 0.5243 - acc: 0.7667 - val_loss: 0.7372 - val_acc: 0.5250\n",
      "Epoch 11/50\n",
      "240/240 [==============================] - 19s 79ms/step - loss: 0.4137 - acc: 0.8354 - val_loss: 0.7452 - val_acc: 0.5667\n",
      "Epoch 12/50\n",
      "240/240 [==============================] - 19s 78ms/step - loss: 0.3404 - acc: 0.8375 - val_loss: 0.7555 - val_acc: 0.5417\n",
      "Epoch 13/50\n",
      "240/240 [==============================] - 18s 77ms/step - loss: 0.8995 - acc: 0.7708 - val_loss: 0.7386 - val_acc: 0.5833\n",
      "Epoch 14/50\n",
      "240/240 [==============================] - 20s 82ms/step - loss: 0.2759 - acc: 0.9479 - val_loss: 0.7788 - val_acc: 0.6000\n",
      "Epoch 15/50\n",
      "240/240 [==============================] - 20s 85ms/step - loss: 0.2200 - acc: 0.9125 - val_loss: 0.8593 - val_acc: 0.6083\n",
      "Epoch 16/50\n",
      "240/240 [==============================] - 19s 79ms/step - loss: 0.1985 - acc: 0.9271 - val_loss: 0.8281 - val_acc: 0.6083\n",
      "Epoch 17/50\n",
      "240/240 [==============================] - 19s 80ms/step - loss: 0.2330 - acc: 0.9146 - val_loss: 0.9548 - val_acc: 0.5833\n",
      "Epoch 18/50\n",
      "240/240 [==============================] - 11s 47ms/step - loss: 0.1115 - acc: 0.9771 - val_loss: 1.3421 - val_acc: 0.5667\n",
      "Epoch 19/50\n",
      "240/240 [==============================] - 11s 45ms/step - loss: 0.0994 - acc: 0.9708 - val_loss: 1.2273 - val_acc: 0.5833\n",
      "Epoch 20/50\n",
      "240/240 [==============================] - 11s 44ms/step - loss: 0.0707 - acc: 0.9812 - val_loss: 1.2272 - val_acc: 0.6000\n",
      "Epoch 21/50\n",
      "240/240 [==============================] - 11s 46ms/step - loss: 0.0413 - acc: 0.9958 - val_loss: 1.3732 - val_acc: 0.5667\n",
      "Epoch 22/50\n",
      "240/240 [==============================] - 11s 46ms/step - loss: 0.0462 - acc: 0.9854 - val_loss: 3.8929 - val_acc: 0.4667\n",
      "Epoch 23/50\n",
      "240/240 [==============================] - 11s 46ms/step - loss: 0.4627 - acc: 0.8896 - val_loss: 1.2351 - val_acc: 0.5833\n",
      "Epoch 24/50\n",
      "240/240 [==============================] - 11s 46ms/step - loss: 0.0363 - acc: 0.9979 - val_loss: 1.4266 - val_acc: 0.5833\n",
      "Epoch 25/50\n",
      "240/240 [==============================] - 11s 46ms/step - loss: 0.0126 - acc: 1.0000 - val_loss: 1.5516 - val_acc: 0.5750\n",
      "Epoch 26/50\n",
      "240/240 [==============================] - 11s 45ms/step - loss: 0.0092 - acc: 1.0000 - val_loss: 1.6333 - val_acc: 0.5833\n",
      "Epoch 27/50\n",
      "240/240 [==============================] - 11s 45ms/step - loss: 0.0044 - acc: 1.0000 - val_loss: 1.8146 - val_acc: 0.6000\n",
      "Epoch 28/50\n",
      "240/240 [==============================] - 11s 45ms/step - loss: 0.0018 - acc: 1.0000 - val_loss: 1.8995 - val_acc: 0.5667\n",
      "Epoch 29/50\n",
      "240/240 [==============================] - 11s 47ms/step - loss: 0.0012 - acc: 1.0000 - val_loss: 2.0441 - val_acc: 0.5750\n",
      "Epoch 30/50\n",
      "240/240 [==============================] - 11s 47ms/step - loss: 5.4305e-04 - acc: 1.0000 - val_loss: 2.1281 - val_acc: 0.5917\n",
      "Epoch 31/50\n",
      "240/240 [==============================] - 11s 45ms/step - loss: 4.9530e-04 - acc: 1.0000 - val_loss: 2.4395 - val_acc: 0.5500\n",
      "Epoch 32/50\n",
      "240/240 [==============================] - 11s 47ms/step - loss: 0.5418 - acc: 0.8271 - val_loss: 1.3695 - val_acc: 0.5167\n",
      "Epoch 33/50\n",
      "240/240 [==============================] - 11s 44ms/step - loss: 0.0363 - acc: 0.9979 - val_loss: 1.6458 - val_acc: 0.5917\n",
      "Epoch 34/50\n",
      "240/240 [==============================] - 11s 47ms/step - loss: 0.0079 - acc: 1.0000 - val_loss: 1.8954 - val_acc: 0.5833\n",
      "Epoch 35/50\n",
      "240/240 [==============================] - 11s 47ms/step - loss: 0.0027 - acc: 1.0000 - val_loss: 2.0181 - val_acc: 0.5667\n",
      "Epoch 36/50\n",
      "240/240 [==============================] - 11s 47ms/step - loss: 0.0015 - acc: 1.0000 - val_loss: 2.1416 - val_acc: 0.5750\n",
      "Epoch 37/50\n",
      "240/240 [==============================] - 11s 46ms/step - loss: 8.5629e-04 - acc: 1.0000 - val_loss: 2.1783 - val_acc: 0.5833\n",
      "Epoch 38/50\n",
      "240/240 [==============================] - 11s 46ms/step - loss: 5.2813e-04 - acc: 1.0000 - val_loss: 2.2557 - val_acc: 0.5667\n",
      "Epoch 39/50\n",
      "240/240 [==============================] - 11s 46ms/step - loss: 3.4505e-04 - acc: 1.0000 - val_loss: 2.3490 - val_acc: 0.5667\n",
      "Epoch 40/50\n",
      "240/240 [==============================] - 11s 46ms/step - loss: 2.0979e-04 - acc: 1.0000 - val_loss: 2.4232 - val_acc: 0.5667\n",
      "Epoch 41/50\n",
      "240/240 [==============================] - 11s 46ms/step - loss: 1.7225e-04 - acc: 1.0000 - val_loss: 2.7413 - val_acc: 0.5667\n",
      "Epoch 42/50\n",
      "240/240 [==============================] - 11s 46ms/step - loss: 1.4996e-04 - acc: 1.0000 - val_loss: 2.6581 - val_acc: 0.5667\n",
      "Epoch 43/50\n",
      "240/240 [==============================] - 11s 47ms/step - loss: 4.9827e-05 - acc: 1.0000 - val_loss: 2.7009 - val_acc: 0.5750\n",
      "Epoch 44/50\n",
      "240/240 [==============================] - 11s 45ms/step - loss: 2.8877e-05 - acc: 1.0000 - val_loss: 2.7646 - val_acc: 0.5833\n",
      "Epoch 45/50\n",
      "240/240 [==============================] - 11s 45ms/step - loss: 2.0039e-05 - acc: 1.0000 - val_loss: 2.8135 - val_acc: 0.5833\n",
      "Epoch 46/50\n",
      "240/240 [==============================] - 11s 45ms/step - loss: 1.4348e-05 - acc: 1.0000 - val_loss: 2.9253 - val_acc: 0.5833\n",
      "Epoch 47/50\n",
      "240/240 [==============================] - 11s 45ms/step - loss: 9.3288e-06 - acc: 1.0000 - val_loss: 2.9580 - val_acc: 0.5833\n",
      "Epoch 48/50\n",
      "240/240 [==============================] - 11s 46ms/step - loss: 6.2516e-06 - acc: 1.0000 - val_loss: 2.9866 - val_acc: 0.5833\n",
      "Epoch 49/50\n",
      "240/240 [==============================] - 11s 48ms/step - loss: 3.9348e-06 - acc: 1.0000 - val_loss: 3.0553 - val_acc: 0.5833\n",
      "Epoch 50/50\n",
      "240/240 [==============================] - 11s 46ms/step - loss: 2.6482e-06 - acc: 1.0000 - val_loss: 3.1024 - val_acc: 0.6000\n"
     ]
    }
   ],
   "source": [
    "# initiate RMSprop optimizer\n",
    "opt = tensorflow.keras.optimizers.RMSprop(lr=0.001, decay=1e-6)\n",
    "\n",
    "# Let's train the model using RMSprop\n",
    "model.compile(loss='binary_crossentropy', optimizer=opt, metrics=['accuracy'])\n",
    "\n",
    "history = model.fit(X_train, y_train, epochs=50, validation_data=(X_test, y_test))"
   ]
  },
  {
   "cell_type": "markdown",
   "metadata": {},
   "source": [
    "##### VISUALIZE THE RESULTS"
   ]
  },
  {
   "cell_type": "code",
   "execution_count": 9,
   "metadata": {},
   "outputs": [
    {
     "data": {
      "image/png": "[encoded data removed]",
      "text/plain": [
       "<Figure size 432x288 with 1 Axes>"
      ]
     },
     "metadata": {
      "needs_background": "light"
     },
     "output_type": "display_data"
    }
   ],
   "source": [
    "%matplotlib inline\n",
    "import matplotlib.pyplot as plt\n",
    "import matplotlib.patches as mpatches\n",
    "\n",
    "# set up legend\n",
    "blue_patch = mpatches.Patch(color='blue', label='Train Accuracy [Maximize]')\n",
    "red_patch = mpatches.Patch(color='red', label='Test Accuracy [Maximize]')\n",
    "plt.legend(handles=[blue_patch,red_patch])\n",
    "\n",
    "#plot the data\n",
    "plt.plot(history.history['acc'], color='blue')\n",
    "plt.plot(history.history['val_acc'], color='red')\n",
    "\n",
    "plt.xlabel('epochs (x{})'.format('display_epoch'))\n",
    "plt.ylabel('score');"
   ]
  },
  {
   "cell_type": "code",
   "execution_count": null,
   "metadata": {},
   "outputs": [],
   "source": []
  }
 ],
 "metadata": {
  "kernelspec": {
   "display_name": "Python 3",
   "language": "python",
   "name": "python3"
  },
  "language_info": {
   "codemirror_mode": {
    "name": "ipython",
    "version": 3
   },
   "file_extension": ".py",
   "mimetype": "text/x-python",
   "name": "python",
   "nbconvert_exporter": "python",
   "pygments_lexer": "ipython3",
   "version": "3.5.5"
  }
 },
 "nbformat": 4,
 "nbformat_minor": 2
}

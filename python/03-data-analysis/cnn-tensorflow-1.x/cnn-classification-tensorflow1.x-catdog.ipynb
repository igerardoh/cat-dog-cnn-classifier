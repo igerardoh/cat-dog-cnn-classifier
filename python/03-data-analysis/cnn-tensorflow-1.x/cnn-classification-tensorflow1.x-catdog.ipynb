{
 "cells": [
  {
   "cell_type": "markdown",
   "metadata": {},
   "source": [
    "# CAT-DOG IMAGE CLASSIFIER"
   ]
  },
  {
   "cell_type": "markdown",
   "metadata": {},
   "source": [
    "<p><b>Status: <span style=color:orange;>In progress</span></b></p>"
   ]
  },
  {
   "cell_type": "markdown",
   "metadata": {},
   "source": [
    "##### LOAD IMAGE FILES\n",
    "Cat : 0 |\n",
    "Dog : 1"
   ]
  },
  {
   "cell_type": "code",
   "execution_count": 1,
   "metadata": {},
   "outputs": [],
   "source": [
    "import pandas as pd\n",
    "import numpy as np\n",
    "import pickle\n",
    "import os\n",
    "\n",
    "data_dir = '../../../data/'\n",
    "classes = os.listdir(data_dir)  # get classes from folder names\n",
    "\n",
    "# load feature data\n",
    "filename = '../../02-data-preprocessing/output/preprocessed_data/X.pckl'\n",
    "loader = open(filename, 'rb')\n",
    "X = pickle.load(loader)\n",
    "loader.close()\n",
    "\n",
    "# load target data\n",
    "filename = '../../02-data-preprocessing/output/preprocessed_data/y.pckl'\n",
    "loader = open(filename, 'rb')\n",
    "y = pickle.load(loader)\n",
    "loader.close()"
   ]
  },
  {
   "cell_type": "markdown",
   "metadata": {},
   "source": [
    "##### SPLIT THE FILE NAMES INTO TRAINING AND TESTING SETS"
   ]
  },
  {
   "cell_type": "code",
   "execution_count": 2,
   "metadata": {},
   "outputs": [
    {
     "name": "stdout",
     "output_type": "stream",
     "text": [
      "Data shapes:\n",
      "\n",
      "X_train : (240, 100, 100, 3)\n",
      "y_train : (240, 2)\n",
      "\n",
      "X_test : (60, 100, 100, 3)\n",
      "y_test : (60, 2)\n"
     ]
    }
   ],
   "source": [
    "from sklearn.model_selection import train_test_split\n",
    "\n",
    "# set the seed for reproducibility\n",
    "np.random.seed(127)\n",
    "\n",
    "X = X/255\n",
    "X = X[:300]\n",
    "y = y[:300]\n",
    "\n",
    "# split the dataset into 2 training and 2 testing sets\n",
    "X_train, X_test, y_train, y_test = train_test_split(X, y, test_size=0.2, random_state=13)\n",
    "\n",
    "print('Data shapes:\\n')\n",
    "print('X_train : {}\\ny_train : {}\\n\\nX_test : {}\\ny_test : {}'.format(np.shape(X_train),\n",
    "                                                                      np.shape(y_train),\n",
    "                                                                      np.shape(X_test),\n",
    "                                                                      np.shape(y_test)))"
   ]
  },
  {
   "cell_type": "markdown",
   "metadata": {},
   "source": [
    "##### DEFINE NETWORK PARAMETERS"
   ]
  },
  {
   "cell_type": "code",
   "execution_count": 4,
   "metadata": {},
   "outputs": [],
   "source": [
    "# extract images properties\n",
    "image_width  = np.shape(X_test)[1]\n",
    "image_height = np.shape(X_test)[2]\n",
    "n_channels  = np.shape(X_test)[3]\n",
    "n_classes = y_train.shape[1]\n",
    "n_features = 3  # dummy\n",
    "\n",
    "# count number of samples in each set of data\n",
    "n_train = X_train.shape[0]\n",
    "n_test = X_test.shape[0]\n",
    "\n",
    "# define amount of neurons\n",
    "n_layer_in = n_features  # 11 neurons in input layer\n",
    "n_layer_h1 = 500          # first   hidden layer\n",
    "n_layer_h2 = 20          # second  hidden layer\n",
    "n_layer_out = n_classes  # 7 neurons in input layer\n",
    "\n",
    "sigma_init = 0.01   # For randomized initialization"
   ]
  },
  {
   "cell_type": "markdown",
   "metadata": {},
   "source": [
    "##### RESET TENSORFLOW GRAPH IF THERE IS ANY"
   ]
  },
  {
   "cell_type": "code",
   "execution_count": 5,
   "metadata": {},
   "outputs": [],
   "source": [
    "import tensorflow as tf\n",
    "\n",
    "# this will set up a specific seed in order to control the output \n",
    "# and get more homogeneous results though every model variation\n",
    "def reset_graph(seed=127):\n",
    "    tf.reset_default_graph()\n",
    "    tf.set_random_seed(seed)\n",
    "    np.random.seed(seed)\n",
    "    \n",
    "reset_graph()"
   ]
  },
  {
   "cell_type": "markdown",
   "metadata": {},
   "source": [
    "##### MODEL ARCHITECTURE\n",
    "You can find useful information in the following links:\n",
    "##### https://ayearofai.com/rohan-lenny-2-convolutional-neural-networks-5f4cd480a60b\n",
    "##### https://www.guru99.com/convnet-tensorflow-image-classification.html\n",
    "\n",
    "Convolutional output size:\n",
    "$$\n",
    "Conv = \\frac{(width-kernel)+(2*Padding)}{stride}+1\n",
    "$$\n",
    "\n",
    "Maxpool output size:\n",
    "$$\n",
    "MaxPool = \\frac{width-kernel}{stride}+1\n",
    "$$\n",
    "\n",
    "Padding Value when Padding=\"SAME\":\n",
    "$$\n",
    "Padding_{\"SAME\"} = \\frac{width*(stride-1)-stride+kernel}{2}\n",
    "$$\n",
    "\n",
    "Number of parameters:\n",
    "$$\n",
    "n_{parameters} = ((kernel * channels) + 1) * filters\n",
    "$$\n",
    "\n",
    "The general rule is:\n",
    "By increasing the stride or by using maxpooling, it is possible to reduce the sample, however this will also lose some information. Maxpooling will be more loosely that's why some model nowaday dont use it.\n"
   ]
  },
  {
   "cell_type": "code",
   "execution_count": 6,
   "metadata": {},
   "outputs": [],
   "source": [
    "# the basic idea is there is no formula to calculate the optimal stride, kernel, or filter.\n",
    "# You will have to test them and see how these influence on the results.\n",
    "\n",
    "# set up some parameters\n",
    "keep_prob = 0.75\n",
    "\n",
    "# create symbolic variables\n",
    "X = tf.placeholder(tf.float32, [None, image_width, image_height, n_channels])\n",
    "Y = tf.placeholder(tf.float32, [None, n_classes])\n",
    "\n",
    "with tf.name_scope('cnn'):\n",
    "    \n",
    "    x_image = tf.reshape(X, [-1, image_width, image_height, n_channels])\n",
    "    \n",
    "    # ------ CONVOLUTIONAL NEURAL NETWORK ------    \n",
    "\n",
    "    # Convolutional Layer1\n",
    "    # input shape : batch_size, 100, 100, 3\n",
    "    # output shape: batch_size, 100, 100, 32\n",
    "    conv1 = tf.layers.conv2d(inputs=X,\n",
    "                             filters=32,\n",
    "                             kernel_size=[5, 5],\n",
    "                             strides=(1, 1),\n",
    "                             padding='same',\n",
    "                             activation=tf.nn.relu)\n",
    "\n",
    "    # Pooling Layer 1\n",
    "    # input shape : batch_size, 100, 100, 32\n",
    "    # output shape: batch_size, 50, 50, 32\n",
    "    pool1 = tf.layers.max_pooling2d(inputs=conv1, pool_size=[2, 2], strides=2)\n",
    "\n",
    "    # Convolutional Layer 2\n",
    "    # input shape : batch_size, 50, 50, 32\n",
    "    # output shape: batch_size, 50, 50, 36\n",
    "    conv2 = tf.layers.conv2d(inputs=pool1,\n",
    "                             filters=36,\n",
    "                             kernel_size=[5, 5],\n",
    "                             strides=(1, 1),\n",
    "                             padding='same',\n",
    "                             activation=tf.nn.relu)\n",
    "    \n",
    "    # Pooling Layer 2\n",
    "    # input shape : batch_size, 50, 50, 36\n",
    "    # output shape: batch_size, 25, 25, 36\n",
    "    pool2 = tf.layers.max_pooling2d(inputs=conv2, pool_size=[2, 2], strides=2)\\\n",
    "    \n",
    "    pool2_flat = tf.reshape(pool2, [-1, 25*25*36 ])\n",
    "\n",
    "    \n",
    "    # ------ FEED FORWARD NEURAL NETWORK ------\n",
    "    \n",
    "    # deploy the variables that will store the weights\n",
    "    W = {\n",
    "        'W1': tf.Variable(tf.random_normal([25*25*36, n_layer_h1], stddev = sigma_init), name='W1'),\n",
    "        'W2': tf.Variable(tf.random_normal([n_layer_h1, n_layer_h2], stddev = sigma_init), name='W2'),\n",
    "        'W3': tf.Variable(tf.random_normal([n_layer_h2, n_layer_out], stddev = sigma_init), name='W3'),\n",
    "    }\n",
    "\n",
    "    # deploy the variables that will store the bias\n",
    "    b = {\n",
    "        'b1': tf.Variable(tf.random_normal([n_layer_h1]), name='b1'),\n",
    "        'b2': tf.Variable(tf.random_normal([n_layer_h2]), name='b2'),\n",
    "        'b3': tf.Variable(tf.random_normal([n_layer_out]), name='b3'),\n",
    "    }\n",
    "    \n",
    "    with tf.name_scope('hidden_1'):\n",
    "        layer_h1 = tf.nn.relu(tf.add(tf.matmul(pool2_flat,W['W1']), b['b1']))\n",
    "        #layer_h1 = tf.nn.dropout(layer_h1, keep_prob)\n",
    "        \n",
    "    with tf.name_scope('hidden_2'):\n",
    "        layer_h2 = tf.nn.relu(tf.add(tf.matmul(layer_h1,W['W2']), b['b2']))\n",
    "        #layer_h2 = tf.nn.dropout(layer_h2, keep_prob)\n",
    "        \n",
    "    with tf.name_scope('layer_output'):\n",
    "        y_pred = tf.add(tf.matmul(layer_h2,W['W3']), b['b3'])"
   ]
  },
  {
   "cell_type": "markdown",
   "metadata": {},
   "source": [
    "##### LEARNING RATE CONFIGURATION"
   ]
  },
  {
   "cell_type": "code",
   "execution_count": 7,
   "metadata": {},
   "outputs": [
    {
     "name": "stdout",
     "output_type": "stream",
     "text": [
      "Decaying Learning Rate :  none\n"
     ]
    }
   ],
   "source": [
    "learning_rate = 0.05\n",
    "\n",
    "# CHOOSE A DECAYING METHOD IN HERE\n",
    "model_decay = 'none'      # [exponential | inverse_time | natural_exponential | polynomial | none]\n",
    "\n",
    "global_step = tf.Variable(0, trainable=False)\n",
    "decay_rate = 0.10\n",
    "decay_step = 10000\n",
    "\n",
    "if model_decay == 'exponential':\n",
    "    learning_rate = tf.train.exponential_decay(learning_rate, global_step, decay_step, decay_rate)\n",
    "\n",
    "elif model_decay == 'inverse_time':\n",
    "    learning_rate = tf.train.inverse_time_decay(learning_rate, global_step, decay_step, decay_rate)\n",
    "    \n",
    "elif model_decay == 'natural_exponential':\n",
    "    learning_rate = tf.train.natural_exp_decay(learning_rate, global_step, decay_step, decay_rate)\n",
    "    \n",
    "elif model_decay == 'polynomial':\n",
    "    end_learning_rate = 0.001\n",
    "    learning_rate = tf.train.polynomial_decay(learning_rate, global_step, decay_step, end_learning_rate, power=0.5)\n",
    "    \n",
    "else:\n",
    "    decay_rate = 1.0\n",
    "    learning_rate = tf.train.exponential_decay(learning_rate, global_step, decay_step, decay_rate)\n",
    "\n",
    "print('Decaying Learning Rate : ', model_decay)"
   ]
  },
  {
   "cell_type": "markdown",
   "metadata": {},
   "source": [
    "##### OPTIMIZER AND ACCURACY CONFIGURATION"
   ]
  },
  {
   "cell_type": "code",
   "execution_count": 8,
   "metadata": {},
   "outputs": [],
   "source": [
    "with tf.name_scope('loss'):\n",
    "    #loss = tf.square(Y - tf.nn.softmax(y_pred))                                        # squared error\n",
    "    #loss = tf.nn.softmax(logits=y_pred)                                                # softmax\n",
    "    #loss = tf.nn.log_softmax(logits=y_pred)                                            # log-softmax\n",
    "    #loss = tf.nn.softmax_cross_entropy_with_logits_v2(labels=Y, logits=y_pred, dim=-1) # cross-entropy\n",
    "    loss = tf.nn.sigmoid_cross_entropy_with_logits(labels=Y, logits=y_pred)            # sigmoid-cross-entropy\n",
    "    #loss = tf.nn.sparse_softmax_cross_entropy_with_logits(labels=Y, logits=y_pred)     # sparse-softmax-cross-entropy\n",
    "    \n",
    "    # compute the average loss\n",
    "    loss = tf.reduce_mean(loss, name='MSE')\n",
    "    \n",
    "with tf.name_scope('train'):\n",
    "    #optimizer = tf.train.GradientDescentOptimizer(learning_rate)                     # SGD\n",
    "    #optimizer = tf.train.MomentumOptimizer(learning_rate=learning_rate,momentum=0.9) # MOMENTUM\n",
    "    #optimizer = tf.train.AdagradOptimizer(learning_rate=learning_rate)               # ADAGRAD\n",
    "    optimizer = tf.train.AdadeltaOptimizer(learning_rate=learning_rate)              # ADADELTA\n",
    "    #optimizer = tf.train.RMSPropOptimizer(learning_rate=learning_rate, decay=1)      # RMS\n",
    "    \n",
    "    # compute the average loss after each optimization execution\n",
    "    training_op = optimizer.minimize(loss, global_step=global_step)\n",
    "\n",
    "with tf.name_scope('eval'):\n",
    "    correct_prediction = tf.equal(tf.argmax(y_pred, 1), tf.argmax(Y, 1))\n",
    "    accuracy = tf.reduce_mean(tf.cast(correct_prediction, 'float'))\n",
    "    \n",
    "\n",
    "# Create summaries\n",
    "tf.summary.scalar('loss', loss)\n",
    "tf.summary.scalar('accuracy', accuracy)\n",
    "tf.summary.scalar('learn_rate', learning_rate)\n",
    "\n",
    "# Merge all summaries into a single op to generate the summary data\n",
    "merged_summary_op = tf.summary.merge_all()"
   ]
  },
  {
   "cell_type": "markdown",
   "metadata": {},
   "source": [
    "##### DEFINE DIRECTORIES FOR RESULTS"
   ]
  },
  {
   "cell_type": "code",
   "execution_count": 9,
   "metadata": {},
   "outputs": [
    {
     "name": "stdout",
     "output_type": "stream",
     "text": [
      "Error: output/tf_checkpoints - 系統找不到指定的路徑。.\n"
     ]
    }
   ],
   "source": [
    "import sys\n",
    "import shutil\n",
    "from datetime import datetime\n",
    "\n",
    "# set up the directory to store the results for tensorboard\n",
    "now = datetime.utcnow().strftime('%Y%m%d%H%M%S')\n",
    "root_ckpoint = 'output/tf_checkpoints'\n",
    "root_logdir = 'output/tf_logs'\n",
    "logdir = '{}/run-{}/'.format(root_logdir, now) \n",
    "\n",
    "## Try to remove tree; if failed show an error using try...except on screen\n",
    "try:\n",
    "    shutil.rmtree(root_ckpoint)\n",
    "except OSError as e:\n",
    "    print ('Error: %s - %s.' % (e.filename, e.strerror))"
   ]
  },
  {
   "cell_type": "markdown",
   "metadata": {},
   "source": [
    "##### MODEL EXECUTION"
   ]
  },
  {
   "cell_type": "code",
   "execution_count": 10,
   "metadata": {},
   "outputs": [],
   "source": [
    "# deploy a progress bar\n",
    "try:\n",
    "    from tqdm.notebook import tqdm\n",
    "except ImportError:\n",
    "    def tqdm(x, *args, **kwargs):\n",
    "        return x\n",
    "\n",
    "# define some parameters\n",
    "n_epochs = 50\n",
    "display_epoch = 2\n",
    "batch_size = 5\n",
    "n_batches = int(n_train/batch_size)\n",
    "\n",
    "# this will later help me to restore the model to a specific epoch\n",
    "saver = tf.train.Saver(tf.global_variables())\n",
    "\n",
    "# store results through every epoch iteration\n",
    "acc_train_list = []\n",
    "acc_test_list = []\n",
    "avg_loss_list = []\n",
    "learning_list = []\n"
   ]
  },
  {
   "cell_type": "code",
   "execution_count": 11,
   "metadata": {
    "scrolled": false
   },
   "outputs": [
    {
     "data": {
      "application/vnd.jupyter.widget-view+json": {
       "model_id": "0e1fa453d7dc4fa6aff30bc510e46bd2",
       "version_major": 2,
       "version_minor": 0
      },
      "text/plain": [
       "HBox(children=(FloatProgress(value=0.0, max=50.0), HTML(value='')))"
      ]
     },
     "metadata": {},
     "output_type": "display_data"
    },
    {
     "name": "stdout",
     "output_type": "stream",
     "text": [
      "Epoch: 0002\tTrainAcc: 0.5042\tTestAcc: 0.5333\tLoss: 0.7185\tLearning: 0.0500\n",
      "Epoch: 0004\tTrainAcc: 0.5042\tTestAcc: 0.5333\tLoss: 0.7097\tLearning: 0.0500\n",
      "Epoch: 0006\tTrainAcc: 0.5042\tTestAcc: 0.5333\tLoss: 0.6965\tLearning: 0.0500\n",
      "Epoch: 0008\tTrainAcc: 0.5083\tTestAcc: 0.6500\tLoss: 0.6937\tLearning: 0.0500\n",
      "Epoch: 0010\tTrainAcc: 0.5125\tTestAcc: 0.5833\tLoss: 0.6931\tLearning: 0.0500\n",
      "Epoch: 0012\tTrainAcc: 0.5375\tTestAcc: 0.6000\tLoss: 0.6923\tLearning: 0.0500\n",
      "Epoch: 0014\tTrainAcc: 0.5750\tTestAcc: 0.6000\tLoss: 0.6912\tLearning: 0.0500\n",
      "Epoch: 0016\tTrainAcc: 0.5583\tTestAcc: 0.5667\tLoss: 0.6898\tLearning: 0.0500\n",
      "Epoch: 0018\tTrainAcc: 0.5708\tTestAcc: 0.5333\tLoss: 0.6875\tLearning: 0.0500\n",
      "Epoch: 0020\tTrainAcc: 0.5667\tTestAcc: 0.5333\tLoss: 0.6840\tLearning: 0.0500\n",
      "Epoch: 0022\tTrainAcc: 0.5542\tTestAcc: 0.5000\tLoss: 0.6777\tLearning: 0.0500\n",
      "Epoch: 0024\tTrainAcc: 0.5917\tTestAcc: 0.5167\tLoss: 0.6670\tLearning: 0.0500\n",
      "Epoch: 0026\tTrainAcc: 0.6083\tTestAcc: 0.5167\tLoss: 0.6491\tLearning: 0.0500\n",
      "Epoch: 0028\tTrainAcc: 0.6083\tTestAcc: 0.5333\tLoss: 0.6281\tLearning: 0.0500\n",
      "Epoch: 0030\tTrainAcc: 0.6167\tTestAcc: 0.5000\tLoss: 0.6108\tLearning: 0.0500\n",
      "Epoch: 0032\tTrainAcc: 0.6333\tTestAcc: 0.4833\tLoss: 0.5885\tLearning: 0.0500\n",
      "Epoch: 0034\tTrainAcc: 0.6625\tTestAcc: 0.4333\tLoss: 0.5577\tLearning: 0.0500\n",
      "Epoch: 0036\tTrainAcc: 0.7000\tTestAcc: 0.5167\tLoss: 0.5215\tLearning: 0.0500\n",
      "Epoch: 0038\tTrainAcc: 0.7458\tTestAcc: 0.4833\tLoss: 0.4852\tLearning: 0.0500\n",
      "Epoch: 0040\tTrainAcc: 0.7875\tTestAcc: 0.4500\tLoss: 0.4509\tLearning: 0.0500\n",
      "Epoch: 0042\tTrainAcc: 0.7917\tTestAcc: 0.4500\tLoss: 0.4173\tLearning: 0.0500\n",
      "Epoch: 0044\tTrainAcc: 0.8042\tTestAcc: 0.4500\tLoss: 0.3853\tLearning: 0.0500\n",
      "Epoch: 0046\tTrainAcc: 0.8208\tTestAcc: 0.4500\tLoss: 0.3560\tLearning: 0.0500\n",
      "Epoch: 0048\tTrainAcc: 0.8333\tTestAcc: 0.4667\tLoss: 0.3287\tLearning: 0.0500\n",
      "Epoch: 0050\tTrainAcc: 0.8417\tTestAcc: 0.4500\tLoss: 0.3047\tLearning: 0.0500\n",
      "\n",
      "\n",
      "Printing network raw output \n",
      "\n",
      " [[-0.3396604   0.65964425]\n",
      " [ 3.9971235  -3.8133233 ]\n",
      " [ 2.2414758  -2.2300608 ]\n",
      " [-0.9677228   0.84500045]\n",
      " [ 2.172686   -2.082202  ]\n",
      " [ 0.3646782  -0.13468793]\n",
      " [ 2.9291468  -2.7384517 ]\n",
      " [ 0.13618046 -0.17339715]\n",
      " [-2.3983753   2.4996421 ]\n",
      " [ 0.7052255  -0.65886813]\n",
      " [ 0.2133823  -0.2075021 ]\n",
      " [ 0.9785574  -0.8833953 ]\n",
      " [ 4.3981285  -4.0805073 ]\n",
      " [ 5.159392   -4.695139  ]\n",
      " [-1.0091374   1.0332966 ]\n",
      " [ 4.0072465  -3.7118707 ]\n",
      " [-0.30097634  0.5165273 ]\n",
      " [ 2.0484672  -1.9902643 ]\n",
      " [ 0.5415657  -0.34852996]\n",
      " [ 3.8493364  -3.678517  ]\n",
      " [ 1.7268221  -1.461078  ]\n",
      " [ 2.2650368  -2.4047813 ]\n",
      " [-0.3460626   0.29832858]\n",
      " [ 1.252383   -1.2692014 ]\n",
      " [10.143884   -8.576653  ]\n",
      " [ 1.2689209  -1.2189146 ]\n",
      " [-0.4273696   0.40623823]\n",
      " [ 1.3794994  -1.307145  ]\n",
      " [-0.34494162  0.4080021 ]\n",
      " [-0.85200775  0.9941322 ]\n",
      " [ 1.2512736  -1.0946754 ]\n",
      " [ 0.62600166 -0.58746153]\n",
      " [ 1.5097992  -1.2530414 ]\n",
      " [ 1.0534883  -0.75971603]\n",
      " [ 0.19595957 -0.02066138]\n",
      " [ 0.4450088  -0.6202362 ]\n",
      " [-0.34483308  0.29195395]\n",
      " [-0.8021863   1.0067452 ]\n",
      " [ 1.3447881  -1.2444562 ]\n",
      " [-0.16364396  0.27110234]\n",
      " [-0.6925214   0.7999689 ]\n",
      " [ 2.2303383  -1.8769358 ]\n",
      " [ 0.12581962 -0.06863036]\n",
      " [-1.2805586   1.305887  ]\n",
      " [ 0.67467695 -0.84590644]\n",
      " [ 0.9669362  -0.80547565]\n",
      " [-0.22370476  0.4622157 ]\n",
      " [-1.753361    1.638573  ]\n",
      " [-2.1411464   2.1568298 ]\n",
      " [-0.77753603  0.74783486]\n",
      " [ 1.6389456  -1.1895857 ]\n",
      " [-1.2799962   1.101978  ]\n",
      " [ 0.5938565  -0.69677764]\n",
      " [ 0.22847253 -0.19558558]\n",
      " [-0.9492658   0.7956156 ]\n",
      " [-1.3395592   1.1997944 ]\n",
      " [-1.0139484   0.9342007 ]\n",
      " [-1.0116793   0.9620424 ]\n",
      " [-0.8380549   0.98222405]\n",
      " [-0.41111046  0.43873695]]\n",
      "\n",
      "\n",
      "Printing results :\n",
      "\n",
      "     Prediction  Target    Hit\n",
      "0            1       0  False\n",
      "1            0       0   True\n",
      "2            0       1  False\n",
      "3            1       1   True\n",
      "4            0       1  False\n",
      "5            0       0   True\n",
      "6            0       0   True\n",
      "7            0       1  False\n",
      "8            1       0  False\n",
      "9            0       1  False\n",
      "10           0       1  False\n",
      "11           0       1  False\n",
      "12           0       1  False\n",
      "13           0       0   True\n",
      "14           1       0  False\n",
      "15           0       1  False\n",
      "16           1       0  False\n",
      "17           0       0   True\n",
      "18           0       0   True\n",
      "19           0       1  False\n",
      "20           0       1  False\n",
      "21           0       1  False\n",
      "22           1       1   True\n",
      "23           0       1  False\n",
      "24           0       1  False\n",
      "25           0       1  False\n",
      "26           1       1   True\n",
      "27           0       0   True\n",
      "28           1       1   True\n",
      "29           1       0  False\n",
      "30           0       0   True\n",
      "31           0       1  False\n",
      "32           0       0   True\n",
      "33           0       0   True\n",
      "34           0       0   True\n",
      "35           0       0   True\n",
      "36           1       1   True\n",
      "37           1       1   True\n",
      "38           0       0   True\n",
      "39           1       0  False\n",
      "40           1       0  False\n",
      "41           0       1  False\n",
      "42           0       1  False\n",
      "43           1       1   True\n",
      "44           0       1  False\n",
      "45           0       1  False\n",
      "46           1       0  False\n",
      "47           1       0  False\n",
      "48           1       1   True\n",
      "49           1       1   True\n",
      "50           0       0   True\n",
      "51           1       0  False\n",
      "52           0       1  False\n",
      "53           0       0   True\n",
      "54           1       0  False\n",
      "55           1       1   True\n",
      "56           1       1   True\n",
      "57           1       1   True\n",
      "58           1       0  False\n",
      "59           1       0  False\n"
     ]
    }
   ],
   "source": [
    "with tf.Session() as sess:\n",
    "    sess.run(tf.global_variables_initializer())\n",
    "    \n",
    "    # write logs for tensorboard\n",
    "    summary_writer = tf.summary.FileWriter(logdir, graph=tf.get_default_graph())\n",
    "    \n",
    "    for epoch in tqdm(range(1, n_epochs+1)):\n",
    "        avg_loss = 0    # accumulate batch average loss for each epoch\n",
    "        \n",
    "        for i in range(0, n_train, batch_size):\n",
    "            # create batches\n",
    "            X_batch = X_train[i:i+batch_size]\n",
    "            y_batch = y_train[i:i+batch_size]\n",
    "            \n",
    "            # start model training\n",
    "            sess.run(training_op, feed_dict={X:X_batch, Y:y_batch})\n",
    "            \n",
    "            # Run optimization (backprop), cost and summary nodes\n",
    "            _, _loss, _summary = sess.run([training_op, loss, merged_summary_op],\n",
    "                                          feed_dict={X:X_batch, Y:y_batch})\n",
    "            avg_loss += _loss/n_batches\n",
    "            \n",
    "            # Write logs at every iteration\n",
    "            summary_writer.add_summary(_summary)\n",
    "            \n",
    "        # after the epoch is finished this will append the loss\n",
    "        avg_loss_list.append(avg_loss)\n",
    "            \n",
    "        # measure performance and display the results\n",
    "        if (epoch+1) % display_epoch == 0:\n",
    "            _acc_train = accuracy.eval(feed_dict={X: X_train, Y:y_train})\n",
    "            _acc_test = accuracy.eval(feed_dict={X: X_test, Y: y_test})\n",
    "            \n",
    "            # append results to lists\n",
    "            acc_train_list.append(_acc_train); acc_test_list.append(_acc_test)\n",
    "            learning_list.append(sess.run(learning_rate))\n",
    "\n",
    "            # Save model weights to disk for reproducibility\n",
    "            saver = tf.train.Saver(max_to_keep=15)\n",
    "            saver.save(sess, '{}/epoch{:04}.ckpt'.format(root_ckpoint, (epoch+1)))\n",
    "            \n",
    "            print('Epoch: {:04}\\tTrainAcc: {:04.4f}\\tTestAcc: {:04.4f}\\tLoss: {:04.4f}\\tLearning: {:04.4f}'.format((epoch+1),\n",
    "                                                                                                                   _acc_train,\n",
    "                                                                                                                   _acc_test,\n",
    "                                                                                                                   avg_loss,\n",
    "                                                                                                                   sess.run(learning_rate)))\n",
    "            \n",
    "    # store the predicted values\n",
    "    predictions = sess.run(y_pred, feed_dict={X: X_test, Y: y_test})\n",
    "    print('\\nPrinting network raw output \\n\\n', predictions)\n",
    "    predictions = tf.argmax(predictions, 1).eval()\n",
    "    \n",
    "    # output comparative table\n",
    "    dataframe = pd.DataFrame(predictions, columns=['Prediction'])\n",
    "    dataframe['Target'] = np.argmax(y_test.values, 1)\n",
    "    dataframe['Hit'] = np.equal(dataframe.Target, dataframe.Prediction)\n",
    "    print('\\n\\nPrinting results :\\n\\n', dataframe)"
   ]
  },
  {
   "cell_type": "markdown",
   "metadata": {},
   "source": [
    "##### VISUALIZE THE RESULTS"
   ]
  },
  {
   "cell_type": "code",
   "execution_count": 12,
   "metadata": {},
   "outputs": [
    {
     "data": {
      "image/png": "[encoded data removed]",
      "text/plain": [
       "<Figure size 432x288 with 1 Axes>"
      ]
     },
     "metadata": {
      "needs_background": "light"
     },
     "output_type": "display_data"
    }
   ],
   "source": [
    "%matplotlib inline\n",
    "import matplotlib.pyplot as plt\n",
    "import matplotlib.patches as mpatches\n",
    "\n",
    "# set up legend\n",
    "blue_patch = mpatches.Patch(color='blue', label='Train Accuracy [Maximize]')\n",
    "red_patch = mpatches.Patch(color='red', label='Test Accuracy [Maximize]')\n",
    "plt.legend(handles=[blue_patch,red_patch])\n",
    "\n",
    "# plot the data\n",
    "x_values = range(0, n_epochs, display_epoch)\n",
    "plt.plot(x_values, acc_train_list, color='blue')\n",
    "plt.plot(x_values, acc_test_list, color='red')\n",
    "\n",
    "plt.xlabel('epochs')\n",
    "plt.ylabel('score');"
   ]
  },
  {
   "cell_type": "markdown",
   "metadata": {},
   "source": [
    "##### LEARNING RATE EVOLUTION"
   ]
  },
  {
   "cell_type": "code",
   "execution_count": 13,
   "metadata": {},
   "outputs": [
    {
     "data": {
      "image/png": "[encoded data removed]",
      "text/plain": [
       "<Figure size 432x288 with 1 Axes>"
      ]
     },
     "metadata": {
      "needs_background": "light"
     },
     "output_type": "display_data"
    }
   ],
   "source": [
    "or_patch = mpatches.Patch(color='orange', label='Learning rate')\n",
    "plt.legend(handles=[or_patch])\n",
    "\n",
    "plt.plot(x_values, learning_list, color='orange');\n",
    "plt.xlabel('epochs'.format(display_epoch))\n",
    "plt.ylabel('learning rate');"
   ]
  },
  {
   "cell_type": "code",
   "execution_count": null,
   "metadata": {},
   "outputs": [],
   "source": []
  }
 ],
 "metadata": {
  "kernelspec": {
   "display_name": "Python 3",
   "language": "python",
   "name": "python3"
  },
  "language_info": {
   "codemirror_mode": {
    "name": "ipython",
    "version": 3
   },
   "file_extension": ".py",
   "mimetype": "text/x-python",
   "name": "python",
   "nbconvert_exporter": "python",
   "pygments_lexer": "ipython3",
   "version": "3.5.6"
  }
 },
 "nbformat": 4,
 "nbformat_minor": 2
}
